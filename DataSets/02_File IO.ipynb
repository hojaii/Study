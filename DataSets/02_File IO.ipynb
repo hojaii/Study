{
 "cells": [
  {
   "cell_type": "code",
   "execution_count": 1,
   "id": "dcf86fc5",
   "metadata": {},
   "outputs": [],
   "source": [
    "# 파일 쓰기\n",
    "# 파일 모드 : 종류 t(텍스트: default), b(바이너리)\n",
    "# 파일 액션 : 액션 w(쓰기), a(추가), r(읽기: default)\n",
    "f = open(\"./test.txt\", \"w\", encoding=\"utf-8\")\n",
    "# 내용기록\n",
    "f.write(\"Life is too short, You need Python\")\n",
    "f.close()"
   ]
  },
  {
   "cell_type": "code",
   "execution_count": 2,
   "id": "219575c9",
   "metadata": {},
   "outputs": [
    {
     "name": "stdout",
     "output_type": "stream",
     "text": [
      "Life is too short, You need Python\n"
     ]
    }
   ],
   "source": [
    "# 파일 읽기\n",
    "f = open(\"./test.txt\", encoding=\"utf-8\")\n",
    "text= f.read()\n",
    "print(text)\n",
    "f.close()"
   ]
  },
  {
   "cell_type": "code",
   "execution_count": 3,
   "id": "d7345317",
   "metadata": {},
   "outputs": [],
   "source": [
    "# 여러 줄 쓰기\n",
    "f = open(\"./multilines.txt\", \"w\", encoding =\"utf-8\")\n",
    "for i in range(1, 11):\n",
    "    f.write(\"Line %d\\n\" % i)\n",
    "f.close()"
   ]
  },
  {
   "cell_type": "code",
   "execution_count": 4,
   "id": "5d4b658e",
   "metadata": {
    "scrolled": true
   },
   "outputs": [
    {
     "name": "stdout",
     "output_type": "stream",
     "text": [
      "Line 1\n",
      "\n",
      "Line 2\n",
      "\n",
      "Line 3\n",
      "\n",
      "Line 4\n",
      "\n",
      "Line 5\n",
      "\n",
      "Line 6\n",
      "\n",
      "Line 7\n",
      "\n",
      "Line 8\n",
      "\n",
      "Line 9\n",
      "\n",
      "Line 10\n",
      "\n"
     ]
    }
   ],
   "source": [
    "# 여러 줄 읽기\n",
    "f = open(\"./multilines.txt\", encoding=\"utf-8\")\n",
    "while True:\n",
    "    line = f.readline() # 한줄 읽기\n",
    "    if not line: # 더이상 읽을 데이터가 없다\n",
    "        break\n",
    "    print(line)\n",
    "f.close()"
   ]
  },
  {
   "cell_type": "code",
   "execution_count": 5,
   "id": "b66be2c3",
   "metadata": {},
   "outputs": [],
   "source": [
    "# 바이너리 파일을 다룰 때는 모드가 b\n",
    "# datasets/python.png -> datasets/prython_copy.png\n",
    "f_src = open(\"./python.png\", \"br\")\n",
    "data = f_src.read()\n",
    "f_src.close()\n",
    "\n",
    "f_target = open(\"./python_copy.png\", \"bw\")\n",
    "f_target.write(data)\n",
    "f_target.close()\n"
   ]
  },
  {
   "cell_type": "code",
   "execution_count": 6,
   "id": "a9c3ba64",
   "metadata": {
    "scrolled": true
   },
   "outputs": [
    {
     "name": "stdout",
     "output_type": "stream",
     "text": [
      "Line 1\n",
      "\n",
      "Line 2\n",
      "\n",
      "Line 3\n",
      "\n",
      "Line 4\n",
      "\n",
      "Line 5\n",
      "\n",
      "Line 6\n",
      "\n",
      "Line 7\n",
      "\n",
      "Line 8\n",
      "\n",
      "Line 9\n",
      "\n",
      "Line 10\n",
      "\n"
     ]
    }
   ],
   "source": [
    "# with ~ as문을 사용하면 자원을 다 쓴 후 자동으로 close\n",
    "with open(\"./multilines.txt\", encoding = \"utf-8\") as f:\n",
    "    for line in f.readlines():\n",
    "        print(line)\n",
    "        \n",
    "# with문이 끝나면 자동으로 close()됨"
   ]
  },
  {
   "cell_type": "code",
   "execution_count": 7,
   "id": "0bd1fa7c",
   "metadata": {},
   "outputs": [],
   "source": [
    "# pickle\n",
    "# 객체를 바이너리 형태로 저장\n",
    "import pickle\n",
    "\n",
    "data = {\"baseball :\", 9}\n",
    "with open(\"./players.bin\", \"wb\") as f: # 반드시 b모드\n",
    "    pickle.dump(data, f)"
   ]
  },
  {
   "cell_type": "code",
   "execution_count": 8,
   "id": "2a7f5fcc",
   "metadata": {},
   "outputs": [
    {
     "name": "stdout",
     "output_type": "stream",
     "text": [
      "{9, 'baseball :'} <class 'set'>\n"
     ]
    }
   ],
   "source": [
    "# 객체의 복원 : load\n",
    "with open(\"./players.bin\", \"rb\") as f :\n",
    "    recover = pickle.load(f)\n",
    "\n",
    "print(recover, type(recover))"
   ]
  },
  {
   "cell_type": "code",
   "execution_count": 9,
   "id": "78ebf6fc",
   "metadata": {},
   "outputs": [],
   "source": [
    "# 여러 개의 피클 저장\n",
    "with open(\"./players.bin\", \"wb\") as f :\n",
    "    pickle.dump({\"baseball\" : 9}, f)\n",
    "    pickle.dump({\"basketball\" : 5}, f)\n",
    "    pickle.dump({\"soccer\" : 11}, f)"
   ]
  },
  {
   "cell_type": "code",
   "execution_count": 10,
   "id": "b587b5d8",
   "metadata": {},
   "outputs": [
    {
     "name": "stdout",
     "output_type": "stream",
     "text": [
      "{'baseball': 9}\n",
      "{'basketball': 5}\n",
      "{'soccer': 11}\n"
     ]
    },
    {
     "ename": "EOFError",
     "evalue": "Ran out of input",
     "output_type": "error",
     "traceback": [
      "\u001b[1;31m---------------------------------------------------------------------------\u001b[0m",
      "\u001b[1;31mEOFError\u001b[0m                                  Traceback (most recent call last)",
      "\u001b[1;32m~\\AppData\\Local\\Temp/ipykernel_2788/1887934982.py\u001b[0m in \u001b[0;36m<module>\u001b[1;34m\u001b[0m\n\u001b[0;32m      4\u001b[0m     \u001b[0mprint\u001b[0m\u001b[1;33m(\u001b[0m\u001b[0mpickle\u001b[0m\u001b[1;33m.\u001b[0m\u001b[0mload\u001b[0m\u001b[1;33m(\u001b[0m\u001b[0mf\u001b[0m\u001b[1;33m)\u001b[0m\u001b[1;33m)\u001b[0m\u001b[1;33m\u001b[0m\u001b[1;33m\u001b[0m\u001b[0m\n\u001b[0;32m      5\u001b[0m     \u001b[0mprint\u001b[0m\u001b[1;33m(\u001b[0m\u001b[0mpickle\u001b[0m\u001b[1;33m.\u001b[0m\u001b[0mload\u001b[0m\u001b[1;33m(\u001b[0m\u001b[0mf\u001b[0m\u001b[1;33m)\u001b[0m\u001b[1;33m)\u001b[0m\u001b[1;33m\u001b[0m\u001b[1;33m\u001b[0m\u001b[0m\n\u001b[1;32m----> 6\u001b[1;33m     \u001b[0mprint\u001b[0m\u001b[1;33m(\u001b[0m\u001b[0mpickle\u001b[0m\u001b[1;33m.\u001b[0m\u001b[0mload\u001b[0m\u001b[1;33m(\u001b[0m\u001b[0mf\u001b[0m\u001b[1;33m)\u001b[0m\u001b[1;33m)\u001b[0m \u001b[1;31m# EOF 에러\u001b[0m\u001b[1;33m\u001b[0m\u001b[1;33m\u001b[0m\u001b[0m\n\u001b[0m",
      "\u001b[1;31mEOFError\u001b[0m: Ran out of input"
     ]
    }
   ],
   "source": [
    "# 복수 개의 피클 복원\n",
    "with open(\"./players.bin\", \"rb\") as f:\n",
    "    print(pickle.load(f))\n",
    "    print(pickle.load(f))\n",
    "    print(pickle.load(f))\n",
    "    print(pickle.load(f)) # EOF 에러"
   ]
  },
  {
   "cell_type": "code",
   "execution_count": null,
   "id": "a1b9fc3b",
   "metadata": {},
   "outputs": [],
   "source": [
    "with open(\"./players.bin\", \"rb\") as f :\n",
    "    while True:\n",
    "        try:\n",
    "            print(pickle.load(f))\n",
    "        except EOFError: # 더이상 읽을 파일이 없다\n",
    "            break"
   ]
  }
 ],
 "metadata": {
  "kernelspec": {
   "display_name": "Python [conda env:data-env] *",
   "language": "python",
   "name": "conda-env-data-env-py"
  },
  "language_info": {
   "codemirror_mode": {
    "name": "ipython",
    "version": 3
   },
   "file_extension": ".py",
   "mimetype": "text/x-python",
   "name": "python",
   "nbconvert_exporter": "python",
   "pygments_lexer": "ipython3",
   "version": "3.8.12"
  }
 },
 "nbformat": 4,
 "nbformat_minor": 5
}
