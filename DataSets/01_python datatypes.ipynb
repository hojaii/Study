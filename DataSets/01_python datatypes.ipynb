{
 "cells": [
  {
   "cell_type": "code",
   "execution_count": 1,
   "id": "5b04991f",
   "metadata": {},
   "outputs": [
    {
     "name": "stdout",
     "output_type": "stream",
     "text": [
      "[] <class 'list'>\n",
      "[1, 2, 'python'] <class 'list'>\n"
     ]
    }
   ],
   "source": [
    "# 리스트 정의\n",
    "# list()\n",
    "lst1 = list() # 빈리스트\n",
    "print(lst1, type(lst1))\n",
    "# []\n",
    "lst2 = [1, 2, 'python']\n",
    "print(lst2, type(lst2))"
   ]
  },
  {
   "cell_type": "code",
   "execution_count": 2,
   "id": "b9f9868b",
   "metadata": {},
   "outputs": [
    {
     "name": "stdout",
     "output_type": "stream",
     "text": [
      "[1, 2, 'python', 4, 5] length 5\n",
      "1 2 python 4 5\n",
      "5 4 python 2 1\n"
     ]
    }
   ],
   "source": [
    "# 리스트의 연산\n",
    "lst = [1, 2, 'python', 4, 5]\n",
    "\n",
    "# 길이의 확인 : len() 함수\n",
    "print(lst, 'length', len(lst))\n",
    "\n",
    "# 인덱싱 : 0 ~ len(lst) -1\n",
    "# 정방향 인덱싱\n",
    "print(lst[0], lst[1], lst[2], lst[3], lst[4])\n",
    "# 역방향 인덱싱\n",
    "print(lst[-1], lst[-2], lst[-3], lst[-4], lst[-5])"
   ]
  },
  {
   "cell_type": "code",
   "execution_count": 3,
   "id": "7dddae93",
   "metadata": {},
   "outputs": [
    {
     "name": "stdout",
     "output_type": "stream",
     "text": [
      "['python', 4]\n",
      "[1, 2, 'python']\n",
      "[1, 2, 'python']\n",
      "['python', 4, 5]\n",
      "['python', 4, 5]\n",
      "[1, 'python', 5]\n",
      "[5, 4, 'python', 2, 1]\n",
      "[]\n",
      "[5, 4, 'python', 2]\n"
     ]
    }
   ],
   "source": [
    "# 슬라이싱\n",
    "lst = [1, 2, 'python', 4, 5]\n",
    "# [시작경계:끝경계]\n",
    "# [시작경계:끝경계:간격]\n",
    "\n",
    "print(lst[2:4])\n",
    "print (lst[0:3])\n",
    "\n",
    "# 시작부터의 슬라이싱은 생략이 가능함\n",
    "print (lst[:3])\n",
    "print (lst[2:len(lst)])\n",
    "print (lst[2:])\n",
    "\n",
    "print(lst[::2])\n",
    "print(lst[::-1])\n",
    "print(lst[0:len(lst):-1])\n",
    "print(lst[len(lst):0:-1])"
   ]
  },
  {
   "cell_type": "code",
   "execution_count": 4,
   "id": "bded2db4",
   "metadata": {},
   "outputs": [
    {
     "name": "stdout",
     "output_type": "stream",
     "text": [
      "[1, 2, 'python', 4, 5, 'Java', 6, 7]\n",
      "[1, 2, 'python', 4, 5]\n",
      "[1, 2, 'python', 4, 5]\n",
      "append: [1, 2, 'python', 4, 5, ['Java', 6, 7]]\n",
      "extend: [1, 2, 'python', 4, 5, 'Java', 6, 7]\n"
     ]
    }
   ],
   "source": [
    "# 연결연산 +\n",
    "print(lst + [\"Java\", 6, 7])\n",
    "print(lst)\n",
    "\n",
    "# append vs extend\n",
    "copy_lst = lst[:] #전체 복사\n",
    "print(copy_lst)\n",
    "copy_lst.append([\"Java\", 6, 7])\n",
    "print(\"append:\", copy_lst)\n",
    "\n",
    "copy_lst = lst[:]\n",
    "copy_lst.extend([\"Java\", 6, 7])\n",
    "print(\"extend:\", copy_lst)"
   ]
  },
  {
   "cell_type": "code",
   "execution_count": 5,
   "id": "497b1556",
   "metadata": {},
   "outputs": [
    {
     "name": "stdout",
     "output_type": "stream",
     "text": [
      "() <class 'tuple'>\n",
      "() <class 'tuple'>\n",
      "(10,) <class 'tuple'>\n"
     ]
    }
   ],
   "source": [
    "# 튜플\n",
    "# 튜플의 정의\n",
    "tp = tuple() # 공튜플\n",
    "print(tp, type(tp))\n",
    "\n",
    "tp = () # 공튜플\n",
    "\n",
    "print(tp, type(tp))\n",
    "\n",
    "tp = (10,)\n",
    "print(tp, type(tp))"
   ]
  },
  {
   "cell_type": "code",
   "execution_count": 6,
   "id": "b9aa370f",
   "metadata": {},
   "outputs": [
    {
     "name": "stdout",
     "output_type": "stream",
     "text": [
      "10 20 30\n",
      "10 20\n",
      "20 10\n"
     ]
    }
   ],
   "source": [
    "# 튜플의 할당\n",
    "x, y, z = 10, 20, 30 # python이 기호가 없어도 튜플로 인식함\n",
    "print (x, y, z)\n",
    "a,b = 10, 20\n",
    "print (a, b)\n",
    "# swap\n",
    "a, b = b, a\n",
    "print (a, b)"
   ]
  },
  {
   "cell_type": "code",
   "execution_count": 7,
   "id": "13c4f48f",
   "metadata": {},
   "outputs": [
    {
     "name": "stdout",
     "output_type": "stream",
     "text": [
      "(10, 20, 30) <class 'tuple'>\n",
      "10 20 30\n"
     ]
    }
   ],
   "source": [
    "# 함수는 여러 값을 리턴 할 수 있는데, 튜플로 패킹되기 때문\n",
    "def func():\n",
    "    return 10, 20, 30 \n",
    "\n",
    "ret = func()\n",
    "print (ret, type(ret))\n",
    "\n",
    "ret1, ret2, ret3 = func()\n",
    "print(ret1, ret2, ret3)"
   ]
  },
  {
   "cell_type": "code",
   "execution_count": 8,
   "id": "aeee5609",
   "metadata": {},
   "outputs": [
    {
     "name": "stdout",
     "output_type": "stream",
     "text": [
      "(10, 20, 30, 40) <class 'tuple'>\n",
      "10 20 30 40\n"
     ]
    }
   ],
   "source": [
    "tp = 10, 20, 30, 40 # PYthon은 ()기호가 없어도 튜플로 인식함\n",
    "print(tp, type(tp))\n",
    "# 기본 언패킹 : 튜플로 되어있는 자료 -> 해제하는 작업\n",
    "\n",
    "a, b, c, d = tp\n",
    "print (a, b, c, d)\n",
    "\n",
    "# 좌변의 변수 개수와 우변의 값의 개수가 다를때는 Valueerror가 생긴다\n",
    "# a, b, c = t"
   ]
  },
  {
   "cell_type": "code",
   "execution_count": 9,
   "id": "24eea1f1",
   "metadata": {},
   "outputs": [
    {
     "name": "stdout",
     "output_type": "stream",
     "text": [
      "10 <class 'int'>\n",
      "[20, 30, 40] <class 'list'>\n",
      "10 <class 'int'>\n",
      "[20, 30] <class 'list'>\n",
      "40 <class 'int'>\n"
     ]
    }
   ],
   "source": [
    "# 확장 언패킹\n",
    "a, *b =tp \n",
    "print(a, type(a))\n",
    "print(b, type(b))\n",
    "\n",
    "a, *b, c= tp # 앞에서 한개, 뒤에서 한개\n",
    "print(a, type(a))\n",
    "print(b, type(b))\n",
    "print(c, type(c))\n"
   ]
  },
  {
   "cell_type": "code",
   "execution_count": 10,
   "id": "6232270b",
   "metadata": {},
   "outputs": [
    {
     "name": "stdout",
     "output_type": "stream",
     "text": [
      "set() <class 'set'>\n",
      "{} <class 'dict'>\n"
     ]
    }
   ],
   "source": [
    "# set (집합)\n",
    "# 순서가없고 중복을 허용하지않음\n",
    "# len, in, not in 등만 허용\n",
    "# {} : 요소가 없는 집합은 이 방식이 허용되지 않음\n",
    "s = set()\n",
    "print(s, type(s))\n",
    "s = {} # set가 아니라 dict\n",
    "print(s, type(s))\n"
   ]
  },
  {
   "cell_type": "code",
   "execution_count": 11,
   "id": "bd1241dd",
   "metadata": {},
   "outputs": [
    {
     "name": "stdout",
     "output_type": "stream",
     "text": [
      "전체집합 :  {1, 2, 3, 4, 5, 6, 7, 8, 9, 10}\n",
      "짝수집합 :  {2, 4, 6, 8, 10}\n",
      "홀수집합 :  {1, 3, 5, 7, 9}\n",
      "3의배수집합 :  {9, 3, 6}\n"
     ]
    }
   ],
   "source": [
    "numbers = {1, 2, 3, 4, 5, 6, 7, 8, 9, 10}\n",
    "evens = {2, 4, 6, 8, 10}\n",
    "odds = {1, 3, 5, 7,  9}\n",
    "mthree = {3, 6, 9}\n",
    "\n",
    "print(\"전체집합 : \", numbers)\n",
    "print(\"짝수집합 : \", evens)\n",
    "print(\"홀수집합 : \", odds)\n",
    "print(\"3의배수집합 : \", mthree)\n"
   ]
  },
  {
   "cell_type": "code",
   "execution_count": 12,
   "id": "add3f9b6",
   "metadata": {},
   "outputs": [
    {
     "name": "stdout",
     "output_type": "stream",
     "text": [
      "{'h', 'y', 't', 'r', 'g', 'a', 'i', 'o', 'm', 'n', 'p'} <class 'str'>\n",
      "사용된 총 알파벳 수 : 11\n"
     ]
    }
   ],
   "source": [
    "# 다른 순차형을 Set으로 변환\n",
    "s = \"Python Programming\" # str도 순차형\n",
    "s = s.lower().replace(\" \", \"\") # 대문자를 소문자로, 공백을 제거\n",
    "chars = set(s)\n",
    "print(chars, type(s))\n",
    "print (\"사용된 총 알파벳 수 :\", len(chars))\n"
   ]
  },
  {
   "cell_type": "code",
   "execution_count": 13,
   "id": "9b5da780",
   "metadata": {},
   "outputs": [
    {
     "name": "stdout",
     "output_type": "stream",
     "text": [
      "{1, 2, 3, 4, 5, 6, 7, 8, 9, 10}\n",
      "{2, 3, 4, 6, 8, 10}\n",
      "{2, 4, 6, 8, 10}\n",
      "{2, 4, 6, 8, 10}\n",
      "삭제할 것이 없다\n",
      "{1, 2, 3, 4, 5, 6, 7, 8, 9, 10}\n"
     ]
    }
   ],
   "source": [
    "# set의 메서드\n",
    "numbers.add(10) # 중복은 추가되지 않음\n",
    "print(numbers)\n",
    "\n",
    "evens.add(3) # 요소의 추가\n",
    "print(evens)\n",
    "\n",
    "evens.discard(3) # 요소의 삭제\n",
    "print(evens)\n",
    "\n",
    "evens. discard(11) # 없는 요소를 삭제하려고 해도 에러가 생기지않음\n",
    "print(evens)\n",
    "\n",
    "if 3 in evens:\n",
    "    evens. remove(3) # if문 없이 없는요소를 삭제하려고 하면 에러가 생김\n",
    "else:\n",
    "    print(\"삭제할 것이 없다\")\n",
    "    \n",
    "# 여러 요소들을 추가할 경우\n",
    "numbers.update({8, 9, 10})\n",
    "print(numbers)\n"
   ]
  },
  {
   "cell_type": "code",
   "execution_count": 14,
   "id": "be4de588",
   "metadata": {},
   "outputs": [
    {
     "name": "stdout",
     "output_type": "stream",
     "text": [
      "True\n",
      "True\n",
      "True\n",
      "True\n",
      "True\n",
      "True\n"
     ]
    }
   ],
   "source": [
    "# 집합 연산\n",
    "# 교집함 &, intersection\n",
    "# 홀수 집합과 3의 배수집합의 교집합\n",
    "print(odds & mthree == {3,9})\n",
    "print(odds.intersection(mthree) == {3,9})\n",
    "\n",
    "# 합집합은 |, union\n",
    "# 홀수 집합과 짝수 집합의 합집합\n",
    "print(odds | evens == numbers)\n",
    "print(odds.union(evens) == numbers)\n",
    "\n",
    "# 차집합은 -, difference\n",
    "print(numbers - evens == odds)\n",
    "print(numbers.difference(evens) == odds)"
   ]
  },
  {
   "cell_type": "code",
   "execution_count": 15,
   "id": "af3971ec",
   "metadata": {},
   "outputs": [
    {
     "name": "stdout",
     "output_type": "stream",
     "text": [
      "True\n",
      "True\n"
     ]
    }
   ],
   "source": [
    "# 교집합, 부분집합 판별\n",
    "# 짝수 집합이 numbers 집합의 부분집합?\n",
    "\n",
    "print(evens.issubset(numbers)) # 부분집합 판별\n",
    "print(numbers.issuperset(evens))"
   ]
  },
  {
   "cell_type": "code",
   "execution_count": 16,
   "id": "7dc490c2",
   "metadata": {},
   "outputs": [
    {
     "name": "stdout",
     "output_type": "stream",
     "text": [
      "최소점수 : 70\n",
      "최고점수 : 90\n",
      "총점 : 400\n",
      "평균 : 80.0\n"
     ]
    }
   ],
   "source": [
    "# 순차형은 min, max, sum 지원\n",
    "scores = [80, 90, 70, 85, 75]\n",
    "print(\"최소점수 :\" , min(scores))\n",
    "print(\"최고점수 :\", max(scores))\n",
    "print(\"총점 :\", sum(scores))\n",
    "print(\"평균 :\", sum(scores) / len(scores))"
   ]
  },
  {
   "cell_type": "code",
   "execution_count": 17,
   "id": "23963af9",
   "metadata": {},
   "outputs": [
    {
     "name": "stdout",
     "output_type": "stream",
     "text": [
      "range(0, 10) <class 'range'>\n",
      "[0, 1, 2, 3, 4, 5, 6, 7, 8, 9]\n",
      "range(2, 10) <class 'range'>\n",
      "[2, 3, 4, 5, 6, 7, 8, 9]\n",
      "range(2, 10, 2) <class 'range'>\n",
      "[2, 4, 6, 8]\n",
      "range(0, -10, -2) <class 'range'>\n",
      "[0, -2, -4, -6, -8]\n"
     ]
    }
   ],
   "source": [
    "# range : 범위\n",
    "# 연속된 정수 반환\n",
    "# 인자가 1개 -> stop\n",
    "seq = range(10) # start = 0, stop = 10, step =1(기본), 10은 미포함\n",
    "print(seq, type(seq))\n",
    "print(list(seq))\n",
    "\n",
    "# 인자가 2개 -> 시작값, 끝경계\n",
    "seq2 = range(2, 10) # start =2 , stop = 10 step = 1\n",
    "print(seq2, type(seq2))\n",
    "print(list(seq2))\n",
    "\n",
    "# 인자가 3개 -> 시작값, 끝경계, 간격값\n",
    "seq3 = range(2, 10, 2) # start =2 , stop = 10, step =2\n",
    "print(seq3, type(seq3))\n",
    "print(list(seq3))\n",
    "\n",
    "# 간격값이 음수면 방향이 반대\n",
    "seq4 = range (0, -10, -2) # start =0, stop = -10, step = -2\n",
    "print(seq4, type(seq4))\n",
    "print(list(seq4))"
   ]
  },
  {
   "cell_type": "code",
   "execution_count": 18,
   "id": "6c453cb8",
   "metadata": {},
   "outputs": [
    {
     "name": "stdout",
     "output_type": "stream",
     "text": [
      "[0, 2, 4, 6, 8, 10, 12, 14, 16, 18, 20, 22, 24, 26, 28, 30, 32, 34, 36, 38, 40, 42, 44, 46, 48, 50, 52, 54, 56, 58, 60, 62, 64, 66, 68, 70, 72, 74, 76, 78, 80, 82, 84, 86, 88, 90, 92, 94, 96, 98]\n",
      "길이 :  50\n",
      "0 2 4\n",
      "98 96 94\n"
     ]
    }
   ],
   "source": [
    "# range객체도 순차형\n",
    "# 길이, 포함여부 확인, 인덱싱, 슬라이싱도 가능하지만 변경은 불가능\n",
    "seq = range(0, 100, 2)\n",
    "print(list(seq))\n",
    "print(\"길이 : \", len(seq))\n",
    "print(seq[0], seq[1], seq[2]) # 정방향 인덱싱\n",
    "print(seq[-1], seq[-2], seq[-3]) # 역방향 인덱싱"
   ]
  },
  {
   "cell_type": "code",
   "execution_count": 19,
   "id": "e2e51ea5",
   "metadata": {},
   "outputs": [
    {
     "name": "stdout",
     "output_type": "stream",
     "text": [
      "range(0, 6, 2)\n"
     ]
    }
   ],
   "source": [
    "print(seq[:3]) # 슬라이싱 -> 변경 불가\n",
    "\n",
    "# for 루프를 사용시 활용\n"
   ]
  },
  {
   "cell_type": "code",
   "execution_count": 20,
   "id": "4395157d",
   "metadata": {},
   "outputs": [
    {
     "name": "stdout",
     "output_type": "stream",
     "text": [
      "1 * 1 = 1\n",
      "1 * 2 = 2\n",
      "1 * 3 = 3\n",
      "1 * 4 = 4\n",
      "1 * 5 = 5\n",
      "1 * 6 = 6\n",
      "1 * 7 = 7\n",
      "1 * 8 = 8\n",
      "1 * 9 = 9\n",
      "\n",
      "2 * 1 = 2\n",
      "2 * 2 = 4\n",
      "2 * 3 = 6\n",
      "2 * 4 = 8\n",
      "2 * 5 = 10\n",
      "2 * 6 = 12\n",
      "2 * 7 = 14\n",
      "2 * 8 = 16\n",
      "2 * 9 = 18\n",
      "\n",
      "3 * 1 = 3\n",
      "3 * 2 = 6\n",
      "3 * 3 = 9\n",
      "3 * 4 = 12\n",
      "3 * 5 = 15\n",
      "3 * 6 = 18\n",
      "3 * 7 = 21\n",
      "3 * 8 = 24\n",
      "3 * 9 = 27\n",
      "\n",
      "4 * 1 = 4\n",
      "4 * 2 = 8\n",
      "4 * 3 = 12\n",
      "4 * 4 = 16\n",
      "4 * 5 = 20\n",
      "4 * 6 = 24\n",
      "4 * 7 = 28\n",
      "4 * 8 = 32\n",
      "4 * 9 = 36\n",
      "\n",
      "5 * 1 = 5\n",
      "5 * 2 = 10\n",
      "5 * 3 = 15\n",
      "5 * 4 = 20\n",
      "5 * 5 = 25\n",
      "5 * 6 = 30\n",
      "5 * 7 = 35\n",
      "5 * 8 = 40\n",
      "5 * 9 = 45\n",
      "\n",
      "6 * 1 = 6\n",
      "6 * 2 = 12\n",
      "6 * 3 = 18\n",
      "6 * 4 = 24\n",
      "6 * 5 = 30\n",
      "6 * 6 = 36\n",
      "6 * 7 = 42\n",
      "6 * 8 = 48\n",
      "6 * 9 = 54\n",
      "\n",
      "7 * 1 = 7\n",
      "7 * 2 = 14\n",
      "7 * 3 = 21\n",
      "7 * 4 = 28\n",
      "7 * 5 = 35\n",
      "7 * 6 = 42\n",
      "7 * 7 = 49\n",
      "7 * 8 = 56\n",
      "7 * 9 = 63\n",
      "\n",
      "8 * 1 = 8\n",
      "8 * 2 = 16\n",
      "8 * 3 = 24\n",
      "8 * 4 = 32\n",
      "8 * 5 = 40\n",
      "8 * 6 = 48\n",
      "8 * 7 = 56\n",
      "8 * 8 = 64\n",
      "8 * 9 = 72\n",
      "\n",
      "9 * 1 = 9\n",
      "9 * 2 = 18\n",
      "9 * 3 = 27\n",
      "9 * 4 = 36\n",
      "9 * 5 = 45\n",
      "9 * 6 = 54\n",
      "9 * 7 = 63\n",
      "9 * 8 = 72\n",
      "9 * 9 = 81\n",
      "\n"
     ]
    }
   ],
   "source": [
    "for num1 in range(1,10):\n",
    "    for num2 in range(1,10):\n",
    "        print(num1,\"*\",num2,\"=\", num1*num2)\n",
    "    print()"
   ]
  },
  {
   "cell_type": "code",
   "execution_count": 21,
   "id": "268fc177",
   "metadata": {},
   "outputs": [
    {
     "name": "stdout",
     "output_type": "stream",
     "text": [
      "1번째 색깔은 red입니다\n",
      "2번째 색깔은 yellow입니다\n",
      "3번째 색깔은 blue입니다\n",
      "4번째 색깔은 white입니다\n",
      "5번째 색깔은 green입니다\n"
     ]
    }
   ],
   "source": [
    "# enumerate ㅎㅁ수\n",
    "# 순차자료형에서 현재 아이템의 index도 필요할때 사용\n",
    "colors = ['red', 'yellow', 'blue', 'white', 'green']\n",
    "# _번째 색깔은 red형태로 출력\n",
    "i=0\n",
    "for color in colors:\n",
    "    print(\"{0}번째 색깔은 {1}입니다\".format(i + 1, color))\n",
    "    i += 1\n",
    "    "
   ]
  },
  {
   "cell_type": "code",
   "execution_count": 22,
   "id": "b8409711",
   "metadata": {},
   "outputs": [
    {
     "name": "stdout",
     "output_type": "stream",
     "text": [
      "1번째 색상은 red입니다\n",
      "2번째 색상은 yellow입니다\n",
      "3번째 색상은 blue입니다\n",
      "4번째 색상은 white입니다\n",
      "5번째 색상은 green입니다\n"
     ]
    }
   ],
   "source": [
    "# enumerate 함수를 사용하면 튜플로 내부데이터의 인덱스도 함께 받을수있다\n",
    "for index, color in enumerate(colors):\n",
    "    print(\"{0}번째 색상은 {1}입니다\".format(index + 1, color))"
   ]
  },
  {
   "cell_type": "code",
   "execution_count": 23,
   "id": "7a404809",
   "metadata": {},
   "outputs": [
    {
     "name": "stdout",
     "output_type": "stream",
     "text": [
      "<zip object at 0x0000020605FD3840> <class 'zip'>\n",
      "('Sun', '일요일') <class 'tuple'>\n",
      "('Mon', '월요일') <class 'tuple'>\n",
      "('Tue', '화요일') <class 'tuple'>\n",
      "('Wed', '수요일') <class 'tuple'>\n",
      "영어Sun => 한국어 일요일\n",
      "영어Mon => 한국어 월요일\n",
      "영어Tue => 한국어 화요일\n",
      "영어Wed => 한국어 수요일\n"
     ]
    }
   ],
   "source": [
    "# zip 객체\n",
    "# 여러 개의 순차형을 쌍으로 묶어서 짝지어 주는 객체\n",
    "english = 'Sun', 'Mon', 'Tue', 'Wed', 'Thu' # 튜플\n",
    "korean = '일요일', '월요일', '화요일', '수요일' # 튜플\n",
    "# 짝을 지을 때, 짧은 쪽으로 맞춰진다\n",
    "engkor = zip(english, korean)\n",
    "print(engkor, type(engkor))\n",
    "\n",
    "# 기본 루프\n",
    "for pair in engkor:\n",
    "    print(pair, type(pair))\n",
    "    \n",
    "# 한번 순회하면 내용이 비어버린다\n",
    "engkor = zip(english, korean)\n",
    "\n",
    "# 언패킹 순회\n",
    "for eng, kor in engkor:\n",
    "    print(\"영어{0} => 한국어 {1}\".format(eng, kor))"
   ]
  },
  {
   "cell_type": "code",
   "execution_count": 24,
   "id": "5c44231c",
   "metadata": {},
   "outputs": [
    {
     "name": "stdout",
     "output_type": "stream",
     "text": [
      "원본 [1, 2, 3, 4, 5]\n",
      "5\t4\t3\t2\t1\t\n",
      "원본 : [1, 2, 3, 4, 5]\n"
     ]
    }
   ],
   "source": [
    "# reversed 함수 vs reverse 메서드\n",
    "# 순차형의 순서를 뒤집는다 -> 공통점\n",
    "# 차이점\n",
    "# -reverse 함수 -> 원본을 유지\n",
    "# -reverse 메서드 -> 리스트 원본 자체를 변경\n",
    "nums = [1, 2, 3, 4, 5]\n",
    "print(\"원본\" , nums)\n",
    "\n",
    "for item in reversed(nums): # 원본 유지\n",
    "    print(item, end = \"\\t\")\n",
    "    \n",
    "print(\"\\n원본 :\", nums)"
   ]
  },
  {
   "cell_type": "code",
   "execution_count": 25,
   "id": "66bc5479",
   "metadata": {},
   "outputs": [
    {
     "name": "stdout",
     "output_type": "stream",
     "text": [
      "원본 :  [10, 2, 22, 9, 8, 33, 4, 12]\n",
      "기본정렬 :  [2, 4, 8, 9, 10, 12, 22, 33]\n",
      "역순정렬 :  [33, 22, 12, 10, 9, 8, 4, 2]\n",
      "4로나눈 나머지의 오름차순 정렬 :  [8, 4, 12, 9, 33, 10, 2, 22]\n",
      "4로나눈 나머지의 역순 정렬 :  [10, 2, 22, 9, 33, 8, 4, 12]\n"
     ]
    }
   ],
   "source": [
    "# 정령\n",
    "lst = [10, 2, 22, 9, 8, 33, 4, 12]\n",
    "print(\"원본 : \", lst)\n",
    "\n",
    "print(\"기본정렬 : \", sorted(lst))\n",
    "\n",
    "print(\"역순정렬 : \", sorted(lst, reverse=True))\n",
    "\n",
    "# 정렬 기준 변경하려면 key 함수 전달\n",
    "# 예) 요소를 4로 나눈 나머지의 오름차순으로 정렬\n",
    "\n",
    "def key_func(val):\n",
    "    return val % 4 \n",
    "\n",
    "print(\"4로나눈 나머지의 오름차순 정렬 : \", sorted(lst, key=key_func))\n",
    "print(\"4로나눈 나머지의 역순 정렬 : \",\n",
    "      sorted(lst, reverse=True, key=lambda x: x%4))"
   ]
  },
  {
   "cell_type": "code",
   "execution_count": 26,
   "id": "d8894072",
   "metadata": {},
   "outputs": [
    {
     "name": "stdout",
     "output_type": "stream",
     "text": [
      "{} <class 'dict'>\n",
      "{'basketball': 5, 'baseball': 9} <class 'dict'>\n",
      "{'basketball': 5, 'baseball': 9, 'vollyeyball': 6}\n",
      "Length: 3\n",
      "Keys: dict_keys(['basketball', 'baseball', 'vollyeyball']) <class 'dict_keys'>\n",
      "Values: dict_values([5, 9, 6])\n"
     ]
    }
   ],
   "source": [
    "# dict 사전\n",
    "dct = dict() # 빈사전\n",
    "print(dct, type(dct))\n",
    "\n",
    "dct = {\"basketball\": 5, \"baseball\": 9}\n",
    "print(dct, type(dct))\n",
    "\n",
    "# 인덱스 아닌 키를 이용 값에 접근\n",
    "dct [\"vollyeyball\"]= 6\n",
    "print(dct)\n",
    "\n",
    "# 복합 자료형 : dict_keys(set과 유사 -> 순서상관x 중복허용x) + dict_values\n",
    "# 키는 순서가없고\n",
    "# len(), in, not in 정도만 사용\n",
    "print(\"Length:\", len(dct))\n",
    "\n",
    "# 키의 목록확인\n",
    "print(\"Keys:\", dct.keys(), type(dct.keys()))\n",
    "# 값의 목록확인\n",
    "print(\"Values:\", dct.values())\n",
    "\n",
    "# dict의 키는 오로지 immutable(불변) 자료만 사용가능\n",
    "d = {} # 빈사전\n",
    "d[True] = \"참\"\n",
    "d[2020] = \"2020년\"\n",
    "d[\"Python\"] = \"Python\"\n",
    "d[\"홍길동\", 1] = \"의적\"\n",
    "# d[[\"홍길동\", 2]] = \"의적\" list는 대표적인 가변자료이므로 dict의 키로 사용할수없음"
   ]
  },
  {
   "cell_type": "code",
   "execution_count": 27,
   "id": "950761f4",
   "metadata": {},
   "outputs": [
    {
     "name": "stdout",
     "output_type": "stream",
     "text": [
      "{'basketball': 5, 'baseball': 9, 'vollyeyball': 6}\n",
      "True\n",
      "False\n",
      "키의 목록 : dict_keys(['basketball', 'baseball', 'vollyeyball'])\n",
      "값의 목록 : dict_values([5, 9, 6])\n",
      "True\n",
      "키-값의 쌍튜플의 목록 : dict_items([('basketball', 5), ('baseball', 9), ('vollyeyball', 6)])\n"
     ]
    }
   ],
   "source": [
    "# 순회, in, not in의 대상은 기본적으로 dict_keys\n",
    "print(dct)\n",
    "print(\"baseball\" in dct)\n",
    "print(9 in dct)\n",
    "\n",
    "print(\"키의 목록 :\", dct.keys())\n",
    "print(\"값의 목록 :\", dct.values())\n",
    "print(9 in dct.values()) # 값을 대상으로 검색\n",
    "\n",
    "print(\"키-값의 쌍튜플의 목록 :\", dct.items())"
   ]
  },
  {
   "cell_type": "code",
   "execution_count": 28,
   "id": "40d42cbd",
   "metadata": {},
   "outputs": [
    {
     "name": "stdout",
     "output_type": "stream",
     "text": [
      "basketball -> 5\n",
      "baseball -> 9\n",
      "vollyeyball -> 6\n",
      "basketball -> 5\n",
      "baseball -> 9\n",
      "vollyeyball -> 6\n",
      "basketball -> 5\n",
      "baseball -> 9\n",
      "vollyeyball -> 6\n"
     ]
    }
   ],
   "source": [
    "# 순회\n",
    "# 경기 이름- 선수 명수\n",
    "for i in dct: # 기본 대상은 keys\n",
    "    print(i, \"->\", dct[i])\n",
    "    \n",
    "for i in dct.keys(): # 키를 대상으로 순환\n",
    "    print(i, \"->\", dct[i])\n",
    "    \n",
    "for k,v in dct.items(): #키-값 쌍튜플\n",
    "    print(k, \"->\", v)"
   ]
  },
  {
   "cell_type": "code",
   "execution_count": 29,
   "id": "5b5751b5",
   "metadata": {},
   "outputs": [
    {
     "name": "stdout",
     "output_type": "stream",
     "text": [
      "{'basketball': 5, 'baseball': 9, 'vollyeyball': 6}\n",
      "None\n",
      "잘 모름\n"
     ]
    }
   ],
   "source": [
    "print(dct)\n",
    "# 없는 키를 조회할 때는 에러가 발생함\n",
    "if \"soccer\" in dct:\n",
    "    dct[\"soccer\"]\n",
    "    \n",
    "# 값의 조회 : get\n",
    "print(dct.get(\"soccer\"))\n",
    "print(dct.get(\"soccer\", \"잘 모름\")) # 기본값을 부여하면 키가 없을때 기본값 반환"
   ]
  },
  {
   "cell_type": "code",
   "execution_count": 30,
   "id": "f7d9ef26",
   "metadata": {},
   "outputs": [
    {
     "name": "stdout",
     "output_type": "stream",
     "text": [
      "{'basketball': 5, 'baseball': 9}\n"
     ]
    }
   ],
   "source": [
    "# 키 삭제\n",
    "del dct[\"vollyeyball\"]\n",
    "print(dct)"
   ]
  },
  {
   "cell_type": "code",
   "execution_count": 31,
   "id": "34d30142",
   "metadata": {},
   "outputs": [
    {
     "name": "stdout",
     "output_type": "stream",
     "text": [
      "[2, 4, 6, 8, 10, 12, 14, 16, 18, 20]\n",
      "[2, 4, 6, 8, 10, 12, 14, 16, 18, 20]\n",
      "[3, 6, 9]\n"
     ]
    }
   ],
   "source": [
    "# Comprehension\n",
    "# list 축약 : [표현식 for 항목 in 순차형]\n",
    "lst = [1, 2, 3, 4, 5, 6, 7, 8, 9,10]\n",
    "# lst 리스트 항목을 2배한 리스트를 생성\n",
    "result = [] # 결과 list\n",
    "for num in lst:\n",
    "    result.append(num*2)\n",
    "\n",
    "print(result)\n",
    "# 축약\n",
    "result = [num *2 for num in lst]\n",
    "print(result)\n",
    "\n",
    "# lst 대상, 값이 3의 배수인 리스트를 생성\n",
    "result = [num for num in lst if num %3 ==0]\n",
    "print(result)"
   ]
  },
  {
   "cell_type": "code",
   "execution_count": 32,
   "id": "9a754e48",
   "metadata": {},
   "outputs": [
    {
     "name": "stdout",
     "output_type": "stream",
     "text": [
      "{1, 2, 3, 4, 6}\n"
     ]
    }
   ],
   "source": [
    "# set 축약 : {표현식 for 항목 in 순차형 if 조건}\n",
    "strings = [\"a\", \"as\", \"bat\", \"cat\", \"dove\", \"python\"]\n",
    "# 목록에서 문자열의 길이를 set에 저장\n",
    "result = {len(s) for s in strings}\n",
    "print(result)"
   ]
  },
  {
   "cell_type": "code",
   "execution_count": 33,
   "id": "7f7e4229",
   "metadata": {},
   "outputs": [
    {
     "name": "stdout",
     "output_type": "stream",
     "text": [
      "{'bat': 3, 'cat': 3, 'dove': 4, 'python': 6}\n"
     ]
    }
   ],
   "source": [
    "# 사전 축약 : {키 표현식: 값표현식 for 항목 in 순차형 if 조건}\n",
    "strings = [\"a\", \"as\", \"bat\", \"cat\", \"dove\", \"python\"]\n",
    "# 문자열 길이가 3이상인 단어만 추출 -> 단어:길이\n",
    "result = {word:len(word) for word in strings if len(word) >= 3}\n",
    "print(result)"
   ]
  }
 ],
 "metadata": {
  "kernelspec": {
   "display_name": "Python [conda env:data-env] *",
   "language": "python",
   "name": "conda-env-data-env-py"
  },
  "language_info": {
   "codemirror_mode": {
    "name": "ipython",
    "version": 3
   },
   "file_extension": ".py",
   "mimetype": "text/x-python",
   "name": "python",
   "nbconvert_exporter": "python",
   "pygments_lexer": "ipython3",
   "version": "3.8.12"
  }
 },
 "nbformat": 4,
 "nbformat_minor": 5
}
