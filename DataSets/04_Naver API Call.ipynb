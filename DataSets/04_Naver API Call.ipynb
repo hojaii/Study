{
 "cells": [
  {
   "cell_type": "code",
   "execution_count": 6,
   "id": "6a987d46",
   "metadata": {},
   "outputs": [
    {
     "name": "stdout",
     "output_type": "stream",
     "text": [
      "검색어:오미크론\n",
      "인코딩된 검색어: %EC%98%A4%EB%AF%B8%ED%81%AC%EB%A1%A0\n"
     ]
    }
   ],
   "source": [
    "# Naver API Client ID, Client Secreat을 요청 Header에 함께 전송\n",
    "import urllib.request\n",
    "\n",
    "# client_id와 client_secret은 노출시키면 안됨\n",
    "client_id = \"Oxqwz1LqBcvqnr4ZdK_3\"\n",
    "client_secret = \"9iiSHZy9HG\"\n",
    "\n",
    "keyword = input(\"검색어:\")\n",
    "enctext = urllib.parse.quote(keyword)\n",
    "print(\"인코딩된 검색어:\", enctext)\n"
   ]
  },
  {
   "cell_type": "code",
   "execution_count": 7,
   "id": "0c4a9ac5",
   "metadata": {},
   "outputs": [
    {
     "data": {
      "text/plain": [
       "200"
      ]
     },
     "execution_count": 7,
     "metadata": {},
     "output_type": "execute_result"
    }
   ],
   "source": [
    "# 요청 URL\n",
    "url = \"https://openapi.naver.com/v1/search/news.json?query={}\".format(enctext)\n",
    "\n",
    "# 요청 헤더에 API 접속 정보를 추가\n",
    "request = urllib.request.Request(url)\n",
    "request.add_header(\"X-Naver-Client-id\", client_id) # 클라이언트 ID헤더 정보\n",
    "request.add_header(\"X-Naver-Client-Secret\", client_secret) # 클라이언트 시크릿 정보\n",
    "\n",
    "# 응답 받아오기\n",
    "response = urllib.request.urlopen(request)\n",
    "# 결과 확인\n",
    "rescode = response.getcode()\n",
    "rescode"
   ]
  },
  {
   "cell_type": "code",
   "execution_count": 8,
   "id": "831cc320",
   "metadata": {},
   "outputs": [
    {
     "name": "stdout",
     "output_type": "stream",
     "text": [
      "{\n",
      "\"lastBuildDate\": \"Mon, 14 Feb 2022 17:50:52 +0900\",\n",
      "\"total\": 150479,\n",
      "\"start\": 1,\n",
      "\"display\": 10,\n",
      "\"items\": [\n",
      "{\n",
      "\"title\": \"전주병원, 전주시 '서비스 분야 우수 상생발전기업' 인증서 받아\",\n",
      "\"originallink\": \"https://www.pressian.com/pages/articles/2022021417125916184?utm_source=naver&utm_medium=search\",\n",
      "\"link\": \"https://news.naver.com/main/read.naver?mode=LSD&mid=sec&sid1=102&oid=002&aid=0002230987\",\n",
      "\"description\": \"전주병원 최정웅 이사장은 &quot;<b>오미크론</b> 대유행이 진행중인 가운데 전주병원은 전사적 체제를 기반으로 전 부서가 합심해 대응하고 있으며, 현장에서 고생하는 직원들의 노고 덕분에 우수 상생발전기업으로 선정되었다&quot;며... \",\n",
      "\"pubDate\": \"Mon, 14 Feb 2022 17:49:00 +0900\"\n",
      "\n",
      "},\n",
      "{\n",
      "\"title\": \"국민의힘 중앙선대위 국민소통지원단 임명\",\n",
      "\"originallink\": \"http://www.gndomin.com/news/articleView.html?idxno=306045\",\n",
      "\"link\": \"http://www.gndomin.com/news/articleView.html?idxno=306045\",\n",
      "\"description\": \"당초 임명장 수여식은 양산지역내 800여명의 국민소통지원단 모두에게 전달할 예정이었으나, 최근 <b>오미크론</b> 확산으로 인해 참석 인원을 제한했다. 이날 수여식에는 국민의힘 중앙선대위 유신애 국민소통분과위원장이... \",\n",
      "\"pubDate\": \"Mon, 14 Feb 2022 17:48:00 +0900\"\n",
      "\n",
      "},\n",
      "{\n",
      "\"title\": \"창녕군 식품접객업소 방역물품 지원\",\n",
      "\"originallink\": \"http://www.gndomin.com/news/articleView.html?idxno=306064\",\n",
      "\"link\": \"http://www.gndomin.com/news/articleView.html?idxno=306064\",\n",
      "\"description\": \"▲ /창녕군 창녕군은 코로나19 <b>오미크론</b> 확산 상황 속 어려움을 겪고 있는 지역 내 식품접객업소를 위해 방역물품(살균소독제)을 추가 지원한다고 14일 밝혔다. 군은 지난 8일부터 군내 식당·카페, 유흥시설 등 다수가... \",\n",
      "\"pubDate\": \"Mon, 14 Feb 2022 17:48:00 +0900\"\n",
      "\n",
      "},\n",
      "{\n",
      "\"title\": \"경남도 코로나19 백신 3차접종 캠페인 실시\",\n",
      "\"originallink\": \"http://www.gndomin.com/news/articleView.html?idxno=306051\",\n",
      "\"link\": \"http://www.gndomin.com/news/articleView.html?idxno=306051\",\n",
      "\"description\": \"▲ /경남도 경남도는 코로나19 <b>오미크론</b> 변이 확산에 따라 도민들의 위중증 증가 및 사망자를 최소화하기... 경남도 안전정책과 관계자는 &quot;하루가 다르게 급속히 확산하는 <b>오미크론</b>의 전파력을 고려할 때 백신... \",\n",
      "\"pubDate\": \"Mon, 14 Feb 2022 17:48:00 +0900\"\n",
      "\n",
      "},\n",
      "{\n",
      "\"title\": \"거창군 코로나19 특별방역대책 2단계 시행 중단\",\n",
      "\"originallink\": \"http://www.gndomin.com/news/articleView.html?idxno=306022\",\n",
      "\"link\": \"http://www.gndomin.com/news/articleView.html?idxno=306022\",\n",
      "\"description\": \"군은 지난 7일 코로나19관련 제22차 브리핑에서 <b>오미크론</b>과 설 연휴 등으로 지역감염 확산 증가에 따라 1... 다만, 정부지침에 따라 오늘부터 <b>오미크론</b> 집단감염 확산 발생 증가추세와 고령층의 확산방지를 위해 비대면... \",\n",
      "\"pubDate\": \"Mon, 14 Feb 2022 17:48:00 +0900\"\n",
      "\n",
      "},\n",
      "{\n",
      "\"title\": \"사설-확진자 재택치료 혼선 최소화해야\",\n",
      "\"originallink\": \"http://www.gndomin.com/news/articleView.html?idxno=306036\",\n",
      "\"link\": \"http://www.gndomin.com/news/articleView.html?idxno=306036\",\n",
      "\"description\": \"<b>오미크론</b> 변이로 인한 코로나19 확진자가 연일 폭증하면서 정부가 재택 셀프치료를 대폭확대하면서 방역현장에서 혼선이 빚어지고 있다. 조만간 하루 확진자가 최대 17만 명에 달할 것이란 예상이 나오면서... \",\n",
      "\"pubDate\": \"Mon, 14 Feb 2022 17:48:00 +0900\"\n",
      "\n",
      "},\n",
      "{\n",
      "\"title\": \"거제시 경로당 운영 임시중단 안내\",\n",
      "\"originallink\": \"http://www.gndomin.com/news/articleView.html?idxno=306076\",\n",
      "\"link\": \"http://www.gndomin.com/news/articleView.html?idxno=306076\",\n",
      "\"description\": \"코로나19 <b>오미크론</b> 확산에 따른 마을모임과 경로당 이용 어린신들의 집단감염 방지를 위한 '보건복지부 노인여가복지시설 방역강화 대책'의 후속 조치다. 시는 각 경로당에 안내문을 배부하고 지역 어르신들에게 충분히... \",\n",
      "\"pubDate\": \"Mon, 14 Feb 2022 17:48:00 +0900\"\n",
      "\n",
      "},\n",
      "{\n",
      "\"title\": \"유진기업, <b>오미크론</b> 확산에 자체 방역기준 강화\",\n",
      "\"originallink\": \"https://www.ebn.co.kr/news/view/1519625/?sc=Naver\",\n",
      "\"link\": \"https://www.ebn.co.kr/news/view/1519625/?sc=Naver\",\n",
      "\"description\": \"유진기업은 코로나19 <b>오미크론</b> 변이 확산에 따라 자체 방역 기준을 대폭 강화해 시행한다고 14일 밝혔다. 유진기업은 코로나19 확진자 동거인의 경우 백신 접종을 마쳤더라도 수동감시 기간에 의무적으로 재택근무를 한... \",\n",
      "\"pubDate\": \"Mon, 14 Feb 2022 17:48:00 +0900\"\n",
      "\n",
      "},\n",
      "{\n",
      "\"title\": \"3차 접종 3개월 지나면 <b>오미크론</b> 예방 효과 1/3로 급감\",\n",
      "\"originallink\": \"https://www.ytn.co.kr/_ln/0103_202202141747240320\",\n",
      "\"link\": \"https://news.naver.com/main/read.naver?mode=LSD&mid=sec&sid1=102&oid=052&aid=0001701789\",\n",
      "\"description\": \"중화능은 그러나 3차 접종 후 12주부터는 델타 변이에 대해 1/2, <b>오미크론</b> 변이에 대해서는 1/3 수준으로 감소했습니다. 최근 영국에서 시행한 예방접종 효과 분석을 봐도, <b>오미크론</b>에 대한 감염 예방 효과는 3차 접종... \",\n",
      "\"pubDate\": \"Mon, 14 Feb 2022 17:47:00 +0900\"\n",
      "\n",
      "},\n",
      "{\n",
      "\"title\": \"이달 말부터 코로나 4차 접종 시행...돌파감염 많아 실효성 의문\",\n",
      "\"originallink\": \"http://www.civicnews.com/news/articleView.html?idxno=33357\",\n",
      "\"link\": \"http://www.civicnews.com/news/articleView.html?idxno=33357\",\n",
      "\"description\": \"권 장관은 &quot;정부는 강한 전파력을 가진 <b>오미크론</b>의 특성에 맞춰 방역전략을 중증화·사망 최소화로 바꾸고 방역·의료체계를 전면적으로 전환하고 있다&quot;고 밝히며 입원·격리자의 생활비 지원 체계의 변경과 지방세 신고... \",\n",
      "\"pubDate\": \"Mon, 14 Feb 2022 17:46:00 +0900\"\n",
      "\n",
      "}\n",
      "]\n",
      "}\n",
      "\n"
     ]
    }
   ],
   "source": [
    "response_body = response.read().decode(\"utf-8\")\n",
    "print(response_body)"
   ]
  },
  {
   "cell_type": "code",
   "execution_count": 9,
   "id": "cc5119ca",
   "metadata": {
    "scrolled": true
   },
   "outputs": [
    {
     "data": {
      "text/plain": [
       "[{'title': \"전주병원, 전주시 '서비스 분야 우수 상생발전기업' 인증서 받아\",\n",
       "  'originallink': 'https://www.pressian.com/pages/articles/2022021417125916184?utm_source=naver&utm_medium=search',\n",
       "  'link': 'https://news.naver.com/main/read.naver?mode=LSD&mid=sec&sid1=102&oid=002&aid=0002230987',\n",
       "  'description': '전주병원 최정웅 이사장은 &quot;<b>오미크론</b> 대유행이 진행중인 가운데 전주병원은 전사적 체제를 기반으로 전 부서가 합심해 대응하고 있으며, 현장에서 고생하는 직원들의 노고 덕분에 우수 상생발전기업으로 선정되었다&quot;며... ',\n",
       "  'pubDate': 'Mon, 14 Feb 2022 17:49:00 +0900'},\n",
       " {'title': '국민의힘 중앙선대위 국민소통지원단 임명',\n",
       "  'originallink': 'http://www.gndomin.com/news/articleView.html?idxno=306045',\n",
       "  'link': 'http://www.gndomin.com/news/articleView.html?idxno=306045',\n",
       "  'description': '당초 임명장 수여식은 양산지역내 800여명의 국민소통지원단 모두에게 전달할 예정이었으나, 최근 <b>오미크론</b> 확산으로 인해 참석 인원을 제한했다. 이날 수여식에는 국민의힘 중앙선대위 유신애 국민소통분과위원장이... ',\n",
       "  'pubDate': 'Mon, 14 Feb 2022 17:48:00 +0900'},\n",
       " {'title': '창녕군 식품접객업소 방역물품 지원',\n",
       "  'originallink': 'http://www.gndomin.com/news/articleView.html?idxno=306064',\n",
       "  'link': 'http://www.gndomin.com/news/articleView.html?idxno=306064',\n",
       "  'description': '▲ /창녕군 창녕군은 코로나19 <b>오미크론</b> 확산 상황 속 어려움을 겪고 있는 지역 내 식품접객업소를 위해 방역물품(살균소독제)을 추가 지원한다고 14일 밝혔다. 군은 지난 8일부터 군내 식당·카페, 유흥시설 등 다수가... ',\n",
       "  'pubDate': 'Mon, 14 Feb 2022 17:48:00 +0900'},\n",
       " {'title': '경남도 코로나19 백신 3차접종 캠페인 실시',\n",
       "  'originallink': 'http://www.gndomin.com/news/articleView.html?idxno=306051',\n",
       "  'link': 'http://www.gndomin.com/news/articleView.html?idxno=306051',\n",
       "  'description': '▲ /경남도 경남도는 코로나19 <b>오미크론</b> 변이 확산에 따라 도민들의 위중증 증가 및 사망자를 최소화하기... 경남도 안전정책과 관계자는 &quot;하루가 다르게 급속히 확산하는 <b>오미크론</b>의 전파력을 고려할 때 백신... ',\n",
       "  'pubDate': 'Mon, 14 Feb 2022 17:48:00 +0900'},\n",
       " {'title': '거창군 코로나19 특별방역대책 2단계 시행 중단',\n",
       "  'originallink': 'http://www.gndomin.com/news/articleView.html?idxno=306022',\n",
       "  'link': 'http://www.gndomin.com/news/articleView.html?idxno=306022',\n",
       "  'description': '군은 지난 7일 코로나19관련 제22차 브리핑에서 <b>오미크론</b>과 설 연휴 등으로 지역감염 확산 증가에 따라 1... 다만, 정부지침에 따라 오늘부터 <b>오미크론</b> 집단감염 확산 발생 증가추세와 고령층의 확산방지를 위해 비대면... ',\n",
       "  'pubDate': 'Mon, 14 Feb 2022 17:48:00 +0900'},\n",
       " {'title': '사설-확진자 재택치료 혼선 최소화해야',\n",
       "  'originallink': 'http://www.gndomin.com/news/articleView.html?idxno=306036',\n",
       "  'link': 'http://www.gndomin.com/news/articleView.html?idxno=306036',\n",
       "  'description': '<b>오미크론</b> 변이로 인한 코로나19 확진자가 연일 폭증하면서 정부가 재택 셀프치료를 대폭확대하면서 방역현장에서 혼선이 빚어지고 있다. 조만간 하루 확진자가 최대 17만 명에 달할 것이란 예상이 나오면서... ',\n",
       "  'pubDate': 'Mon, 14 Feb 2022 17:48:00 +0900'},\n",
       " {'title': '거제시 경로당 운영 임시중단 안내',\n",
       "  'originallink': 'http://www.gndomin.com/news/articleView.html?idxno=306076',\n",
       "  'link': 'http://www.gndomin.com/news/articleView.html?idxno=306076',\n",
       "  'description': \"코로나19 <b>오미크론</b> 확산에 따른 마을모임과 경로당 이용 어린신들의 집단감염 방지를 위한 '보건복지부 노인여가복지시설 방역강화 대책'의 후속 조치다. 시는 각 경로당에 안내문을 배부하고 지역 어르신들에게 충분히... \",\n",
       "  'pubDate': 'Mon, 14 Feb 2022 17:48:00 +0900'},\n",
       " {'title': '유진기업, <b>오미크론</b> 확산에 자체 방역기준 강화',\n",
       "  'originallink': 'https://www.ebn.co.kr/news/view/1519625/?sc=Naver',\n",
       "  'link': 'https://www.ebn.co.kr/news/view/1519625/?sc=Naver',\n",
       "  'description': '유진기업은 코로나19 <b>오미크론</b> 변이 확산에 따라 자체 방역 기준을 대폭 강화해 시행한다고 14일 밝혔다. 유진기업은 코로나19 확진자 동거인의 경우 백신 접종을 마쳤더라도 수동감시 기간에 의무적으로 재택근무를 한... ',\n",
       "  'pubDate': 'Mon, 14 Feb 2022 17:48:00 +0900'},\n",
       " {'title': '3차 접종 3개월 지나면 <b>오미크론</b> 예방 효과 1/3로 급감',\n",
       "  'originallink': 'https://www.ytn.co.kr/_ln/0103_202202141747240320',\n",
       "  'link': 'https://news.naver.com/main/read.naver?mode=LSD&mid=sec&sid1=102&oid=052&aid=0001701789',\n",
       "  'description': '중화능은 그러나 3차 접종 후 12주부터는 델타 변이에 대해 1/2, <b>오미크론</b> 변이에 대해서는 1/3 수준으로 감소했습니다. 최근 영국에서 시행한 예방접종 효과 분석을 봐도, <b>오미크론</b>에 대한 감염 예방 효과는 3차 접종... ',\n",
       "  'pubDate': 'Mon, 14 Feb 2022 17:47:00 +0900'},\n",
       " {'title': '이달 말부터 코로나 4차 접종 시행...돌파감염 많아 실효성 의문',\n",
       "  'originallink': 'http://www.civicnews.com/news/articleView.html?idxno=33357',\n",
       "  'link': 'http://www.civicnews.com/news/articleView.html?idxno=33357',\n",
       "  'description': '권 장관은 &quot;정부는 강한 전파력을 가진 <b>오미크론</b>의 특성에 맞춰 방역전략을 중증화·사망 최소화로 바꾸고 방역·의료체계를 전면적으로 전환하고 있다&quot;고 밝히며 입원·격리자의 생활비 지원 체계의 변경과 지방세 신고... ',\n",
       "  'pubDate': 'Mon, 14 Feb 2022 17:46:00 +0900'}]"
      ]
     },
     "execution_count": 9,
     "metadata": {},
     "output_type": "execute_result"
    }
   ],
   "source": [
    "import json # json처리 모드\n",
    "import csv # csv 처리 모드\n",
    "\n",
    "# json text파일 -> 객체 변환\n",
    "py_rt = json.loads(response_body)\n",
    "news_list = py_rt['items']\n",
    "news_list"
   ]
  },
  {
   "cell_type": "code",
   "execution_count": 10,
   "id": "7a684a18",
   "metadata": {},
   "outputs": [
    {
     "name": "stdout",
     "output_type": "stream",
     "text": [
      "{'title': \"전주병원, 전주시 '서비스 분야 우수 상생발전기업' 인증서 받아\", 'originallink': 'https://www.pressian.com/pages/articles/2022021417125916184?utm_source=naver&utm_medium=search', 'link': 'https://news.naver.com/main/read.naver?mode=LSD&mid=sec&sid1=102&oid=002&aid=0002230987', 'description': '전주병원 최정웅 이사장은 &quot;<b>오미크론</b> 대유행이 진행중인 가운데 전주병원은 전사적 체제를 기반으로 전 부서가 합심해 대응하고 있으며, 현장에서 고생하는 직원들의 노고 덕분에 우수 상생발전기업으로 선정되었다&quot;며... ', 'pubDate': 'Mon, 14 Feb 2022 17:49:00 +0900'}\n",
      "title: 전주병원, 전주시 '서비스 분야 우수 상생발전기업' 인증서 받아 @ Mon, 14 Feb 2022 17:49:00 +0900\n",
      "{'title': '국민의힘 중앙선대위 국민소통지원단 임명', 'originallink': 'http://www.gndomin.com/news/articleView.html?idxno=306045', 'link': 'http://www.gndomin.com/news/articleView.html?idxno=306045', 'description': '당초 임명장 수여식은 양산지역내 800여명의 국민소통지원단 모두에게 전달할 예정이었으나, 최근 <b>오미크론</b> 확산으로 인해 참석 인원을 제한했다. 이날 수여식에는 국민의힘 중앙선대위 유신애 국민소통분과위원장이... ', 'pubDate': 'Mon, 14 Feb 2022 17:48:00 +0900'}\n",
      "title: 국민의힘 중앙선대위 국민소통지원단 임명 @ Mon, 14 Feb 2022 17:48:00 +0900\n",
      "{'title': '창녕군 식품접객업소 방역물품 지원', 'originallink': 'http://www.gndomin.com/news/articleView.html?idxno=306064', 'link': 'http://www.gndomin.com/news/articleView.html?idxno=306064', 'description': '▲ /창녕군 창녕군은 코로나19 <b>오미크론</b> 확산 상황 속 어려움을 겪고 있는 지역 내 식품접객업소를 위해 방역물품(살균소독제)을 추가 지원한다고 14일 밝혔다. 군은 지난 8일부터 군내 식당·카페, 유흥시설 등 다수가... ', 'pubDate': 'Mon, 14 Feb 2022 17:48:00 +0900'}\n",
      "title: 창녕군 식품접객업소 방역물품 지원 @ Mon, 14 Feb 2022 17:48:00 +0900\n",
      "{'title': '경남도 코로나19 백신 3차접종 캠페인 실시', 'originallink': 'http://www.gndomin.com/news/articleView.html?idxno=306051', 'link': 'http://www.gndomin.com/news/articleView.html?idxno=306051', 'description': '▲ /경남도 경남도는 코로나19 <b>오미크론</b> 변이 확산에 따라 도민들의 위중증 증가 및 사망자를 최소화하기... 경남도 안전정책과 관계자는 &quot;하루가 다르게 급속히 확산하는 <b>오미크론</b>의 전파력을 고려할 때 백신... ', 'pubDate': 'Mon, 14 Feb 2022 17:48:00 +0900'}\n",
      "title: 경남도 코로나19 백신 3차접종 캠페인 실시 @ Mon, 14 Feb 2022 17:48:00 +0900\n",
      "{'title': '거창군 코로나19 특별방역대책 2단계 시행 중단', 'originallink': 'http://www.gndomin.com/news/articleView.html?idxno=306022', 'link': 'http://www.gndomin.com/news/articleView.html?idxno=306022', 'description': '군은 지난 7일 코로나19관련 제22차 브리핑에서 <b>오미크론</b>과 설 연휴 등으로 지역감염 확산 증가에 따라 1... 다만, 정부지침에 따라 오늘부터 <b>오미크론</b> 집단감염 확산 발생 증가추세와 고령층의 확산방지를 위해 비대면... ', 'pubDate': 'Mon, 14 Feb 2022 17:48:00 +0900'}\n",
      "title: 거창군 코로나19 특별방역대책 2단계 시행 중단 @ Mon, 14 Feb 2022 17:48:00 +0900\n",
      "{'title': '사설-확진자 재택치료 혼선 최소화해야', 'originallink': 'http://www.gndomin.com/news/articleView.html?idxno=306036', 'link': 'http://www.gndomin.com/news/articleView.html?idxno=306036', 'description': '<b>오미크론</b> 변이로 인한 코로나19 확진자가 연일 폭증하면서 정부가 재택 셀프치료를 대폭확대하면서 방역현장에서 혼선이 빚어지고 있다. 조만간 하루 확진자가 최대 17만 명에 달할 것이란 예상이 나오면서... ', 'pubDate': 'Mon, 14 Feb 2022 17:48:00 +0900'}\n",
      "title: 사설-확진자 재택치료 혼선 최소화해야 @ Mon, 14 Feb 2022 17:48:00 +0900\n",
      "{'title': '거제시 경로당 운영 임시중단 안내', 'originallink': 'http://www.gndomin.com/news/articleView.html?idxno=306076', 'link': 'http://www.gndomin.com/news/articleView.html?idxno=306076', 'description': \"코로나19 <b>오미크론</b> 확산에 따른 마을모임과 경로당 이용 어린신들의 집단감염 방지를 위한 '보건복지부 노인여가복지시설 방역강화 대책'의 후속 조치다. 시는 각 경로당에 안내문을 배부하고 지역 어르신들에게 충분히... \", 'pubDate': 'Mon, 14 Feb 2022 17:48:00 +0900'}\n",
      "title: 거제시 경로당 운영 임시중단 안내 @ Mon, 14 Feb 2022 17:48:00 +0900\n",
      "{'title': '유진기업, <b>오미크론</b> 확산에 자체 방역기준 강화', 'originallink': 'https://www.ebn.co.kr/news/view/1519625/?sc=Naver', 'link': 'https://www.ebn.co.kr/news/view/1519625/?sc=Naver', 'description': '유진기업은 코로나19 <b>오미크론</b> 변이 확산에 따라 자체 방역 기준을 대폭 강화해 시행한다고 14일 밝혔다. 유진기업은 코로나19 확진자 동거인의 경우 백신 접종을 마쳤더라도 수동감시 기간에 의무적으로 재택근무를 한... ', 'pubDate': 'Mon, 14 Feb 2022 17:48:00 +0900'}\n",
      "title: 유진기업, <b>오미크론</b> 확산에 자체 방역기준 강화 @ Mon, 14 Feb 2022 17:48:00 +0900\n",
      "{'title': '3차 접종 3개월 지나면 <b>오미크론</b> 예방 효과 1/3로 급감', 'originallink': 'https://www.ytn.co.kr/_ln/0103_202202141747240320', 'link': 'https://news.naver.com/main/read.naver?mode=LSD&mid=sec&sid1=102&oid=052&aid=0001701789', 'description': '중화능은 그러나 3차 접종 후 12주부터는 델타 변이에 대해 1/2, <b>오미크론</b> 변이에 대해서는 1/3 수준으로 감소했습니다. 최근 영국에서 시행한 예방접종 효과 분석을 봐도, <b>오미크론</b>에 대한 감염 예방 효과는 3차 접종... ', 'pubDate': 'Mon, 14 Feb 2022 17:47:00 +0900'}\n",
      "title: 3차 접종 3개월 지나면 <b>오미크론</b> 예방 효과 1/3로 급감 @ Mon, 14 Feb 2022 17:47:00 +0900\n",
      "{'title': '이달 말부터 코로나 4차 접종 시행...돌파감염 많아 실효성 의문', 'originallink': 'http://www.civicnews.com/news/articleView.html?idxno=33357', 'link': 'http://www.civicnews.com/news/articleView.html?idxno=33357', 'description': '권 장관은 &quot;정부는 강한 전파력을 가진 <b>오미크론</b>의 특성에 맞춰 방역전략을 중증화·사망 최소화로 바꾸고 방역·의료체계를 전면적으로 전환하고 있다&quot;고 밝히며 입원·격리자의 생활비 지원 체계의 변경과 지방세 신고... ', 'pubDate': 'Mon, 14 Feb 2022 17:46:00 +0900'}\n",
      "title: 이달 말부터 코로나 4차 접종 시행...돌파감염 많아 실효성 의문 @ Mon, 14 Feb 2022 17:46:00 +0900\n"
     ]
    }
   ],
   "source": [
    "# 태그 지우는 함수(정규식 이용)\n",
    "import re\n",
    "\n",
    "def remove_tag(html):\n",
    "    tag_re = re.compile(r\"<[^>]+>\")\n",
    "    return tag_re.sub(\"\", html) # 패턴 매칭\n",
    "# csv 생성\n",
    "f = open(\"./news_list.csv\", \"wt\", encoding=\"UTF-8\", newline = \"\")\n",
    "# csv writer 생성\n",
    "writer = csv.writer(f, # 저장할 파일\n",
    "                   delimiter = \",\", #컬럼 구분자\n",
    "                   quotechar='\"', # 인용 부호\n",
    "                   quoting=csv.QUOTE_NONNUMERIC) # 숫자가 아닐때인용부호 사용\n",
    "\n",
    "# 컬럼 명 생성\n",
    "writer.writerow([\n",
    "    \"제목\", \"링크\", \"발행일\"\n",
    "])\n",
    "\n",
    "# 기사 루프 돌리기\n",
    "for news in news_list:\n",
    "    print(news)\n",
    "    writer.writerow([remove_tag(news['title']),\n",
    "                     news['link'],\n",
    "                     news['pubDate']])\n",
    "    print(\"title: {} @ {}\".format(news[\"title\"], news[\"pubDate\"]))\n",
    "\n",
    "f.close()"
   ]
  },
  {
   "cell_type": "code",
   "execution_count": null,
   "id": "974c3d19",
   "metadata": {},
   "outputs": [],
   "source": []
  }
 ],
 "metadata": {
  "kernelspec": {
   "display_name": "Python [conda env:data-env] *",
   "language": "python",
   "name": "conda-env-data-env-py"
  },
  "language_info": {
   "codemirror_mode": {
    "name": "ipython",
    "version": 3
   },
   "file_extension": ".py",
   "mimetype": "text/x-python",
   "name": "python",
   "nbconvert_exporter": "python",
   "pygments_lexer": "ipython3",
   "version": "3.8.12"
  }
 },
 "nbformat": 4,
 "nbformat_minor": 5
}
