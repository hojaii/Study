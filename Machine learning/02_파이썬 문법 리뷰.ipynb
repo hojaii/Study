{
  "nbformat": 4,
  "nbformat_minor": 0,
  "metadata": {
    "colab": {
      "name": "02_파이썬 문법 리뷰.ipynb의 사본",
      "provenance": [],
      "collapsed_sections": []
    },
    "kernelspec": {
      "name": "python3",
      "display_name": "Python 3"
    },
    "language_info": {
      "name": "python"
    }
  },
  "cells": [
    {
      "cell_type": "markdown",
      "source": [
        "# 출력"
      ],
      "metadata": {
        "id": "YZ2Y7SpFl3VP"
      }
    },
    {
      "cell_type": "code",
      "execution_count": null,
      "metadata": {
        "colab": {
          "base_uri": "https://localhost:8080/"
        },
        "id": "0NMh4QRZjX2z",
        "outputId": "3ba762cd-164a-44d8-c141-894573946eaf"
      },
      "outputs": [
        {
          "output_type": "stream",
          "name": "stdout",
          "text": [
            "1\n",
            "a\n",
            "1 2 a\n"
          ]
        }
      ],
      "source": [
        "print(1)\n",
        "print('a')\n",
        "print(1,2,'a')"
      ]
    },
    {
      "cell_type": "code",
      "source": [
        "for i in range(10):\n",
        "  print(i,end=' ')"
      ],
      "metadata": {
        "colab": {
          "base_uri": "https://localhost:8080/"
        },
        "id": "amlGaOHzjgzf",
        "outputId": "c56b463e-3b18-4301-a57d-08ba83d44fbc"
      },
      "execution_count": null,
      "outputs": [
        {
          "output_type": "stream",
          "name": "stdout",
          "text": [
            "0 1 2 3 4 5 6 7 8 9 "
          ]
        }
      ]
    },
    {
      "cell_type": "code",
      "source": [
        "a=255\n",
        "print(\"10진수:{0:d} 16진수:{0:x} 8진수:{0:o} \".format(a))"
      ],
      "metadata": {
        "colab": {
          "base_uri": "https://localhost:8080/"
        },
        "id": "juiEwUWAkREG",
        "outputId": "5f843271-3c73-45cd-adfd-624ba7b6c59d"
      },
      "execution_count": null,
      "outputs": [
        {
          "output_type": "stream",
          "name": "stdout",
          "text": [
            "10진수:255 16진수:ff 8진수:377 \n"
          ]
        }
      ]
    },
    {
      "cell_type": "code",
      "source": [
        "print(\"_{0}_\".format(a))\n",
        "print(\"_{0:8d}_\".format(a))\n",
        "print(\"_{0:08d}_\".format(a))"
      ],
      "metadata": {
        "colab": {
          "base_uri": "https://localhost:8080/"
        },
        "id": "6FjmP9QbknoW",
        "outputId": "4200e5a6-6ed5-470d-b282-f035088a11df"
      },
      "execution_count": null,
      "outputs": [
        {
          "output_type": "stream",
          "name": "stdout",
          "text": [
            "_255_\n",
            "_     255_\n",
            "_00000255_\n"
          ]
        }
      ]
    },
    {
      "cell_type": "code",
      "source": [
        "a=2\n",
        "b=2/3\n",
        "print(\"{0:2d} x {1:.2f} = {1:.2f} x {0:2d} = {2:.2f}\".format(a,b,a*b))"
      ],
      "metadata": {
        "colab": {
          "base_uri": "https://localhost:8080/"
        },
        "id": "nxsGWK16jk4m",
        "outputId": "8de50b88-5717-4e8b-9f13-39719e20669f"
      },
      "execution_count": null,
      "outputs": [
        {
          "output_type": "stream",
          "name": "stdout",
          "text": [
            " 2 x 0.67 = 0.67 x  2 = 1.33\n"
          ]
        }
      ]
    },
    {
      "cell_type": "code",
      "source": [
        "print(\"10진수:{0:d} 16진수:{0:x} 8진수:{0:o} \".format(a))\n",
        "print(f'10진수:{a:d} 16진수:{a:x} 8진수:{a:o}')"
      ],
      "metadata": {
        "colab": {
          "base_uri": "https://localhost:8080/"
        },
        "id": "iqDrx7palQlD",
        "outputId": "b05d5f41-1160-45ef-8c37-e2318203ee1a"
      },
      "execution_count": null,
      "outputs": [
        {
          "output_type": "stream",
          "name": "stdout",
          "text": [
            "10진수:255 16진수:ff 8진수:377 \n",
            "10진수:255 16진수:ff 8진수:377\n"
          ]
        }
      ]
    },
    {
      "cell_type": "markdown",
      "source": [
        "리스트 컴프리핸션"
      ],
      "metadata": {
        "id": "Jb4cFPhql0AW"
      }
    },
    {
      "cell_type": "code",
      "source": [
        "xdata =[]\n",
        "for x in range(1,100,3):\n",
        "  xdata.append(x)\n",
        "print(xdata)"
      ],
      "metadata": {
        "colab": {
          "base_uri": "https://localhost:8080/"
        },
        "id": "uJTFcgKdmOW-",
        "outputId": "d64b2685-16ff-4c89-e9e0-6db1f7aa1fee"
      },
      "execution_count": null,
      "outputs": [
        {
          "output_type": "stream",
          "name": "stdout",
          "text": [
            "[1, 4, 7, 10, 13, 16, 19, 22, 25, 28, 31, 34, 37, 40, 43, 46, 49, 52, 55, 58, 61, 64, 67, 70, 73, 76, 79, 82, 85, 88, 91, 94, 97]\n"
          ]
        }
      ]
    },
    {
      "cell_type": "code",
      "source": [
        "xdata2 = [x for x in range(1,100,3)]\n",
        "print(xdata2)"
      ],
      "metadata": {
        "colab": {
          "base_uri": "https://localhost:8080/"
        },
        "id": "lq7pPMC-l5ue",
        "outputId": "36963d28-3381-471f-e7a2-478f03ce5629"
      },
      "execution_count": null,
      "outputs": [
        {
          "output_type": "stream",
          "name": "stdout",
          "text": [
            "[1, 4, 7, 10, 13, 16, 19, 22, 25, 28, 31, 34, 37, 40, 43, 46, 49, 52, 55, 58, 61, 64, 67, 70, 73, 76, 79, 82, 85, 88, 91, 94, 97]\n"
          ]
        }
      ]
    },
    {
      "cell_type": "code",
      "source": [
        "xdata3 =[]\n",
        "for x in range(1,100):\n",
        "  if x % 3 == 0:\n",
        "    xdata3.append(x)\n",
        "print(xdata3)"
      ],
      "metadata": {
        "colab": {
          "base_uri": "https://localhost:8080/"
        },
        "id": "Er2xRrnGoXGm",
        "outputId": "e7f4a4ec-e6ef-4070-9142-74e26948aa47"
      },
      "execution_count": null,
      "outputs": [
        {
          "output_type": "stream",
          "name": "stdout",
          "text": [
            "[3, 6, 9, 12, 15, 18, 21, 24, 27, 30, 33, 36, 39, 42, 45, 48, 51, 54, 57, 60, 63, 66, 69, 72, 75, 78, 81, 84, 87, 90, 93, 96, 99]\n"
          ]
        }
      ]
    },
    {
      "cell_type": "code",
      "source": [
        "xdata4 = [x for x in range(1,100) if x %3 ==0]\n",
        "print(xdata4)"
      ],
      "metadata": {
        "colab": {
          "base_uri": "https://localhost:8080/"
        },
        "id": "-JC1UCK-oeRm",
        "outputId": "644b3c33-7521-450d-9c1c-239f6b830ccd"
      },
      "execution_count": null,
      "outputs": [
        {
          "output_type": "stream",
          "name": "stdout",
          "text": [
            "[3, 6, 9, 12, 15, 18, 21, 24, 27, 30, 33, 36, 39, 42, 45, 48, 51, 54, 57, 60, 63, 66, 69, 72, 75, 78, 81, 84, 87, 90, 93, 96, 99]\n"
          ]
        }
      ]
    },
    {
      "cell_type": "code",
      "source": [
        "xdata5 =[]\n",
        "for x in range(1,10):\n",
        "  if x % 3 == 0:\n",
        "    xdata5.append(x)\n",
        "  else:\n",
        "    xdata5.append(0)\n",
        "print(xdata5)"
      ],
      "metadata": {
        "colab": {
          "base_uri": "https://localhost:8080/"
        },
        "id": "9viuEPCMouWe",
        "outputId": "b0ece08e-2a38-4a6b-c5f1-f899953de757"
      },
      "execution_count": null,
      "outputs": [
        {
          "output_type": "stream",
          "name": "stdout",
          "text": [
            "[0, 0, 3, 0, 0, 6, 0, 0, 9]\n"
          ]
        }
      ]
    },
    {
      "cell_type": "code",
      "source": [
        "xdata6 = [x if x %3 ==0 else 0 for x in range(1,10)]\n",
        "print(xdata6)"
      ],
      "metadata": {
        "colab": {
          "base_uri": "https://localhost:8080/"
        },
        "id": "HgL9jSfNpeCt",
        "outputId": "69b21712-eccc-4cf3-9b95-4e9690a15f6d"
      },
      "execution_count": null,
      "outputs": [
        {
          "output_type": "stream",
          "name": "stdout",
          "text": [
            "[0, 0, 3, 0, 0, 6, 0, 0, 9]\n"
          ]
        }
      ]
    }
  ]
}