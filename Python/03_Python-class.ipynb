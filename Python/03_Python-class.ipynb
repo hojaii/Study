{
 "cells": [
  {
   "cell_type": "code",
   "execution_count": 7,
   "id": "4a945532",
   "metadata": {
    "scrolled": true
   },
   "outputs": [
    {
     "name": "stdout",
     "output_type": "stream",
     "text": [
      "Hello\n",
      "World\n",
      "Hello\n"
     ]
    }
   ],
   "source": [
    "# 제어문에 대해서 알아보기\n",
    "\n",
    "# if\n",
    "# Java의 경우?\n",
    "# If (10>20){\n",
    "\n",
    "\n",
    "#}else{\n",
    "\n",
    "#}\n",
    "\n",
    "#Python의 경우?\n",
    "if 30 > 20:\n",
    "    print('Hello') # 4칸(자동들여쓰기)를 안하고 사용시 오류발생\n",
    "    print('World')\n",
    "else:\n",
    "    print('여기는 else')\n",
    "    \n",
    "#Java의 else if문이 python에서?\n",
    "    \n",
    "if 30 > 20:\n",
    "    print('Hello')\n",
    "elif 40>50:\n",
    "    print('World')\n",
    "else:\n",
    "    print('haha')"
   ]
  },
  {
   "cell_type": "code",
   "execution_count": 11,
   "id": "71f70d0d",
   "metadata": {},
   "outputs": [
    {
     "name": "stdout",
     "output_type": "stream",
     "text": [
      "40입니다\n",
      "10입니다\n",
      "20입니다\n",
      "30입니다\n",
      "200\n",
      "100\n",
      "400\n",
      "300\n",
      "0\n",
      "1\n",
      "2\n",
      "3\n",
      "4\n",
      "5\n",
      "6\n",
      "7\n",
      "8\n",
      "9\n"
     ]
    }
   ],
   "source": [
    "#for 반복문\n",
    "\n",
    "# Java의 경우\n",
    "# for (int i=0; i<100; i++){\n",
    "\n",
    "#}\n",
    "\n",
    "# Python의 경우?\n",
    "# for ~in 구문 사용\n",
    "# for ~in 라스트 or tuple or range, dict, set\n",
    "my_list = {10, 20, 30, 40}\n",
    "\n",
    "for tmp in my_list:\n",
    "    print(str(tmp)+ '입니다')\n",
    "    \n",
    "for tmp in {100, 200, 300, 400}:\n",
    "    print(tmp)\n",
    "    \n",
    "# 정해진 숫자만큼 반복할때는 range를 이용해서 반복시킴\n",
    "\n",
    "for tmp in range (10):\n",
    "    print(tmp)\n",
    "    "
   ]
  },
  {
   "cell_type": "code",
   "execution_count": null,
   "id": "96e51709",
   "metadata": {
    "scrolled": true
   },
   "outputs": [],
   "source": [
    "# while반복문\n",
    "# do while은 존재하지않음\n",
    "idx = 0\n",
    "while idx < 10:\n",
    "    print('Hello')\n",
    "    idx += 1\n",
    "    \n",
    "# break와 continue는 당연히 존재함\n",
    "\n",
    "# idx = 0\n",
    "# while idx < 10:\n",
    "#     print('Hello')\n",
    "#     if idx == 5:\n",
    "#         break \n",
    "#         idx += 1"
   ]
  },
  {
   "cell_type": "code",
   "execution_count": 5,
   "id": "e63dc25f",
   "metadata": {},
   "outputs": [
    {
     "name": "stdout",
     "output_type": "stream",
     "text": [
      "23\n",
      "233168\n"
     ]
    }
   ],
   "source": [
    "# 연습문제\n",
    "\n",
    "# 10보다 작은 자연수 중에 3 또는 5의 배수?\n",
    "# 3,5,6,9 이것들의 합은?\n",
    "\n",
    "result = set()\n",
    "for tmp in range(10):\n",
    "    if tmp % 3 == 0:\n",
    "        result.add(tmp)\n",
    "    if tmp % 5 == 0:\n",
    "        result.add(tmp)\n",
    "print(sum(result))\n",
    "\n",
    "# 1000보다 작은 자연수 중에서 3 또는 5의 배수를 구하고 이것들의 합?\n",
    "\n",
    "result = set()\n",
    "for tmp in range (1000):\n",
    "    if tmp % 3 == 0:\n",
    "        result.add(tmp)\n",
    "    if tmp % 5 ==0:\n",
    "        result.add(tmp)\n",
    "print(sum(result))\n"
   ]
  },
  {
   "cell_type": "code",
   "execution_count": null,
   "id": "b8c48934",
   "metadata": {},
   "outputs": [],
   "source": [
    "# 1, 2, 3, 5, 7, 13, 21 ... 같은 수열에서 짝수이면서 4백만 이하의 모든항을 더하면?\n",
    "\n"
   ]
  },
  {
   "cell_type": "code",
   "execution_count": 8,
   "id": "c13a3f65",
   "metadata": {},
   "outputs": [],
   "source": [
    "# Function\n",
    "# 사용자 정의 함수 \n",
    "# 함수를 정의할때 def라고 정의함\n",
    "# 함수 이름은 소문자로 사용함 만약 여러 당어로 만들어져 있다면 _로 함수이름을 지음\n",
    "# 함수 이름 뒤에는 () 기호안에 매개변수 (parameter)를을 정의함\n",
    "# 해당 함수를 나중에 사용할때 데이터를 어떻게 전달해줄지에 대한 내용을 기술함\n",
    "# 그 후 에 선언을 마무리한우 ...: 으로 마무리함\n",
    "# 만약 해당 함수가 결과값을 도출하고 그 결과값을 전달하려면\n",
    "# return 키워드로 결과값을 반환함\n",
    "def my_sum(a, b):\n",
    "    result = a + b\n",
    "    return result\n"
   ]
  },
  {
   "cell_type": "code",
   "execution_count": 11,
   "id": "e7f76a03",
   "metadata": {},
   "outputs": [
    {
     "name": "stdout",
     "output_type": "stream",
     "text": [
      "계산된 결과값은30\n"
     ]
    }
   ],
   "source": [
    "# 만들어진 함수를 호출할때는 함수이름을 쓰고 그 뒤에 괄호를 사용함\n",
    "# 인수(prarameter) 를 이용해서 매개변수에게 값을 전달함\n",
    "\n",
    "tmp = my_sum(10, 20) # 10, 20 : actual prameter (실 인자)\n",
    "print('계산된 결과값은{}'.format(tmp))"
   ]
  },
  {
   "cell_type": "code",
   "execution_count": null,
   "id": "3cfe6db2",
   "metadata": {},
   "outputs": [],
   "source": [
    "my_sum = 100 # 함수가 날아감 위에 작성한 코드들은 에러가 발생함"
   ]
  },
  {
   "cell_type": "code",
   "execution_count": 12,
   "id": "799c5e34",
   "metadata": {},
   "outputs": [
    {
     "name": "stdout",
     "output_type": "stream",
     "text": [
      "15\n"
     ]
    }
   ],
   "source": [
    "# 주어진 여거자기 내장함수가 있음\n",
    "my_list = [1, 2, 3, 4, 5]\n",
    "print(sum(my_list))"
   ]
  },
  {
   "cell_type": "code",
   "execution_count": 13,
   "id": "eeb50429",
   "metadata": {},
   "outputs": [],
   "source": [
    "sum = '소리없는 아우성!' # 내장함수가 사용자 정의 함수로 인해 날아감\n",
    "# 복원하기위해선 커널에서 서버를 재시작 시켜야함"
   ]
  },
  {
   "cell_type": "code",
   "execution_count": 4,
   "id": "d2f91fe1",
   "metadata": {},
   "outputs": [
    {
     "name": "stdout",
     "output_type": "stream",
     "text": [
      "30\n",
      "30\n",
      "60\n",
      "100\n",
      "150\n",
      "106\n"
     ]
    }
   ],
   "source": [
    "# 함수의 여러가지 형태\n",
    "\n",
    "def my_sum(*tmp): #*tmp >> 들여오는 실인자를 tuple로 받음\n",
    "    result = 0\n",
    "    for i in tmp:\n",
    "        result +=i\n",
    "    return result\n",
    "\n",
    "print(my_sum(10, 20))\n",
    "#my_sum(10) # 인자의 갯수가 맞지않으면 에러가 발생함\n",
    "# 함수를 확장성있게 만들고싶음\n",
    "print(my_sum(10, 20))\n",
    "print(my_sum(10, 20, 30))\n",
    "print(my_sum(10, 20, 30, 40))\n",
    "print(my_sum(10, 20, 30, 40, 50))\n",
    "print(my_sum(10, 20, 30, 40, 1, 2, 3))\n",
    "# 이런형식이 다 가능하게 만들기\n",
    "\n"
   ]
  },
  {
   "cell_type": "code",
   "execution_count": 7,
   "id": "c770b049",
   "metadata": {},
   "outputs": [
    {
     "name": "stdout",
     "output_type": "stream",
     "text": [
      "30\n",
      "200\n"
     ]
    }
   ],
   "source": [
    "# Python의 함수는 리턴값으로 여러개의 값을 사용할수있음\n",
    "# 모든 프로그래밍 언어 함수의 리턴값은 반드시 1개임\n",
    "# 만약 여러개의 값을 리턴한다면 이것은 튜플을 리턴하는 뜻임\n",
    "\n",
    "def my_func (a,b):\n",
    "    result1 = a + b\n",
    "    result2 = a * b\n",
    "    return result1, result2 # 튜플기호 ()는 생략이 되는거라 튜플 지정함수가 만들어짐\n",
    "# data1 = my_func(10, 20)\n",
    "# print(type(data1)) # <class 'tuple'>\n",
    "\n",
    "data1, data2 = my_func(10,20)\n",
    "\n",
    "print(data1)\n",
    "print(data2)\n"
   ]
  },
  {
   "cell_type": "code",
   "execution_count": 11,
   "id": "dda58eab",
   "metadata": {},
   "outputs": [
    {
     "name": "stdout",
     "output_type": "stream",
     "text": [
      "130\n",
      "60\n"
     ]
    }
   ],
   "source": [
    "#default parameter\n",
    "#함수 정의 할때 형식인자의 맨 마지막에 나올수 있음\n",
    "# 이 parameter는 변수와 함께 값이 정의됨\n",
    "# 따라서 호출할때 값을 넣어주지 않으면 이 선언된 값이 사용됨\n",
    "# 함수만들기\n",
    "\n",
    "def my_func(a, b, c = 100):\n",
    "    result = a + b + c\n",
    "    return result\n",
    "\n",
    "tmp = my_func(10,20)\n",
    "\n",
    "print(tmp)\n",
    "\n",
    "tmp = my_func(10, 20, 30)\n",
    "\n",
    "print(tmp)"
   ]
  },
  {
   "cell_type": "code",
   "execution_count": 16,
   "id": "e8c7a2cf",
   "metadata": {},
   "outputs": [
    {
     "name": "stdout",
     "output_type": "stream",
     "text": [
      "50\n",
      "50\n",
      "[10]\n"
     ]
    }
   ],
   "source": [
    "# mutable vs immutable의 특징\n",
    "\n",
    "def my_func(tmp_number, tmp_list):\n",
    "    tmp_number = tmp_number + 100\n",
    "\n",
    "data_x = 50 #정수\n",
    "data_list = [10] # list\n",
    "\n",
    "print(data_x) # 50\n",
    "\n",
    "#함수호출\n",
    "my_func(data_x, data_list)\n",
    "print(data_x) \n",
    "print(data_list)"
   ]
  },
  {
   "cell_type": "code",
   "execution_count": 19,
   "id": "a5ac3b3e",
   "metadata": {
    "scrolled": true
   },
   "outputs": [
    {
     "name": "stdout",
     "output_type": "stream",
     "text": [
      "[10]\n",
      "[10, 200]\n"
     ]
    }
   ],
   "source": [
    "def my_func(tmp_number, tmp_list):\n",
    "    tmp_list.append(200)\n",
    "    \n",
    "data_x = 50\n",
    "data_list = [10]\n",
    "\n",
    "print(data_list) # [10]\n",
    "\n",
    "my_func(data_x, data_list)\n",
    "\n",
    "print(data_list) # [10, 200]\n",
    "\n",
    "#함수 호출시 값을 넘길지 (call-by-value) >> immutable\n",
    "#주소를 넘길지의 차이(call-by-reference) >> mutable"
   ]
  },
  {
   "cell_type": "code",
   "execution_count": 23,
   "id": "37e59ce4",
   "metadata": {},
   "outputs": [
    {
     "name": "stdout",
     "output_type": "stream",
     "text": [
      "150\n"
     ]
    }
   ],
   "source": [
    "\n",
    "tmp = 100\n",
    "\n",
    "def my_func(x) : \n",
    "    global tmp # global scope에서 tmp를 찾아서 가져온다는 얘기\n",
    "    tmp = tmp + x\n",
    "    return tmp\n",
    "\n",
    "result = my_func(50)\n",
    "print(result)"
   ]
  },
  {
   "cell_type": "code",
   "execution_count": null,
   "id": "4f8f31e3",
   "metadata": {},
   "outputs": [],
   "source": [
    "# class\n",
    "\n",
    "# 예전 1990년대 부터\n",
    "# 구조적 프로그래밍 , 절차적 프로그래밍 부터 시작\n",
    "# 전체 프로그램의 세부기능을 함수로 만들어 그 함수들을 모아서 전체 프로그램으로 완성\n",
    "# 장점 : 분석 설계가 쉽고 빠르게 프로그램을 만들수있음\n",
    "# 단점 : 유지 보수가 힘듬\n",
    "# 시간이 흘러 19990년대부턴 인터넷이 보급되면서 사회에 정보량이 늘고 사회가 변하기 시작함\n",
    "# 따라서 새롭게 객체지향 프로그래밍 이 대두가됨\n",
    "# 장점 : 유지보수가 쉬움\n",
    "# 단점 : 분석 설계가 힘듦\n",
    "# 객체지향 프로그래밍을 하는 방법\n",
    "# 내가 현실에서 구현해야하는 문제를 그래도 프로그램으로 표현함 (모델링)\n",
    "# 기존에 기능으로 세분화 햇던 방식에 문제를 구성하고있는 구성요소들을 파악하고 구성요소가에 데이터가 어떻게 교환되는지를 파악해서\n",
    "# 프로그래밍을 해야함\n",
    "# 문제를 구성하고있는 구성요소들을 파악\n",
    "# 이 구성요소들을 프로그램적으로 표현\n",
    "# 이런 구성요소들은 너무 복잡해서 Abstraction(추상화)를 이용해 상태값과 행위를 파악\n",
    "# 상태값은 변수로 행위는 함수로 표현\n",
    "# 이런 변수와 함수를 하나로 묶어주는 단위가 class\n",
    "# 따라서 class는 객체 모델링의 수단\n",
    "# class의 또 다른 의미는 ADT(Abstract Data Type)\n",
    "# class는 데이터 타입을 이용해서 새로운 데이터 타입을 만들수있는 도구로 사용자 정의 데이터 타입을 만들수있음"
   ]
  },
  {
   "cell_type": "code",
   "execution_count": 24,
   "id": "f9155af5",
   "metadata": {},
   "outputs": [
    {
     "name": "stdout",
     "output_type": "stream",
     "text": [
      "<class '__main__.Student'>\n"
     ]
    }
   ],
   "source": [
    "# 현실 세계에 있는 학생이라는 개념을 class라고 표현\n",
    "# class의 키워드가 먼저나오고 이름을 지어줘야함\n",
    "# class의 이름은 첫글자가 관용적으로 대문자로 써줘야함\n",
    "# python이 기본으로 내장하고 있는 class는 소문자를 사용함 (class int)\n",
    "# 이름 뒤에는 바로 ()가 나오는데 여기 상위클래스가 들어감\n",
    "\n",
    "class Student(object):\n",
    "    #변수들의 집함\n",
    "    #initalizer\n",
    "    #특수한 형태의 함수는 magic function이라고 부름\n",
    "    def __init__(self):\n",
    "        pass\n",
    "    \n",
    "    #함수들의 집함(사용자 정의 함수)\n",
    "    def printinfo(self):\n",
    "        pass\n",
    "    \n",
    "# class를 정의했으면 이 class를 기반으로 한 메모리공간을 확보해야 그 안에 데이터를 저장할수있음\n",
    "\n",
    "s = Student() # 객체 (instance) a가 만들어짐\n",
    "\n",
    "print(type(s)) # <class '__main__.Student'>\n"
   ]
  },
  {
   "cell_type": "code",
   "execution_count": 27,
   "id": "a1b5e028",
   "metadata": {},
   "outputs": [],
   "source": [
    "# class로부터 파생된 객체가 값을 하나 지정할수 있도록 s_name이라는 property를 만들기\n",
    "\n",
    "class Student(object):\n",
    "   \n",
    "    def __init__(self, s_name):\n",
    "        self.s_name = s_name # self.s_name >> property\n",
    "    \n",
    "    \n",
    "    def printinfo(self):\n",
    "        pass\n",
    "\n",
    "\n",
    "s = Student('홍길동') \n",
    "\n",
    "#student class안의 __init__magic function을 찾기\n",
    "# 이게 함수 호출이라서 인자의 개수가 맞아야함"
   ]
  }
 ],
 "metadata": {
  "kernelspec": {
   "display_name": "Python [conda env:data_env] *",
   "language": "python",
   "name": "conda-env-data_env-py"
  },
  "language_info": {
   "codemirror_mode": {
    "name": "ipython",
    "version": 3
   },
   "file_extension": ".py",
   "mimetype": "text/x-python",
   "name": "python",
   "nbconvert_exporter": "python",
   "pygments_lexer": "ipython3",
   "version": "3.8.12"
  }
 },
 "nbformat": 4,
 "nbformat_minor": 5
}
