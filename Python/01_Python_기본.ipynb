{
 "cells": [
  {
   "cell_type": "code",
   "execution_count": 2,
   "id": "c0c5365b",
   "metadata": {
    "scrolled": true
   },
   "outputs": [
    {
     "name": "stdout",
     "output_type": "stream",
     "text": [
      "Hello World\n"
     ]
    }
   ],
   "source": [
    "# 이 녹색칸의 박스를 셀이라고 부름\n",
    "# python의 주석은 #을 이용해서 사용함\n",
    "#이 cell안에 python 코드를 작성\n",
    "\n",
    "#변수선언(변수 타입을 명시하지않고 세미콜론도찍지않음)\n",
    "a = 100\n",
    "\n",
    "#출력(출력함수 print())\n",
    "print(\"Hello World\")\n",
    "\n",
    "# JAVA는 소스코드를 만들고 javac로 컴파일함 -> .class파일 생성\n",
    "# class를 java 인터프리터로 해석해서 실행하는 구조임\n",
    "\n",
    "#jupyter notebook은 ipython을 기반으로함\n",
    "#cell 단위로 실행 가능"
   ]
  },
  {
   "cell_type": "code",
   "execution_count": null,
   "id": "0d7ef04d",
   "metadata": {},
   "outputs": [],
   "source": [
    "# B키는 blow의 약자로 아래쪽이라는 뜻으로 현재셀 아래쪽에 새로운 셀을 만듬\n",
    "# D키는 2번연속으로 누르면 셀이 지워지게됨\n",
    "# A키는 현재셀 위쪽에 새로운 셀을 만듬"
   ]
  },
  {
   "cell_type": "code",
   "execution_count": 3,
   "id": "db8ee219",
   "metadata": {
    "scrolled": true
   },
   "outputs": [
    {
     "ename": "IndentationError",
     "evalue": "unexpected indent (Temp/ipykernel_6660/1211310475.py, line 2)",
     "output_type": "error",
     "traceback": [
      "\u001b[1;36m  File \u001b[1;32m\"C:\\Users\\BIT\\AppData\\Local\\Temp/ipykernel_6660/1211310475.py\"\u001b[1;36m, line \u001b[1;32m2\u001b[0m\n\u001b[1;33m    a=100\u001b[0m\n\u001b[1;37m    ^\u001b[0m\n\u001b[1;31mIndentationError\u001b[0m\u001b[1;31m:\u001b[0m unexpected indent\n"
     ]
    }
   ],
   "source": [
    "# 들여쓰기?\n",
    "# a=100 (공란때문에 오류가생김)\n",
    "    \n",
    "# 올바른 코딩습관을 기르기위해 들여쓰기에 대해서 강조시키기위해 이렇게만듬"
   ]
  },
  {
   "cell_type": "code",
   "execution_count": null,
   "id": "1890e19e",
   "metadata": {},
   "outputs": [],
   "source": [
    "# 한줄주석은 # 으로 사용하고 여러줄 주석 사용은 ctrl + / 를 사용해서 여러줄 주석 사용\n"
   ]
  },
  {
   "cell_type": "code",
   "execution_count": 4,
   "id": "a9d61c8c",
   "metadata": {
    "scrolled": true
   },
   "outputs": [
    {
     "name": "stdout",
     "output_type": "stream",
     "text": [
      "100\n"
     ]
    },
    {
     "ename": "NameError",
     "evalue": "name 'a' is not defined",
     "output_type": "error",
     "traceback": [
      "\u001b[1;31m---------------------------------------------------------------------------\u001b[0m",
      "\u001b[1;31mNameError\u001b[0m                                 Traceback (most recent call last)",
      "\u001b[1;32m~\\AppData\\Local\\Temp/ipykernel_6660/3632930350.py\u001b[0m in \u001b[0;36m<module>\u001b[1;34m\u001b[0m\n\u001b[0;32m      3\u001b[0m \u001b[0mprint\u001b[0m\u001b[1;33m(\u001b[0m\u001b[0ma\u001b[0m\u001b[1;33m)\u001b[0m\u001b[1;33m\u001b[0m\u001b[1;33m\u001b[0m\u001b[0m\n\u001b[0;32m      4\u001b[0m \u001b[1;32mdel\u001b[0m \u001b[0ma\u001b[0m\u001b[1;33m\u001b[0m\u001b[1;33m\u001b[0m\u001b[0m\n\u001b[1;32m----> 5\u001b[1;33m \u001b[0mprint\u001b[0m\u001b[1;33m(\u001b[0m\u001b[0ma\u001b[0m\u001b[1;33m)\u001b[0m \u001b[1;31m#error\u001b[0m\u001b[1;33m\u001b[0m\u001b[1;33m\u001b[0m\u001b[0m\n\u001b[0m",
      "\u001b[1;31mNameError\u001b[0m: name 'a' is not defined"
     ]
    }
   ],
   "source": [
    "# 변수의 생성과 삭제\n",
    "a= 100\n",
    "print(a)\n",
    "del a \n",
    "print(a) #error\n",
    "\n",
    "#파이선에서는 변수를 삭제시켜버릴수가있음"
   ]
  },
  {
   "cell_type": "code",
   "execution_count": null,
   "id": "88869197",
   "metadata": {},
   "outputs": [],
   "source": [
    "# Python의 Data Type\n",
    "# 일반적으로 다른언어는 데이터타입과 자료구조를 구분함\n",
    "# PYthon은 Data Type안에 자료구조도 같이 들어가있음"
   ]
  },
  {
   "cell_type": "code",
   "execution_count": null,
   "id": "cbb2ffca",
   "metadata": {},
   "outputs": [],
   "source": [
    "# Python의 Data Type (bilt-in Data Type)\n",
    "# 총 6개의 범주가있음\n",
    "# 1. Numeric\n",
    "#    1-1 정수 => <Class int>\n",
    "#    1-2 실수 => <Class float>\n",
    "#    1-3 복소수 => <Class complex>\n",
    "# 2. Sequence\n",
    "# 3. Text Sequence\n",
    "# 4. Mapping\n",
    "# 5. Set\n",
    "# 6. Bool"
   ]
  },
  {
   "cell_type": "code",
   "execution_count": 8,
   "id": "12c1c286",
   "metadata": {},
   "outputs": [
    {
     "name": "stdout",
     "output_type": "stream",
     "text": [
      "<class 'int'>\n",
      "<class 'float'>\n",
      "0.75\n",
      "1\n",
      "3\n"
     ]
    }
   ],
   "source": [
    "# Numeric\n",
    "a = 100\n",
    "\n",
    "# a의 Data Type을 알고싶음\n",
    "# Python에는 type()이라는 내장함수가 존재함\n",
    "print(type(a))  #<class 'int'>\n",
    "\n",
    "b = 3.1415926535\n",
    "print(type(b))  #<class 'float'>\n",
    "\n",
    "# 프로그램 언어에서 연산은 기본적으로 같은 데이터 타입끼리 발생함 \n",
    "# 그 결과도 같은 데이터 타입\n",
    "# a = 3+1.0\n",
    "# a= 3.0 + 1.0 으로 변환\n",
    "c = 3/4\n",
    "print(c) #0.75  \n",
    "# 다른언어에서는 데이터 타입때문에 0이 나오는데\n",
    "# Pyhton에서는 0.75가 나옴\n",
    "# 나머지 연산자 %\n",
    "d = 10 % 3\n",
    "print(d) # 1\n",
    "# 몫 연산자 //\n",
    "e = 10//3\n",
    "print(e) # 3"
   ]
  }
 ],
 "metadata": {
  "kernelspec": {
   "display_name": "Python [conda env:data_env] *",
   "language": "python",
   "name": "conda-env-data_env-py"
  },
  "language_info": {
   "codemirror_mode": {
    "name": "ipython",
    "version": 3
   },
   "file_extension": ".py",
   "mimetype": "text/x-python",
   "name": "python",
   "nbconvert_exporter": "python",
   "pygments_lexer": "ipython3",
   "version": "3.8.12"
  }
 },
 "nbformat": 4,
 "nbformat_minor": 5
}
