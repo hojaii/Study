{
 "cells": [
  {
   "cell_type": "code",
   "execution_count": 13,
   "id": "fa76d5f8",
   "metadata": {
    "scrolled": true
   },
   "outputs": [
    {
     "name": "stdout",
     "output_type": "stream",
     "text": [
      "[1, 2, [10, 20, 30], 3]\n",
      "1\n",
      "[1, 100, [10, 20, 30], 3]\n",
      "6\n",
      "1\n",
      "70\n",
      "(10, 20, 30, 40)\n",
      "[30, 40, 50, 60]\n"
     ]
    }
   ],
   "source": [
    "# Sequence Data Type\n",
    "# 순서를 가지고있는 데이터 타입\n",
    "# 여러개의 데이터를 저장 할 수있는 집합형 자료구조\n",
    "# 1. <class list> => 리스트.\n",
    "# 2. <class tuple> => 튜플\n",
    "# 3. <class range> => 레인지\n",
    "\n",
    "# list는 임의의 객체를 순서대로 저장하는 집합형 자료구조\n",
    "# JAVA의 ArrayList와 유사함\n",
    "# list는 [](대괄호)를 이용해서 표현함\n",
    "\n",
    "a= []\n",
    "a= [1,2,3]\n",
    "a= [1,2,3.14] # 다른 데이터 타입도 같이저장할 수있음\n",
    "a= [1,2,[10,20,30],3] # 중첩 리스트도 가능\n",
    "\n",
    "print(a) # [1, [10,20], 2] # 리스트의 기본 연산 -> indexing 과 slicing\n",
    "\n",
    "# indexing이란 집합자료구조의 순서를 이용해서 값을 제어하는 방식\n",
    "# indexing를 하기 위해 사용하는 기호는 []\n",
    "\n",
    "a= [1,2,[10,20,30],3] # 중첩 리스트도 가능\n",
    "print(a[0]) #1\n",
    "a[1] = 100 #해당 위치의 값을 변경함\n",
    "print(a) # [1, 100, [10, 20, 30], 3]\n",
    "# Python의 indexing은 다른 프로그래밍 언어와 약간 다름\n",
    "# Python은 minus index를 허용함\n",
    "a= [1, 2, 3, 4, 5, 6]\n",
    "print(a[-1]) #6\n",
    "print(a[-6]) #1\n",
    "\n",
    "a= [1,2,3, [10,20,[50,70,100],30],4,5]\n",
    "print(a[3][2][1]) #70\n",
    "\n",
    "# slicing\n",
    "a= 10, 20, 30, 40, 50, 60\n",
    "# slicing도 기호는 indexing과 같은 기호를 사용함\n",
    "print(a[0:4]) # (10, 20, 30, 40)\n",
    "# 앞에 숫자는 포함, 뒤에 숫자는 포함하지않음\n",
    "# 슬라이싱은 원본의 일부를 잘라내는 기능\n",
    "# 즉 슬라이싱의 결과는 원본의 타입과 동일함\n",
    "a = [10, 20, 30, 40, 50, 60]\n",
    "print(a[2:]) # [30, 40, 50, 60]\n",
    "# 뒤에 숫자를 표기하지않을경우 끝까지 출력시킴 만약 앞에 숫자가 없다면 처음부터\n",
    "\n",
    "\n"
   ]
  },
  {
   "cell_type": "code",
   "execution_count": 16,
   "id": "4f4e5b75",
   "metadata": {},
   "outputs": [
    {
     "name": "stdout",
     "output_type": "stream",
     "text": [
      "[1, 2, 3, 4, 5, 6]\n",
      "[1, 2, 3, 1, 2, 3, 1, 2, 3]\n"
     ]
    }
   ],
   "source": [
    "# list의 또 다른 특성\n",
    "\n",
    "a = [1, 2, 3]\n",
    "b = [4, 5, 6]\n",
    "\n",
    "print(a+b) # [1, 2, 3, 4, 5, 6]\n",
    "# list 끼리의 +연산은 list를 연결시키는 역할임\n",
    "\n",
    "print(a*3) # [1, 2, 3, 1, 2, 3, 1, 2, 3]\n",
    "# list 끼리의 * 연산도 +를 여러번 한다고 생각하면됨\n",
    "\n"
   ]
  },
  {
   "cell_type": "code",
   "execution_count": 25,
   "id": "5438a359",
   "metadata": {
    "scrolled": true
   },
   "outputs": [
    {
     "name": "stdout",
     "output_type": "stream",
     "text": [
      "1\n",
      "5\n",
      "[1, 2, 100, 4, 5]\n",
      "[1, 2, [10, 20, 30], 4, 5]\n",
      "[1, 2, 100, 5]\n",
      "[1, 2, 3, 5]\n",
      "[1, 2, 3, 5]\n"
     ]
    }
   ],
   "source": [
    "a = [1, 2, 3, 4, 5]\n",
    "\n",
    "print(a[0]) #1\n",
    "print(a[-1]) #5\n",
    "# print (a[10]) #인덱스 오류 발생\n",
    "a[2] =100\n",
    "print(a) # [1, 2, 100, 4, 5]\n",
    "a[2] = [10, 20, 30]\n",
    "print(a) # [1, 2, [10, 20, 30], 4, 5]\n",
    "\n",
    "a = [1, 2, 3, 4, 5]\n",
    "a[2:4] = [100] # []를 넣지않는다면 오류발생 3~4번째 배열을 [100] 으로 교체하는것이기 때문임\n",
    "print(a)\n",
    "\n",
    "a = [1, 2, 3, 4, 5] # => [1, 2, 3, 5] 로 만들려면?\n",
    "del a[3]\n",
    "print(a) # [1, 2, 3, 5]\n",
    "\n",
    "a = [1, 2, 3, 4, 5] # => [1, 2, 3, 5] 로 만들기 2\n",
    "a[3:4] = [] # a[3;4] > [4] 이값을 [] 빈값으로 만들어버린다는뜻\n",
    "print(a) # [1, 2, 3, 5]\n"
   ]
  },
  {
   "cell_type": "code",
   "execution_count": 34,
   "id": "8d089bc2",
   "metadata": {},
   "outputs": [
    {
     "name": "stdout",
     "output_type": "stream",
     "text": [
      "[1, 2, 3, 4, 5, 6]\n",
      "None\n",
      "[1, 2, 5, 6, 7, 8, 10]\n",
      "[1, 2, 5, 6, 7, 8, 10]\n",
      "[5, 8, 1, 10, 2, 7, 6]\n",
      "[10, 8, 7, 6, 5, 2, 1]\n"
     ]
    }
   ],
   "source": [
    "# list의 특징들을 알아보았음\n",
    "# 표현법, 연산, indexing, slicing\n",
    "# list가 가지고있는 method\n",
    "\n",
    "a = [1, 2, 3, 4, 5]\n",
    "# 리스트에 새로욵 요소를 추가하기\n",
    "a. append(6) # append는 무조건 맨 마지막 칸을 만들어서 값을 넣음\n",
    "\n",
    "print(a) # [1, 2, 3, 4, 5, 6]\n",
    "\n",
    "a= [5, 8, 1, 10, 2, 7, 6]\n",
    "# 정렬의 기본은 오름차순\n",
    "result = a.sort()\n",
    "print(result) # None > 리턴이 없기때문에 출력하려면 a를 출력시켜야함\n",
    "# sort()는 method \n",
    "# 객체지향에서 calss의 instance가 가지고있는 데이터가 있음\n",
    "# method는 일반적으로 이 데이터를 제어하는 역할을 수행함\n",
    "print(a) # [1, 2, 5, 6, 7, 8, 10] # 오름차순으로 정렬되어있음\n",
    "\n",
    "# 함수계열은 예외적으로 python은 여러가지 내장함수를 제공함\n",
    "# 정렬 하는 내장함수가 있음\n",
    "\n",
    "a = [5, 8, 1, 10, 2, 7, 6]\n",
    "result = sorted(a)\n",
    "print(result) #[1, 2, 5, 6, 7, 8, 10]\n",
    "print(a) #[5, 8, 1, 10, 2, 7, 6]\n",
    "\n",
    "# 반대로 내림차순 정렬을 하려면?\n",
    "a = [5, 8, 1, 10, 2, 7, 6]\n",
    "a.sort() #[1, 2, 5, 6, 7, 8, 10]\n",
    "a.reverse() # 리스트의 요소를 다시 역으로 바꿈\n",
    "print(a) # [10, 8, 7, 6, 5, 2, 1]"
   ]
  },
  {
   "cell_type": "code",
   "execution_count": 36,
   "id": "1dee8e13",
   "metadata": {
    "scrolled": true
   },
   "outputs": [
    {
     "name": "stdout",
     "output_type": "stream",
     "text": [
      "100\n",
      "<class 'int'>\n",
      "140717704817504\n"
     ]
    }
   ],
   "source": [
    "a = 100\n",
    "\n",
    "print(a) # a가 가지고있는 메모리 주소의 해시값\n",
    "         # 그 메모리 주소를 찾아 가서 해당 객체가 가지고있는 데이터를 출력\n",
    "print(type(a)) # a가 가지고있는 메모리주소의 해시값을 이용하여 그 메모리 주소를 찾아가서 해당객체의 class를 알아내는 함수임\n",
    "\n",
    "print(id(a)) #140717704817504\n",
    "# a가 가지고있는 메모리주소의 해시값이 얼마인지 확인\n"
   ]
  },
  {
   "cell_type": "code",
   "execution_count": 44,
   "id": "0520c0af",
   "metadata": {
    "scrolled": true
   },
   "outputs": [
    {
     "name": "stdout",
     "output_type": "stream",
     "text": [
      "140717704822496\n",
      "140717704822496\n",
      "1781134741616\n",
      "1781134741680\n",
      "1781157874432\n",
      "1781157179456\n",
      "True\n",
      "False\n"
     ]
    }
   ],
   "source": [
    "a = 256\n",
    "b = 256\n",
    "\n",
    "print(id(a)) #140717704822496\n",
    "print(id(b)) #140717704822496\n",
    "\n",
    "a = 257\n",
    "b = 257\n",
    "\n",
    "print(id(a)) #1781139330256\n",
    "print(id(b)) #1781139329936\n",
    "\n",
    "a = [1, 2, 3]\n",
    "b = [1, 2, 3]\n",
    "\n",
    "print(id(a)) #1781139153024\n",
    "print(id(b)) #1781139153280\n",
    "\n",
    "# python은 비교를 할 때 일반적인 비교연산자 == 와\n",
    "#                      특수한 비교연산자 is를 제공함\n",
    "# == 이 연산을 많이 사용하는데 이 연산자는 값을 비교하는 연산자\n",
    "print(a == b) #True\n",
    "# is 연산자는 값을 비교하는게 아니라 해시 주소값을 비교하는것임\n",
    "print (a is b) #False"
   ]
  },
  {
   "cell_type": "code",
   "execution_count": 48,
   "id": "6d2e1b4e",
   "metadata": {},
   "outputs": [
    {
     "name": "stdout",
     "output_type": "stream",
     "text": [
      "[]\n"
     ]
    }
   ],
   "source": [
    "# 리스트를 만드는 또 다른 방법\n",
    "# 기본 방법은\n",
    "a = [1, 2, 3]\n",
    "# list는 어디에서부터 <class list> 에서부터 파생됨\n",
    "a = list() \n",
    "print(a) #[]"
   ]
  },
  {
   "cell_type": "code",
   "execution_count": 52,
   "id": "28db17b9",
   "metadata": {},
   "outputs": [
    {
     "name": "stdout",
     "output_type": "stream",
     "text": [
      "<class 'tuple'>\n",
      "3\n",
      "(2, 3, 4)\n",
      "(1, 2, 3, [4, 100, 6], 7, 8)\n"
     ]
    }
   ],
   "source": [
    "# Sequence Data Type\n",
    "# 1. List\n",
    "# 2. tuple\n",
    "# 3. range\n",
    "\n",
    "# tuple => list와 거의 유사함\n",
    "# list는 [] 기호를 이용해서 표현함\n",
    "a = [1, 2, 3]\n",
    "#. tuple 은 () 기호를 이용해서 표현함\n",
    "a = (1, 2, 3)\n",
    "\n",
    "a = [1] # 요소가 1개인 list\n",
    "b = (1.) # 요소가 1개인 tuple(괄호와 구분하기 위해서 .를사용함)\n",
    "\n",
    "a = (1, 2, 3)\n",
    "print(type(a)) # <class 'tuple'>\n",
    "#tuple은 괄호를 생략해서 사용할수있음\n",
    "a = 1, 2, 3 # <class 'tuple'>\n",
    "\n",
    "a, b, c = 1, 2, 3\n",
    "(a, b, c) = (1, 2, 3) # 위와 같은의미 (괄호가 생략된것)\n",
    "\n",
    "# tuple은 list와 대동소이 함 (동작 방식이 거이 비슷함)\n",
    "\n",
    "a = (1, 2, (3, 4), 5, [6,7,8]) # 튜플안에 튜플과 리스트가 들어올수가있음\n",
    "\n",
    "# indsexing과 slicing >> list가 되므로 tuple도 가능함\n",
    "a = (1, 2, 3, 4, 5)\n",
    "print(a[2]) # 3\n",
    "print(a[1:4]) #(2, 3, 4)\n",
    " \n",
    "a= (1, 2, 3, 4, 5)\n",
    "#a[0] = 100 >> 타입 에러발생 >> tuple은 값을 바꾸지못하는 (read only) list라고 생각하면됨\n",
    "\n",
    "a= (1, 2, 3, [4, 5, 6], 7, 8)\n",
    "\n",
    "a[3][1] = 100 # 가능\n",
    "\n",
    "print(a) # (1, 2, 3, [4, 100, 6], 7, 8)\n",
    "\n",
    "# list보다 제약이 있는 자료구조(데이터 타입)이 tuple이지만 상당히 자주쓰는 타입임\n",
    "\n",
    "a = tuple() # 비어있는 tupled을 생성\n",
    "\n",
    "a = [1, 2, 3, 4, 5]\n",
    "b = tuple(a) # list를 tuple로 바꿀수있음\n",
    "\n"
   ]
  },
  {
   "cell_type": "code",
   "execution_count": 55,
   "id": "0d84eb67",
   "metadata": {},
   "outputs": [
    {
     "name": "stdout",
     "output_type": "stream",
     "text": [
      "range(0, 10)\n",
      "3\n",
      "range(3, 7)\n"
     ]
    }
   ],
   "source": [
    "# Sequencfe Data Typle\n",
    "# 1. list\n",
    "# 2. tuple\n",
    "# 3. range\n",
    "\n",
    "# range(범위)\n",
    "# list와 tuple은 실제 데이터를 저장하고있음\n",
    "a = [1, 2, 3, 4, 5, 6, 7, 8, 9, 10]\n",
    "# range는 실제 데이터를 가지고있지않음 >> 범위에 대한 의미\n",
    "\n",
    "# a = range(시작, 끝, 증감)\n",
    "a = range (1, 10, 1) # 1부터(포함) 10까지(미포함) 1씩 증가하는 정수들 이라는뜻\n",
    "a = range(3, 10, 2) # 3, 5, 7, 9\n",
    "a = range(0, 10, 1) # 시작이 0이고 증감이 1 이라면 생략할수가있음\n",
    "a = range(10) # 위 range와 같은 의미\n",
    "\n",
    "print(a) #range(0, 10) 0~10 의 데이터를 가지고있는게 아니라 범위에 대한의미를 출력함\n",
    "print(a[3]) # 3 실제로 값을 가지고있지는 않지만 indexing과 slicing이 가능함 \n",
    "print(a[3:7]) # range(3, 7)\n"
   ]
  },
  {
   "cell_type": "code",
   "execution_count": 80,
   "id": "cd3f9c18",
   "metadata": {
    "scrolled": true
   },
   "outputs": [
    {
     "name": "stdout",
     "output_type": "stream",
     "text": [
      "Helloworld\n",
      "i\n",
      "s is \n",
      "t\n",
      "THIS IS A SAMPLE TEXT\n",
      "나는 사과를 3개, 바나나를 5개 가지고 있어요!\n",
      "나는 사과를 10개, 바나나를 20개 가지고 있어요!\n",
      "Hello100\n"
     ]
    }
   ],
   "source": [
    "# 3. Text Sequence Type\n",
    "# <class str>\n",
    "# JAVA는 한 글자(character)sms ' ' 기호를 사용하고\n",
    "#        여러 글자(String)dms \" \" 기호를 사용함\n",
    "# Python은 문자와 문자열의 구분이 없음 전부다 문자열로 생각함\n",
    "# 따라서 기호도 '' \"\" 구분이 따로없음\n",
    "# 'Hello' == \"Hello\"\n",
    "\n",
    "first = 'Hello'\n",
    "second = 'world'\n",
    "print(first + second)  # Helloworld >> 문자열 연결\n",
    "\n",
    "txt = 'this is a sample text'\n",
    "print(txt[2]) # i\n",
    "print(txt[3:8]) # s is \n",
    "print(txt[-1]) # t\n",
    "\n",
    "#method 2가지\n",
    "print(txt.upper()) # 대문자로 표현\n",
    "my_txt = '나는 사과를 3개, 바나나를 5개 가지고 있어요!'\n",
    "print(my_txt)\n",
    "\n",
    "\n",
    "fruit_txt = '나는 사과를 {}개, 바나나를 {}개 가지고 있어요!'\n",
    "no_apple = 10\n",
    "no_banana = 20\n",
    "\n",
    "new_txt = fruit_txt.format(no_apple, no_banana)\n",
    "print(new_txt)\n",
    "\n",
    "# 많이 하는 실수\n",
    "#print('Hello' + 100)   # Java는 가능하지만 Python은 자동으로 숫자를 문자열로 바꿔주지 않아서 오류가생김\n",
    "print('Hello' + str(100))   # Hello100"
   ]
  },
  {
   "cell_type": "code",
   "execution_count": 81,
   "id": "447582c9",
   "metadata": {},
   "outputs": [
    {
     "name": "stdout",
     "output_type": "stream",
     "text": [
      "<class 'dict'>\n",
      "홍길동\n",
      "이건 숫자에요!\n",
      "이건 tuple이에요!\n"
     ]
    }
   ],
   "source": [
    "# 4. Mapping\n",
    "#    <class dict>\n",
    "# dictionary(딕셔너리)\n",
    "# {} 를 이용해요. 중괄호 안에 Key와 Value의 쌍으로 표현.\n",
    "\n",
    "a = { 'name': '홍길동',\n",
    "       10: '이건 숫자에요!',\n",
    "       (1,2,3): '이건 tuple이에요!',\n",
    "       'addr': '서울',\n",
    "       'age': 20\n",
    "    }\n",
    "# dictionary는 순번의 개념이 없음\n",
    "print(type(a))   # <class 'dict'>\n",
    "# print(a[0])    # Error 순번개념이 없어서 숫자 인덱스를 사용할 수 없어요!\n",
    "print(a['name']) # 홍길동\n",
    "print(a[10])     # 이건 숫자에요!\n",
    "print(a[(1,2,3)]) # 이건 tuple이예요!"
   ]
  },
  {
   "cell_type": "code",
   "execution_count": 85,
   "id": "ff65560c",
   "metadata": {
    "scrolled": true
   },
   "outputs": [
    {
     "ename": "TypeError",
     "evalue": "unhashable type: 'list'",
     "output_type": "error",
     "traceback": [
      "\u001b[1;31m---------------------------------------------------------------------------\u001b[0m",
      "\u001b[1;31mTypeError\u001b[0m                                 Traceback (most recent call last)",
      "\u001b[1;32m~\\AppData\\Local\\Temp/ipykernel_5044/1305278704.py\u001b[0m in \u001b[0;36m<module>\u001b[1;34m\u001b[0m\n\u001b[1;32m----> 1\u001b[1;33m a = {'name': '홍길동',\n\u001b[0m\u001b[0;32m      2\u001b[0m        \u001b[1;36m10\u001b[0m\u001b[1;33m:\u001b[0m \u001b[1;34m'이건 숫자예요!'\u001b[0m\u001b[1;33m,\u001b[0m\u001b[1;33m\u001b[0m\u001b[1;33m\u001b[0m\u001b[0m\n\u001b[0;32m      3\u001b[0m        \u001b[1;33m(\u001b[0m\u001b[1;36m1\u001b[0m\u001b[1;33m,\u001b[0m\u001b[1;36m2\u001b[0m\u001b[1;33m,\u001b[0m\u001b[1;36m3\u001b[0m\u001b[1;33m)\u001b[0m\u001b[1;33m:\u001b[0m \u001b[1;34m'이건 tuple이예요!'\u001b[0m\u001b[1;33m,\u001b[0m\u001b[1;33m\u001b[0m\u001b[1;33m\u001b[0m\u001b[0m\n\u001b[0;32m      4\u001b[0m        \u001b[1;34m'addr'\u001b[0m\u001b[1;33m:\u001b[0m \u001b[1;34m'서울'\u001b[0m\u001b[1;33m,\u001b[0m\u001b[1;33m\u001b[0m\u001b[1;33m\u001b[0m\u001b[0m\n\u001b[0;32m      5\u001b[0m        \u001b[1;34m'age'\u001b[0m\u001b[1;33m:\u001b[0m \u001b[1;36m20\u001b[0m\u001b[1;33m,\u001b[0m\u001b[1;33m\u001b[0m\u001b[1;33m\u001b[0m\u001b[0m\n",
      "\u001b[1;31mTypeError\u001b[0m: unhashable type: 'list'"
     ]
    }
   ],
   "source": [
    "a = {'name': '홍길동',\n",
    "       10: '이건 숫자예요!',\n",
    "       (1,2,3): '이건 tuple이예요!',\n",
    "       'addr': '서울',\n",
    "       'age': 20,\n",
    "       [1,2,3]: '이건 리스트예요!'\n",
    "    }\n",
    "# dict의 key값은 변하지 않는 값으로 사용해야함\n",
    "# 따라서 값이 변할 수 있는 list는 key로 사용을 할 수없음\n",
    "# 그래서 일반적으로 key는 대체로 문자열을 이용\n",
    "\n",
    "# 원래 이렇게 순서개념없이 키와 밸류의 쌍으로 데이터를 저장하는 자료구조를 dictionary(dict)라고 함\n",
    "# 순서가 있는 dict도 따로 제공은 되지만 순서로 사용하지말것"
   ]
  },
  {
   "cell_type": "code",
   "execution_count": 86,
   "id": "9a3158f1",
   "metadata": {},
   "outputs": [
    {
     "name": "stdout",
     "output_type": "stream",
     "text": [
      "아이유\n",
      "{'name': '홍길동', 'age': 20}\n",
      "{'name': '홍길동', 'age': 20, 'addr': '서울'}\n"
     ]
    }
   ],
   "source": [
    "a = {\n",
    "    'name': '아이유',\n",
    "    'age': 20\n",
    "}\n",
    "\n",
    "print(a['name'])  # 아이유\n",
    "a['name'] = '홍길동'\n",
    "\n",
    "print(a)   # {'name': '홍길동', 'age': 20}\n",
    "\n",
    "a['addr'] = '서울'\n",
    "print(a)   # {'name': '홍길동', 'age': 20, 'addr': '서울'}\n",
    "# 없는 키를 이용해서 값을 저장하면 dict에 새롭게 저장"
   ]
  },
  {
   "cell_type": "code",
   "execution_count": 87,
   "id": "d61467bb",
   "metadata": {},
   "outputs": [
    {
     "name": "stdout",
     "output_type": "stream",
     "text": [
      "{'name': '홍길동', 'age': 20}\n"
     ]
    }
   ],
   "source": [
    "a = {\n",
    "    'name': '아이유',\n",
    "    'age': 20,\n",
    "    'name': '홍길동'\n",
    "}\n",
    "# 키가 중복되게 작성하면 원칙은 Error가 나는게 정상인데 python은 이걸 허용 하지만 잘못된 코드임\n",
    "print(a)   # {'name': '홍길동', 'age': 20}"
   ]
  },
  {
   "cell_type": "code",
   "execution_count": 88,
   "id": "c76288dc",
   "metadata": {},
   "outputs": [
    {
     "name": "stdout",
     "output_type": "stream",
     "text": [
      "{1, 2, 3, 4, 5}\n",
      "<class 'set'>\n",
      "{1, 2, 3, 4, 5}\n",
      "{4, 5}\n",
      "{1, 2, 3, 4, 5, 6, 7, 8}\n",
      "{1, 2, 3}\n"
     ]
    }
   ],
   "source": [
    "# Data Type\n",
    "# 1. Numeric\n",
    "# 2. Sequence\n",
    "# 3. Text Sequence\n",
    "# 4. Mapping\n",
    "#    <class dict>\n",
    "# 5. Set\n",
    "#    <class set>\n",
    "\n",
    "# set은 순서도 없고 키도 없으며 데이터만 존재함 {} 기호로 표현해요함\n",
    "\n",
    "a = {1, 2, 3, 4, 5}   # set\n",
    "print(a)\n",
    "print(type(a))    # <class 'set'>\n",
    "\n",
    "# set은 중복을 자동으로 제거함\n",
    "\n",
    "a = {1, 2, 3, 4, 5, 1, 1, 1, 1, 2, 2, 2, 2}   # \n",
    "print(a) # {1, 2, 3, 4, 5}\n",
    "\n",
    "\n",
    "s1 = set([1,2,3,4,5])   \n",
    "s2 = set([4,5,6,7,8])   \n",
    "# & 연산에 앞 뒤에 set이 오면 교집합 연산으로 작동\n",
    "# | 연산에 앞 뒤에 set이 오면 합집합 연산으로 작동\n",
    "# - 연산에 앞 뒤에 set이 오면 차집합 연산으로 작동\n",
    "print(s1 & s2)   # {4, 5}\n",
    "print(s1 | s2)   # {1, 2, 3, 4, 5, 6, 7, 8}\n",
    "print(s1 - s2)   # {1, 2, 3}"
   ]
  },
  {
   "cell_type": "code",
   "execution_count": 89,
   "id": "3b8c1b8f",
   "metadata": {},
   "outputs": [
    {
     "name": "stdout",
     "output_type": "stream",
     "text": [
      "{1, 2, 3, 4, 5}\n",
      "{1, 2, 3, 4, 5, 7}\n",
      "{1, 2, 3, 4, 5}\n",
      "{1, 2, 3, 4, 5, 6, 7}\n",
      "{1, 2, 3, 4, 5}\n",
      "{1, 2, 4, 5}\n"
     ]
    }
   ],
   "source": [
    "s = {1, 2, 3, 4 ,5}\n",
    "print(s) # {1, 2, 3, 4, 5}\n",
    "s.add(7) #데이터를 하나만 추가\n",
    "print(s)  # {1, 2, 3, 4, 5, 7}\n",
    "\n",
    "s = {1, 2, 3, 4 ,5}\n",
    "print(s)\n",
    "s.update({4,5,6,7})  #데이터를 여러개 추가\n",
    "print(s)    # {1, 2, 3, 4, 5, 6, 7} \n",
    "\n",
    "s = {1, 2, 3, 4 ,5}\n",
    "print(s)\n",
    "s.remove(3)\n",
    "print(s)   # {1, 2, 4, 5} #set 안의 데이터를 삭제함"
   ]
  },
  {
   "cell_type": "code",
   "execution_count": 90,
   "id": "61049f27",
   "metadata": {},
   "outputs": [
    {
     "name": "stdout",
     "output_type": "stream",
     "text": [
      "<class 'bool'>\n"
     ]
    }
   ],
   "source": [
    "# Data Type\n",
    "# 1. Numeric\n",
    "#    <class int> , <class float>\n",
    "# 2. Sequence\n",
    "#    <class list> <class tuple> <class range>\n",
    "# 3. Text Sequence\n",
    "#    <class str>\n",
    "# 4. Mapping\n",
    "#    <class dict>\n",
    "# 5. Set\n",
    "#    <class set>\n",
    "# 6. Bool\n",
    "#    <class bool> => True, False\n",
    "\n",
    "a = True\n",
    "print(type(a))  # <class 'bool'>"
   ]
  }
 ],
 "metadata": {
  "kernelspec": {
   "display_name": "Python [conda env:data_env] *",
   "language": "python",
   "name": "conda-env-data_env-py"
  },
  "language_info": {
   "codemirror_mode": {
    "name": "ipython",
    "version": 3
   },
   "file_extension": ".py",
   "mimetype": "text/x-python",
   "name": "python",
   "nbconvert_exporter": "python",
   "pygments_lexer": "ipython3",
   "version": "3.8.12"
  }
 },
 "nbformat": 4,
 "nbformat_minor": 5
}
