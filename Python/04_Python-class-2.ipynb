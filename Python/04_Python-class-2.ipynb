{
 "cells": [
  {
   "cell_type": "code",
   "execution_count": 7,
   "id": "e5682eae",
   "metadata": {},
   "outputs": [
    {
     "name": "stdout",
     "output_type": "stream",
     "text": [
      "홍길동\n"
     ]
    }
   ],
   "source": [
    "# class에 대한 내용정리\n",
    "# python module\n",
    "\n",
    "class Student(object):\n",
    "    #변수들\n",
    "    #initializer와 같은 여러개의 magic function\n",
    "    #initializer는 반드시 존재해야함\n",
    "    def __init__(self, s_name, s_dept, s_year):\n",
    "    #insance(객체)가 가지는 변수를 정의\n",
    "    #객체가 생성되었을때 객체를 초기화 시키는 역할을함\n",
    "        self.s_name = s_name\n",
    "        self.s_dept = s_dept\n",
    "        self.s_year = s_year\n",
    "    #사용자 정의 항수들\n",
    "    def printinfo(self):\n",
    "        pass\n",
    "    \n",
    "    \n",
    "s = Student('홍길동', '철학', '3') # 이 데이터가 initailizer에게 전달\n",
    "\n",
    "# 객체를 사용할 때는 dot operator(.)\n",
    "print(s.s_name)  #property를 사용\n",
    "s.printinfo() # method를 호출\n",
    "    "
   ]
  },
  {
   "cell_type": "code",
   "execution_count": null,
   "id": "acb3426a",
   "metadata": {},
   "outputs": [],
   "source": [
    "#객체가 가지는 instance variable(property)와 instance method는 객체가 만들어질때마다 독립적인 공간을 확보함"
   ]
  },
  {
   "cell_type": "code",
   "execution_count": 14,
   "id": "ba5fbaf6",
   "metadata": {},
   "outputs": [
    {
     "name": "stdout",
     "output_type": "stream",
     "text": [
      "False\n",
      "홍길동\n",
      "3.5\n",
      "3.5\n",
      "False\n"
     ]
    }
   ],
   "source": [
    "class Student(object):\n",
    "    #변수들\n",
    "    scholarship_grade = 3.5 #class veriabe는 클래스 영역에 생성됨\n",
    "    #initializer와 같은 여러개의 magic function\n",
    "    #initializer는 반드시 존재해야함\n",
    "    def __init__(self, s_name, s_dept, s_year, s_score):\n",
    "    #insance(객체)가 가지는 변수를 정의\n",
    "    #객체가 생성되었을때 객체를 초기화 시키는 역할을함\n",
    "        self.s_name = s_name\n",
    "        self.s_dept = s_dept\n",
    "        self.s_score = s_score\n",
    "    #사용자 정의 항수들\n",
    "    def printinfo(self):\n",
    "        pass\n",
    "    \n",
    "    def is_scholarship(self):\n",
    "        if self.s_score >= Student.scholarship_grade:\n",
    "            return True\n",
    "        else:\n",
    "            return False\n",
    "            \n",
    "\n",
    "s = Student('홍길동', '철학', '3', 2.5)\n",
    "print(s. is_scholarship())\n",
    "\n",
    "print(s.s_name)\n",
    "print(s.scholarship_grade) #3.5 =>class namespace\n",
    "print(Student.scholarship_grade) # 3.5 >> 이렇게 사용해야함\n",
    "\n",
    "#python은 상당히 유언한 언어\n",
    "#print(s.my_name) #에러\n",
    "s.my_name = '김철수' # 새로운 interface variable을 생성하여 값을 저장\n",
    "\n",
    "s.scholarshi_grade3 = 1.0  #instance namespace에 새로운 하나를 만듬\n",
    "\n",
    "print(s.is_scholarship())\n",
    "\n",
    "Student.scholarship_grade = 1.0 #class namespace에 변수를 명시적으로 지침\n",
    "\n",
    "#따라서 class variable은 class이름으로 사용하는게 좋음\n",
    "\n",
    "\n",
    "#class와 instance에 대한 내용을 정리"
   ]
  },
  {
   "cell_type": "code",
   "execution_count": null,
   "id": "a18a7297",
   "metadata": {},
   "outputs": [],
   "source": [
    "#Python특징\n",
    "#PYthon의 Data Type\n",
    "#Python의 제어문\n",
    "#Python 객체지향(class와 instance)\n",
    "\n",
    "#Python의 주요한 library\n",
    "#Python Module - Python은 이 library를 module이라고 표현함\n"
   ]
  },
  {
   "cell_type": "code",
   "execution_count": null,
   "id": "6f2792d1",
   "metadata": {},
   "outputs": [],
   "source": [
    "# module은 특정 폴더에 저장해야함\n",
    "# 특정폴더에 module을 저장하고 그 경로를 환경변수에 저장해야함\n",
    "# 특정폴더에 module을 저장하고 프로그램적으로 해당폴더를 지정해서 사용할수있음\n",
    "\n",
    "#환경변수를 이용해서 module폴더를 지정하고 module을 만들어서 사용\n",
    "#환경변수 PYTHONPATH를 만들어서 해당 폴더를 그값으로 설정"
   ]
  },
  {
   "cell_type": "code",
   "execution_count": 10,
   "id": "37291115",
   "metadata": {
    "scrolled": true
   },
   "outputs": [
    {
     "name": "stdout",
     "output_type": "stream",
     "text": [
      "3.141592\n",
      "30\n",
      "3.141592\n",
      "30\n",
      "3.141592\n",
      "30\n"
     ]
    }
   ],
   "source": [
    "# 1. module 만들기\n",
    "# module을 사용하려면 import 키워드를 이용함\n",
    "\n",
    "# import하면 해당 module파일을 객체화 시킴\n",
    "# import한 my_module은 instance(객체)가됨\n",
    "\n",
    "#기본형태 \n",
    "import my_module \n",
    "\n",
    "print(my_module.module_PI)\n",
    "print(my_module.my_func(10,20))\n",
    "\n",
    "#간단하게 사용하기 위해 일반적으로 alias를 사용함\n",
    "import my_module as m\n",
    "print(m.module_PI)\n",
    "print(m.my_func(10,20))\n",
    "my_obj = m.Student('홍길동', '철학')\n",
    "\n",
    "#다른형태로 사용\n",
    "#특성 module의 하나의 요소만 import할수있음\n",
    "from my_module import module_PI\n",
    "print(module_PI)\n",
    "from my_module import *\n",
    "print(my_func(10,20))"
   ]
  },
  {
   "cell_type": "code",
   "execution_count": 13,
   "id": "dcbde4f8",
   "metadata": {},
   "outputs": [
    {
     "name": "stdout",
     "output_type": "stream",
     "text": [
      "홍길동\n",
      "홍길동\n",
      "홍길동\n"
     ]
    }
   ],
   "source": [
    "# C:\\python_lib가 환경변수설정되어있고 test_module의 경로는 C:\\python_lib\\person\\my_student임\n",
    "\n",
    "import person.my_student.test_module\n",
    "print(person.my_student.test_module.my_name)\n",
    "\n",
    "#module이 package로 구성되어있을경우 일반적으론 아래처럼씀\n",
    "#from ~ import ~\n",
    "from person.my_student import test_module\n",
    "print(test_module.my_name)\n",
    "\n",
    "# frim package import module 항상 이렇게 쓰는건 아니고\n",
    "from person.my_student.test_module import my_name\n",
    "print(my_name)"
   ]
  },
  {
   "cell_type": "code",
   "execution_count": null,
   "id": "4518184c",
   "metadata": {},
   "outputs": [],
   "source": [
    "# language에 대하여 배운후 Web programing를함 (JAVA는 serviet-Spring, python은 django)"
   ]
  }
 ],
 "metadata": {
  "kernelspec": {
   "display_name": "Python [conda env:data_env] *",
   "language": "python",
   "name": "conda-env-data_env-py"
  },
  "language_info": {
   "codemirror_mode": {
    "name": "ipython",
    "version": 3
   },
   "file_extension": ".py",
   "mimetype": "text/x-python",
   "name": "python",
   "nbconvert_exporter": "python",
   "pygments_lexer": "ipython3",
   "version": "3.8.12"
  }
 },
 "nbformat": 4,
 "nbformat_minor": 5
}
