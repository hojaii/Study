{
 "cells": [
  {
   "cell_type": "code",
   "execution_count": 1,
   "metadata": {
    "colab": {
     "base_uri": "https://localhost:8080/",
     "height": 35
    },
    "colab_type": "code",
    "executionInfo": {
     "elapsed": 981,
     "status": "ok",
     "timestamp": 1595474831005,
     "user": {
      "displayName": "백문기",
      "photoUrl": "",
      "userId": "18252756555948692046"
     },
     "user_tz": -540
    },
    "id": "X3nTcM7Zrixa",
    "outputId": "e31e03ed-c837-403f-8dfa-cd3eb786e418"
   },
   "outputs": [
    {
     "data": {
      "text/plain": [
       "'2.8.0'"
      ]
     },
     "execution_count": 1,
     "metadata": {},
     "output_type": "execute_result"
    }
   ],
   "source": [
    "import tensorflow # conda install tensorflow\n",
    "tensorflow.__version__"
   ]
  },
  {
   "cell_type": "code",
   "execution_count": 2,
   "metadata": {
    "colab": {},
    "colab_type": "code",
    "executionInfo": {
     "elapsed": 853,
     "status": "ok",
     "timestamp": 1595474833541,
     "user": {
      "displayName": "백문기",
      "photoUrl": "",
      "userId": "18252756555948692046"
     },
     "user_tz": -540
    },
    "id": "nd89GQ9nrixf"
   },
   "outputs": [],
   "source": [
    "from tensorflow.keras.models import Sequential\n",
    "from tensorflow.keras.layers import Input, Dense"
   ]
  },
  {
   "cell_type": "code",
   "execution_count": 3,
   "metadata": {
    "colab": {},
    "colab_type": "code",
    "executionInfo": {
     "elapsed": 971,
     "status": "ok",
     "timestamp": 1595474835559,
     "user": {
      "displayName": "백문기",
      "photoUrl": "",
      "userId": "18252756555948692046"
     },
     "user_tz": -540
    },
    "id": "jkhQlDStrixi"
   },
   "outputs": [],
   "source": [
    "import seaborn as sns"
   ]
  },
  {
   "cell_type": "code",
   "execution_count": 4,
   "metadata": {
    "colab": {},
    "colab_type": "code",
    "executionInfo": {
     "elapsed": 886,
     "status": "ok",
     "timestamp": 1595474844551,
     "user": {
      "displayName": "백문기",
      "photoUrl": "",
      "userId": "18252756555948692046"
     },
     "user_tz": -540
    },
    "id": "DLB36hHbrixl"
   },
   "outputs": [],
   "source": [
    "iris = sns.load_dataset(\"iris\")"
   ]
  },
  {
   "cell_type": "code",
   "execution_count": 5,
   "metadata": {
    "colab": {},
    "colab_type": "code",
    "executionInfo": {
     "elapsed": 879,
     "status": "ok",
     "timestamp": 1595474847400,
     "user": {
      "displayName": "백문기",
      "photoUrl": "",
      "userId": "18252756555948692046"
     },
     "user_tz": -540
    },
    "id": "L9u_6Zt_rixp"
   },
   "outputs": [],
   "source": [
    "iris_X = iris.iloc[:, :-1]\n",
    "iris_y = iris.iloc[:, -1]"
   ]
  },
  {
   "cell_type": "code",
   "execution_count": 6,
   "metadata": {
    "colab": {},
    "colab_type": "code",
    "executionInfo": {
     "elapsed": 681,
     "status": "ok",
     "timestamp": 1595474848810,
     "user": {
      "displayName": "백문기",
      "photoUrl": "",
      "userId": "18252756555948692046"
     },
     "user_tz": -540
    },
    "id": "MiV4sNjmrixs"
   },
   "outputs": [],
   "source": [
    "import pandas as pd"
   ]
  },
  {
   "cell_type": "code",
   "execution_count": 7,
   "metadata": {
    "colab": {},
    "colab_type": "code",
    "executionInfo": {
     "elapsed": 742,
     "status": "ok",
     "timestamp": 1595474850621,
     "user": {
      "displayName": "백문기",
      "photoUrl": "",
      "userId": "18252756555948692046"
     },
     "user_tz": -540
    },
    "id": "5eLWjxxxrixx"
   },
   "outputs": [],
   "source": [
    "iris_onehot = pd.get_dummies(iris_y)\n",
    "# iris_onehot.to_numpy()"
   ]
  },
  {
   "cell_type": "code",
   "execution_count": 8,
   "metadata": {
    "colab": {},
    "colab_type": "code",
    "executionInfo": {
     "elapsed": 1026,
     "status": "ok",
     "timestamp": 1595474852838,
     "user": {
      "displayName": "백문기",
      "photoUrl": "",
      "userId": "18252756555948692046"
     },
     "user_tz": -540
    },
    "id": "jUPT1sfPrix0"
   },
   "outputs": [],
   "source": [
    "model = Sequential()"
   ]
  },
  {
   "cell_type": "code",
   "execution_count": 9,
   "metadata": {
    "colab": {},
    "colab_type": "code",
    "executionInfo": {
     "elapsed": 1001,
     "status": "ok",
     "timestamp": 1595474854910,
     "user": {
      "displayName": "백문기",
      "photoUrl": "",
      "userId": "18252756555948692046"
     },
     "user_tz": -540
    },
    "id": "AK3sUGYSrix2"
   },
   "outputs": [],
   "source": [
    "from tensorflow.keras.layers import Input, Dense"
   ]
  },
  {
   "cell_type": "code",
   "execution_count": 10,
   "metadata": {
    "colab": {},
    "colab_type": "code",
    "executionInfo": {
     "elapsed": 957,
     "status": "ok",
     "timestamp": 1595474865116,
     "user": {
      "displayName": "백문기",
      "photoUrl": "",
      "userId": "18252756555948692046"
     },
     "user_tz": -540
    },
    "id": "MjXnSJ7Wrix4"
   },
   "outputs": [],
   "source": [
    "model.add(Input(4)) # 여기도 수정해 주세요.\n",
    "model.add(Dense(50, activation=\"relu\"))\n",
    "model.add(Dense(50, activation=\"relu\"))\n",
    "model.add(Dense(30, activation=\"relu\"))\n",
    "model.add(Dense(3, activation=\"softmax\"))"
   ]
  },
  {
   "cell_type": "code",
   "execution_count": 11,
   "metadata": {
    "colab": {},
    "colab_type": "code",
    "executionInfo": {
     "elapsed": 948,
     "status": "ok",
     "timestamp": 1595474872363,
     "user": {
      "displayName": "백문기",
      "photoUrl": "",
      "userId": "18252756555948692046"
     },
     "user_tz": -540
    },
    "id": "1cjESDlJrix6"
   },
   "outputs": [],
   "source": [
    "model.compile(optimizer=\"adam\", loss=\"categorical_crossentropy\", metrics=[\"accuracy\"])"
   ]
  },
  {
   "cell_type": "code",
   "execution_count": 12,
   "metadata": {
    "colab": {},
    "colab_type": "code",
    "executionInfo": {
     "elapsed": 769,
     "status": "ok",
     "timestamp": 1595474876451,
     "user": {
      "displayName": "백문기",
      "photoUrl": "",
      "userId": "18252756555948692046"
     },
     "user_tz": -540
    },
    "id": "CP6x8y9Yrix8"
   },
   "outputs": [],
   "source": [
    "from sklearn.model_selection import train_test_split\n",
    "train_X, test_X, train_y, test_y = train_test_split(iris_X, iris_onehot, test_size=0.3)"
   ]
  },
  {
   "cell_type": "code",
   "execution_count": 13,
   "metadata": {
    "colab": {
     "base_uri": "https://localhost:8080/",
     "height": 34
    },
    "colab_type": "code",
    "executionInfo": {
     "elapsed": 930,
     "status": "ok",
     "timestamp": 1595474880465,
     "user": {
      "displayName": "백문기",
      "photoUrl": "",
      "userId": "18252756555948692046"
     },
     "user_tz": -540
    },
    "id": "TwqVXMVyriyA",
    "outputId": "5cbaec78-b5db-40c1-99af-6b017e9ffb3e"
   },
   "outputs": [
    {
     "data": {
      "text/plain": [
       "((105, 4), (105, 3))"
      ]
     },
     "execution_count": 13,
     "metadata": {},
     "output_type": "execute_result"
    }
   ],
   "source": [
    "train_X.to_numpy().shape, train_y.to_numpy().shape"
   ]
  },
  {
   "cell_type": "code",
   "execution_count": 14,
   "metadata": {
    "colab": {
     "base_uri": "https://localhost:8080/",
     "height": 1000
    },
    "colab_type": "code",
    "executionInfo": {
     "elapsed": 3533,
     "status": "ok",
     "timestamp": 1595474891637,
     "user": {
      "displayName": "백문기",
      "photoUrl": "",
      "userId": "18252756555948692046"
     },
     "user_tz": -540
    },
    "id": "zAw97icsriyC",
    "outputId": "ab202b1f-5c16-4858-d3a0-706e39de8041"
   },
   "outputs": [
    {
     "name": "stdout",
     "output_type": "stream",
     "text": [
      "Epoch 1/200\n",
      "3/3 [==============================] - 0s 2ms/step - loss: 1.5724 - accuracy: 0.3619\n",
      "Epoch 2/200\n",
      "3/3 [==============================] - 0s 1ms/step - loss: 1.2451 - accuracy: 0.3619\n",
      "Epoch 3/200\n",
      "3/3 [==============================] - 0s 2ms/step - loss: 1.0454 - accuracy: 0.3619\n",
      "Epoch 4/200\n",
      "3/3 [==============================] - 0s 2ms/step - loss: 0.9432 - accuracy: 0.7143\n",
      "Epoch 5/200\n",
      "3/3 [==============================] - 0s 3ms/step - loss: 0.8945 - accuracy: 0.7143\n",
      "Epoch 6/200\n",
      "3/3 [==============================] - 0s 2ms/step - loss: 0.8583 - accuracy: 0.7143\n",
      "Epoch 7/200\n",
      "3/3 [==============================] - 0s 3ms/step - loss: 0.8271 - accuracy: 0.7143\n",
      "Epoch 8/200\n",
      "3/3 [==============================] - 0s 2ms/step - loss: 0.7943 - accuracy: 0.7143\n",
      "Epoch 9/200\n",
      "3/3 [==============================] - 0s 2ms/step - loss: 0.7573 - accuracy: 0.7143\n",
      "Epoch 10/200\n",
      "3/3 [==============================] - 0s 2ms/step - loss: 0.7244 - accuracy: 0.7143\n",
      "Epoch 11/200\n",
      "3/3 [==============================] - 0s 2ms/step - loss: 0.6836 - accuracy: 0.7143\n",
      "Epoch 12/200\n",
      "3/3 [==============================] - 0s 2ms/step - loss: 0.6398 - accuracy: 0.7429\n",
      "Epoch 13/200\n",
      "3/3 [==============================] - 0s 2ms/step - loss: 0.6062 - accuracy: 0.8857\n",
      "Epoch 14/200\n",
      "3/3 [==============================] - 0s 2ms/step - loss: 0.5677 - accuracy: 0.9619\n",
      "Epoch 15/200\n",
      "3/3 [==============================] - 0s 2ms/step - loss: 0.5334 - accuracy: 0.8476\n",
      "Epoch 16/200\n",
      "3/3 [==============================] - 0s 2ms/step - loss: 0.5153 - accuracy: 0.7333\n",
      "Epoch 17/200\n",
      "3/3 [==============================] - 0s 2ms/step - loss: 0.4922 - accuracy: 0.7238\n",
      "Epoch 18/200\n",
      "3/3 [==============================] - 0s 2ms/step - loss: 0.4710 - accuracy: 0.7238\n",
      "Epoch 19/200\n",
      "3/3 [==============================] - 0s 2ms/step - loss: 0.4427 - accuracy: 0.7524\n",
      "Epoch 20/200\n",
      "3/3 [==============================] - 0s 2ms/step - loss: 0.4203 - accuracy: 0.9619\n",
      "Epoch 21/200\n",
      "3/3 [==============================] - 0s 2ms/step - loss: 0.4124 - accuracy: 0.9714\n",
      "Epoch 22/200\n",
      "3/3 [==============================] - 0s 2ms/step - loss: 0.3929 - accuracy: 0.9714\n",
      "Epoch 23/200\n",
      "3/3 [==============================] - 0s 3ms/step - loss: 0.3677 - accuracy: 0.9619\n",
      "Epoch 24/200\n",
      "3/3 [==============================] - 0s 2ms/step - loss: 0.3661 - accuracy: 0.8381\n",
      "Epoch 25/200\n",
      "3/3 [==============================] - 0s 3ms/step - loss: 0.3684 - accuracy: 0.7810\n",
      "Epoch 26/200\n",
      "3/3 [==============================] - 0s 2ms/step - loss: 0.3365 - accuracy: 0.8286\n",
      "Epoch 27/200\n",
      "3/3 [==============================] - 0s 2ms/step - loss: 0.3257 - accuracy: 0.9619\n",
      "Epoch 28/200\n",
      "3/3 [==============================] - 0s 2ms/step - loss: 0.3659 - accuracy: 0.8381\n",
      "Epoch 29/200\n",
      "3/3 [==============================] - 0s 2ms/step - loss: 0.3343 - accuracy: 0.9143\n",
      "Epoch 30/200\n",
      "3/3 [==============================] - 0s 2ms/step - loss: 0.3030 - accuracy: 0.9143\n",
      "Epoch 31/200\n",
      "3/3 [==============================] - 0s 2ms/step - loss: 0.3330 - accuracy: 0.7905\n",
      "Epoch 32/200\n",
      "3/3 [==============================] - 0s 1ms/step - loss: 0.3080 - accuracy: 0.8286\n",
      "Epoch 33/200\n",
      "3/3 [==============================] - 0s 2ms/step - loss: 0.2796 - accuracy: 0.9714\n",
      "Epoch 34/200\n",
      "3/3 [==============================] - 0s 2ms/step - loss: 0.2944 - accuracy: 0.9333\n",
      "Epoch 35/200\n",
      "3/3 [==============================] - 0s 2ms/step - loss: 0.2769 - accuracy: 0.9714\n",
      "Epoch 36/200\n",
      "3/3 [==============================] - 0s 1ms/step - loss: 0.2568 - accuracy: 0.9810\n",
      "Epoch 37/200\n",
      "3/3 [==============================] - 0s 2ms/step - loss: 0.2502 - accuracy: 0.9714\n",
      "Epoch 38/200\n",
      "3/3 [==============================] - 0s 3ms/step - loss: 0.2444 - accuracy: 0.9619\n",
      "Epoch 39/200\n",
      "3/3 [==============================] - 0s 3ms/step - loss: 0.2449 - accuracy: 0.9810\n",
      "Epoch 40/200\n",
      "3/3 [==============================] - 0s 2ms/step - loss: 0.2362 - accuracy: 0.9810\n",
      "Epoch 41/200\n",
      "3/3 [==============================] - 0s 2ms/step - loss: 0.2259 - accuracy: 0.9714\n",
      "Epoch 42/200\n",
      "3/3 [==============================] - 0s 2ms/step - loss: 0.2245 - accuracy: 0.9619\n",
      "Epoch 43/200\n",
      "3/3 [==============================] - 0s 2ms/step - loss: 0.2285 - accuracy: 0.9429\n",
      "Epoch 44/200\n",
      "3/3 [==============================] - 0s 2ms/step - loss: 0.2191 - accuracy: 0.9429\n",
      "Epoch 45/200\n",
      "3/3 [==============================] - 0s 2ms/step - loss: 0.2035 - accuracy: 0.9714\n",
      "Epoch 46/200\n",
      "3/3 [==============================] - 0s 1ms/step - loss: 0.2044 - accuracy: 0.9810\n",
      "Epoch 47/200\n",
      "3/3 [==============================] - 0s 2ms/step - loss: 0.1926 - accuracy: 0.9810\n",
      "Epoch 48/200\n",
      "3/3 [==============================] - 0s 2ms/step - loss: 0.2067 - accuracy: 0.9524\n",
      "Epoch 49/200\n",
      "3/3 [==============================] - 0s 2ms/step - loss: 0.2102 - accuracy: 0.9429\n",
      "Epoch 50/200\n",
      "3/3 [==============================] - 0s 2ms/step - loss: 0.1835 - accuracy: 0.9714\n",
      "Epoch 51/200\n",
      "3/3 [==============================] - 0s 1ms/step - loss: 0.1930 - accuracy: 0.9714\n",
      "Epoch 52/200\n",
      "3/3 [==============================] - 0s 2ms/step - loss: 0.1841 - accuracy: 0.9714\n",
      "Epoch 53/200\n",
      "3/3 [==============================] - 0s 2ms/step - loss: 0.1722 - accuracy: 0.9810\n",
      "Epoch 54/200\n",
      "3/3 [==============================] - 0s 1ms/step - loss: 0.1684 - accuracy: 0.9714\n",
      "Epoch 55/200\n",
      "3/3 [==============================] - 0s 2ms/step - loss: 0.1643 - accuracy: 0.9714\n",
      "Epoch 56/200\n",
      "3/3 [==============================] - 0s 2ms/step - loss: 0.1586 - accuracy: 0.9714\n",
      "Epoch 57/200\n",
      "3/3 [==============================] - 0s 3ms/step - loss: 0.1562 - accuracy: 0.9714\n",
      "Epoch 58/200\n",
      "3/3 [==============================] - 0s 2ms/step - loss: 0.1498 - accuracy: 0.9810\n",
      "Epoch 59/200\n",
      "3/3 [==============================] - 0s 2ms/step - loss: 0.1483 - accuracy: 0.9905\n",
      "Epoch 60/200\n",
      "3/3 [==============================] - 0s 1ms/step - loss: 0.1453 - accuracy: 0.9905\n",
      "Epoch 61/200\n",
      "3/3 [==============================] - 0s 2ms/step - loss: 0.1401 - accuracy: 0.9810\n",
      "Epoch 62/200\n",
      "3/3 [==============================] - 0s 2ms/step - loss: 0.1377 - accuracy: 0.9810\n",
      "Epoch 63/200\n",
      "3/3 [==============================] - 0s 2ms/step - loss: 0.1404 - accuracy: 0.9810\n",
      "Epoch 64/200\n",
      "3/3 [==============================] - 0s 1ms/step - loss: 0.1309 - accuracy: 0.9810\n",
      "Epoch 65/200\n",
      "3/3 [==============================] - 0s 2ms/step - loss: 0.1346 - accuracy: 0.9905\n",
      "Epoch 66/200\n",
      "3/3 [==============================] - 0s 1ms/step - loss: 0.1282 - accuracy: 0.9810\n",
      "Epoch 67/200\n",
      "3/3 [==============================] - 0s 2ms/step - loss: 0.1255 - accuracy: 0.9810\n",
      "Epoch 68/200\n",
      "3/3 [==============================] - 0s 1ms/step - loss: 0.1251 - accuracy: 0.9905\n",
      "Epoch 69/200\n",
      "3/3 [==============================] - 0s 2ms/step - loss: 0.1226 - accuracy: 0.9810\n",
      "Epoch 70/200\n",
      "3/3 [==============================] - 0s 2ms/step - loss: 0.1251 - accuracy: 0.9619\n",
      "Epoch 71/200\n",
      "3/3 [==============================] - 0s 2ms/step - loss: 0.1390 - accuracy: 0.9619\n",
      "Epoch 72/200\n",
      "3/3 [==============================] - 0s 2ms/step - loss: 0.1122 - accuracy: 0.9810\n",
      "Epoch 73/200\n",
      "3/3 [==============================] - 0s 2ms/step - loss: 0.1348 - accuracy: 0.9619\n",
      "Epoch 74/200\n",
      "3/3 [==============================] - 0s 2ms/step - loss: 0.1497 - accuracy: 0.9333\n",
      "Epoch 75/200\n",
      "3/3 [==============================] - 0s 2ms/step - loss: 0.1118 - accuracy: 0.9810\n",
      "Epoch 76/200\n",
      "3/3 [==============================] - 0s 2ms/step - loss: 0.1188 - accuracy: 0.9619\n",
      "Epoch 77/200\n",
      "3/3 [==============================] - 0s 2ms/step - loss: 0.1115 - accuracy: 0.9714\n",
      "Epoch 78/200\n",
      "3/3 [==============================] - 0s 2ms/step - loss: 0.1082 - accuracy: 0.9810\n",
      "Epoch 79/200\n",
      "3/3 [==============================] - 0s 2ms/step - loss: 0.1236 - accuracy: 0.9429\n",
      "Epoch 80/200\n",
      "3/3 [==============================] - 0s 2ms/step - loss: 0.1095 - accuracy: 0.9810\n",
      "Epoch 81/200\n",
      "3/3 [==============================] - 0s 2ms/step - loss: 0.0980 - accuracy: 0.9905\n",
      "Epoch 82/200\n",
      "3/3 [==============================] - 0s 2ms/step - loss: 0.0989 - accuracy: 0.9810\n",
      "Epoch 83/200\n",
      "3/3 [==============================] - 0s 2ms/step - loss: 0.1003 - accuracy: 0.9714\n",
      "Epoch 84/200\n",
      "3/3 [==============================] - 0s 1ms/step - loss: 0.0988 - accuracy: 0.9714\n",
      "Epoch 85/200\n",
      "3/3 [==============================] - 0s 2ms/step - loss: 0.1097 - accuracy: 0.9714\n",
      "Epoch 86/200\n",
      "3/3 [==============================] - 0s 2ms/step - loss: 0.1230 - accuracy: 0.9429\n",
      "Epoch 87/200\n",
      "3/3 [==============================] - 0s 2ms/step - loss: 0.0977 - accuracy: 0.9810\n",
      "Epoch 88/200\n",
      "3/3 [==============================] - 0s 1ms/step - loss: 0.1316 - accuracy: 0.9619\n",
      "Epoch 89/200\n",
      "3/3 [==============================] - 0s 2ms/step - loss: 0.1082 - accuracy: 0.9619\n",
      "Epoch 90/200\n",
      "3/3 [==============================] - 0s 1ms/step - loss: 0.0884 - accuracy: 0.9905\n",
      "Epoch 91/200\n",
      "3/3 [==============================] - 0s 3ms/step - loss: 0.0867 - accuracy: 0.9905\n",
      "Epoch 92/200\n",
      "3/3 [==============================] - 0s 1ms/step - loss: 0.0857 - accuracy: 0.9810\n",
      "Epoch 93/200\n",
      "3/3 [==============================] - 0s 2ms/step - loss: 0.0827 - accuracy: 0.9810\n",
      "Epoch 94/200\n",
      "3/3 [==============================] - 0s 1ms/step - loss: 0.0807 - accuracy: 0.9905\n",
      "Epoch 95/200\n",
      "3/3 [==============================] - 0s 1ms/step - loss: 0.0821 - accuracy: 0.9810\n",
      "Epoch 96/200\n",
      "3/3 [==============================] - 0s 2ms/step - loss: 0.0851 - accuracy: 0.9714\n",
      "Epoch 97/200\n",
      "3/3 [==============================] - 0s 1ms/step - loss: 0.0816 - accuracy: 0.9714\n",
      "Epoch 98/200\n",
      "3/3 [==============================] - 0s 2ms/step - loss: 0.0753 - accuracy: 0.9905\n",
      "Epoch 99/200\n",
      "3/3 [==============================] - 0s 1ms/step - loss: 0.0851 - accuracy: 0.9905\n",
      "Epoch 100/200\n",
      "3/3 [==============================] - 0s 2ms/step - loss: 0.0856 - accuracy: 0.9810\n",
      "Epoch 101/200\n",
      "3/3 [==============================] - 0s 997us/step - loss: 0.0795 - accuracy: 0.9905\n",
      "Epoch 102/200\n",
      "3/3 [==============================] - 0s 1ms/step - loss: 0.0773 - accuracy: 0.9905\n",
      "Epoch 103/200\n",
      "3/3 [==============================] - 0s 2ms/step - loss: 0.0767 - accuracy: 0.9810\n",
      "Epoch 104/200\n",
      "3/3 [==============================] - 0s 1ms/step - loss: 0.0763 - accuracy: 0.9714\n",
      "Epoch 105/200\n",
      "3/3 [==============================] - 0s 1ms/step - loss: 0.0729 - accuracy: 0.9810\n",
      "Epoch 106/200\n",
      "3/3 [==============================] - 0s 2ms/step - loss: 0.0760 - accuracy: 0.9905\n",
      "Epoch 107/200\n",
      "3/3 [==============================] - 0s 2ms/step - loss: 0.0853 - accuracy: 0.9810\n",
      "Epoch 108/200\n",
      "3/3 [==============================] - 0s 1ms/step - loss: 0.0764 - accuracy: 0.9714\n",
      "Epoch 109/200\n",
      "3/3 [==============================] - 0s 2ms/step - loss: 0.0938 - accuracy: 0.9619\n",
      "Epoch 110/200\n",
      "3/3 [==============================] - 0s 2ms/step - loss: 0.0788 - accuracy: 0.9714\n",
      "Epoch 111/200\n",
      "3/3 [==============================] - 0s 1ms/step - loss: 0.0722 - accuracy: 0.9810\n",
      "Epoch 112/200\n",
      "3/3 [==============================] - 0s 2ms/step - loss: 0.0676 - accuracy: 0.9905\n",
      "Epoch 113/200\n",
      "3/3 [==============================] - 0s 1ms/step - loss: 0.0736 - accuracy: 0.9714\n",
      "Epoch 114/200\n",
      "3/3 [==============================] - 0s 2ms/step - loss: 0.0775 - accuracy: 0.9714\n",
      "Epoch 115/200\n",
      "3/3 [==============================] - 0s 2ms/step - loss: 0.0931 - accuracy: 0.9619\n",
      "Epoch 116/200\n",
      "3/3 [==============================] - 0s 2ms/step - loss: 0.2060 - accuracy: 0.9143\n",
      "Epoch 117/200\n",
      "3/3 [==============================] - 0s 1ms/step - loss: 0.1032 - accuracy: 0.9524\n",
      "Epoch 118/200\n",
      "3/3 [==============================] - 0s 1ms/step - loss: 0.0704 - accuracy: 0.9810\n",
      "Epoch 119/200\n",
      "3/3 [==============================] - 0s 2ms/step - loss: 0.0759 - accuracy: 0.9714\n",
      "Epoch 120/200\n",
      "3/3 [==============================] - 0s 1ms/step - loss: 0.0649 - accuracy: 0.9714\n",
      "Epoch 121/200\n",
      "3/3 [==============================] - 0s 2ms/step - loss: 0.0648 - accuracy: 0.9905\n",
      "Epoch 122/200\n",
      "3/3 [==============================] - 0s 1ms/step - loss: 0.0668 - accuracy: 0.9905\n",
      "Epoch 123/200\n",
      "3/3 [==============================] - 0s 2ms/step - loss: 0.0612 - accuracy: 0.9905\n",
      "Epoch 124/200\n",
      "3/3 [==============================] - 0s 1ms/step - loss: 0.0631 - accuracy: 0.9810\n",
      "Epoch 125/200\n",
      "3/3 [==============================] - 0s 1ms/step - loss: 0.0665 - accuracy: 0.9714\n",
      "Epoch 126/200\n",
      "3/3 [==============================] - 0s 1ms/step - loss: 0.0610 - accuracy: 0.9905\n",
      "Epoch 127/200\n",
      "3/3 [==============================] - 0s 1ms/step - loss: 0.0697 - accuracy: 0.9905\n",
      "Epoch 128/200\n",
      "3/3 [==============================] - 0s 1ms/step - loss: 0.0721 - accuracy: 0.9810\n",
      "Epoch 129/200\n",
      "3/3 [==============================] - 0s 1ms/step - loss: 0.0584 - accuracy: 0.9905\n",
      "Epoch 130/200\n",
      "3/3 [==============================] - 0s 2ms/step - loss: 0.0603 - accuracy: 0.9714\n",
      "Epoch 131/200\n",
      "3/3 [==============================] - 0s 1ms/step - loss: 0.0646 - accuracy: 0.9714\n",
      "Epoch 132/200\n",
      "3/3 [==============================] - 0s 2ms/step - loss: 0.0589 - accuracy: 0.9810\n",
      "Epoch 133/200\n",
      "3/3 [==============================] - 0s 2ms/step - loss: 0.0612 - accuracy: 0.9905\n",
      "Epoch 134/200\n",
      "3/3 [==============================] - 0s 2ms/step - loss: 0.0650 - accuracy: 0.9905\n",
      "Epoch 135/200\n",
      "3/3 [==============================] - 0s 1ms/step - loss: 0.0581 - accuracy: 0.9905\n",
      "Epoch 136/200\n",
      "3/3 [==============================] - 0s 2ms/step - loss: 0.0568 - accuracy: 0.9810\n",
      "Epoch 137/200\n",
      "3/3 [==============================] - 0s 1ms/step - loss: 0.0638 - accuracy: 0.9714\n",
      "Epoch 138/200\n",
      "3/3 [==============================] - 0s 1ms/step - loss: 0.0562 - accuracy: 0.9810\n",
      "Epoch 139/200\n",
      "3/3 [==============================] - 0s 2ms/step - loss: 0.0566 - accuracy: 0.9905\n",
      "Epoch 140/200\n",
      "3/3 [==============================] - 0s 1ms/step - loss: 0.0602 - accuracy: 1.0000\n",
      "Epoch 141/200\n",
      "3/3 [==============================] - 0s 2ms/step - loss: 0.0575 - accuracy: 0.9905\n",
      "Epoch 142/200\n",
      "3/3 [==============================] - 0s 1ms/step - loss: 0.0529 - accuracy: 0.9810\n",
      "Epoch 143/200\n",
      "3/3 [==============================] - 0s 2ms/step - loss: 0.0622 - accuracy: 0.9905\n",
      "Epoch 144/200\n",
      "3/3 [==============================] - 0s 1ms/step - loss: 0.0534 - accuracy: 0.9905\n",
      "Epoch 145/200\n",
      "3/3 [==============================] - 0s 2ms/step - loss: 0.0664 - accuracy: 0.9714\n",
      "Epoch 146/200\n",
      "3/3 [==============================] - 0s 1ms/step - loss: 0.0825 - accuracy: 0.9619\n",
      "Epoch 147/200\n",
      "3/3 [==============================] - 0s 1ms/step - loss: 0.0599 - accuracy: 0.9714\n",
      "Epoch 148/200\n",
      "3/3 [==============================] - 0s 2ms/step - loss: 0.0505 - accuracy: 1.0000\n",
      "Epoch 149/200\n",
      "3/3 [==============================] - 0s 997us/step - loss: 0.0820 - accuracy: 0.9524\n",
      "Epoch 150/200\n",
      "3/3 [==============================] - 0s 2ms/step - loss: 0.0614 - accuracy: 0.9905\n",
      "Epoch 151/200\n",
      "3/3 [==============================] - 0s 1ms/step - loss: 0.0564 - accuracy: 0.9714\n",
      "Epoch 152/200\n",
      "3/3 [==============================] - 0s 2ms/step - loss: 0.0736 - accuracy: 0.9714\n",
      "Epoch 153/200\n",
      "3/3 [==============================] - 0s 1ms/step - loss: 0.0652 - accuracy: 0.9714\n",
      "Epoch 154/200\n",
      "3/3 [==============================] - 0s 1ms/step - loss: 0.0478 - accuracy: 0.9905\n",
      "Epoch 155/200\n",
      "3/3 [==============================] - 0s 1ms/step - loss: 0.0644 - accuracy: 0.9810\n",
      "Epoch 156/200\n",
      "3/3 [==============================] - 0s 1ms/step - loss: 0.0647 - accuracy: 0.9714\n",
      "Epoch 157/200\n",
      "3/3 [==============================] - 0s 2ms/step - loss: 0.0706 - accuracy: 0.9619\n",
      "Epoch 158/200\n",
      "3/3 [==============================] - 0s 1ms/step - loss: 0.1045 - accuracy: 0.9619\n",
      "Epoch 159/200\n",
      "3/3 [==============================] - 0s 2ms/step - loss: 0.0623 - accuracy: 0.9714\n",
      "Epoch 160/200\n",
      "3/3 [==============================] - 0s 1ms/step - loss: 0.0517 - accuracy: 0.9810\n",
      "Epoch 161/200\n",
      "3/3 [==============================] - 0s 2ms/step - loss: 0.0552 - accuracy: 0.9905\n",
      "Epoch 162/200\n",
      "3/3 [==============================] - 0s 1ms/step - loss: 0.0507 - accuracy: 0.9905\n",
      "Epoch 163/200\n",
      "3/3 [==============================] - 0s 2ms/step - loss: 0.0482 - accuracy: 0.9905\n",
      "Epoch 164/200\n",
      "3/3 [==============================] - 0s 1ms/step - loss: 0.0473 - accuracy: 0.9905\n",
      "Epoch 165/200\n",
      "3/3 [==============================] - 0s 2ms/step - loss: 0.0482 - accuracy: 0.9905\n",
      "Epoch 166/200\n",
      "3/3 [==============================] - 0s 1ms/step - loss: 0.0511 - accuracy: 1.0000\n",
      "Epoch 167/200\n"
     ]
    },
    {
     "name": "stdout",
     "output_type": "stream",
     "text": [
      "3/3 [==============================] - 0s 1ms/step - loss: 0.0520 - accuracy: 0.9905\n",
      "Epoch 168/200\n",
      "3/3 [==============================] - 0s 2ms/step - loss: 0.0455 - accuracy: 0.9810\n",
      "Epoch 169/200\n",
      "3/3 [==============================] - 0s 2ms/step - loss: 0.0557 - accuracy: 0.9810\n",
      "Epoch 170/200\n",
      "3/3 [==============================] - 0s 2ms/step - loss: 0.0639 - accuracy: 0.9714\n",
      "Epoch 171/200\n",
      "3/3 [==============================] - 0s 1ms/step - loss: 0.0508 - accuracy: 1.0000\n",
      "Epoch 172/200\n",
      "3/3 [==============================] - 0s 2ms/step - loss: 0.0453 - accuracy: 0.9905\n",
      "Epoch 173/200\n",
      "3/3 [==============================] - 0s 1ms/step - loss: 0.0485 - accuracy: 0.9810\n",
      "Epoch 174/200\n",
      "3/3 [==============================] - 0s 2ms/step - loss: 0.0541 - accuracy: 0.9714\n",
      "Epoch 175/200\n",
      "3/3 [==============================] - 0s 1ms/step - loss: 0.0511 - accuracy: 0.9810\n",
      "Epoch 176/200\n",
      "3/3 [==============================] - 0s 1ms/step - loss: 0.0447 - accuracy: 0.9905\n",
      "Epoch 177/200\n",
      "3/3 [==============================] - 0s 2ms/step - loss: 0.0453 - accuracy: 0.9905\n",
      "Epoch 178/200\n",
      "3/3 [==============================] - 0s 1ms/step - loss: 0.0455 - accuracy: 0.9810\n",
      "Epoch 179/200\n",
      "3/3 [==============================] - 0s 2ms/step - loss: 0.0422 - accuracy: 0.9905\n",
      "Epoch 180/200\n",
      "3/3 [==============================] - 0s 1ms/step - loss: 0.0509 - accuracy: 1.0000\n",
      "Epoch 181/200\n",
      "3/3 [==============================] - 0s 1ms/step - loss: 0.0497 - accuracy: 0.9905\n",
      "Epoch 182/200\n",
      "3/3 [==============================] - 0s 1ms/step - loss: 0.0442 - accuracy: 0.9905\n",
      "Epoch 183/200\n",
      "3/3 [==============================] - 0s 1ms/step - loss: 0.0463 - accuracy: 0.9810\n",
      "Epoch 184/200\n",
      "3/3 [==============================] - 0s 2ms/step - loss: 0.0479 - accuracy: 0.9905\n",
      "Epoch 185/200\n",
      "3/3 [==============================] - 0s 1ms/step - loss: 0.0588 - accuracy: 0.9810\n",
      "Epoch 186/200\n",
      "3/3 [==============================] - 0s 2ms/step - loss: 0.0524 - accuracy: 0.9905\n",
      "Epoch 187/200\n",
      "3/3 [==============================] - 0s 1ms/step - loss: 0.0469 - accuracy: 0.9905\n",
      "Epoch 188/200\n",
      "3/3 [==============================] - 0s 1ms/step - loss: 0.0552 - accuracy: 0.9905\n",
      "Epoch 189/200\n",
      "3/3 [==============================] - 0s 1ms/step - loss: 0.0675 - accuracy: 0.9714\n",
      "Epoch 190/200\n",
      "3/3 [==============================] - 0s 2ms/step - loss: 0.0434 - accuracy: 0.9905\n",
      "Epoch 191/200\n",
      "3/3 [==============================] - 0s 2ms/step - loss: 0.0564 - accuracy: 0.9714\n",
      "Epoch 192/200\n",
      "3/3 [==============================] - 0s 1ms/step - loss: 0.0591 - accuracy: 0.9714\n",
      "Epoch 193/200\n",
      "3/3 [==============================] - 0s 2ms/step - loss: 0.0464 - accuracy: 0.9905\n",
      "Epoch 194/200\n",
      "3/3 [==============================] - 0s 1ms/step - loss: 0.0468 - accuracy: 1.0000\n",
      "Epoch 195/200\n",
      "3/3 [==============================] - 0s 1ms/step - loss: 0.0513 - accuracy: 0.9905\n",
      "Epoch 196/200\n",
      "3/3 [==============================] - 0s 1ms/step - loss: 0.0402 - accuracy: 0.9905\n",
      "Epoch 197/200\n",
      "3/3 [==============================] - 0s 2ms/step - loss: 0.0508 - accuracy: 0.9714\n",
      "Epoch 198/200\n",
      "3/3 [==============================] - 0s 1ms/step - loss: 0.0494 - accuracy: 0.9714\n",
      "Epoch 199/200\n",
      "3/3 [==============================] - 0s 1ms/step - loss: 0.0399 - accuracy: 0.9905\n",
      "Epoch 200/200\n",
      "3/3 [==============================] - 0s 2ms/step - loss: 0.0582 - accuracy: 0.9905\n"
     ]
    },
    {
     "data": {
      "text/plain": [
       "<keras.callbacks.History at 0x23f3f42c2b0>"
      ]
     },
     "execution_count": 14,
     "metadata": {},
     "output_type": "execute_result"
    }
   ],
   "source": [
    "model.fit(train_X.to_numpy(), train_y.to_numpy(), batch_size=50, epochs=200, verbose=1)"
   ]
  },
  {
   "cell_type": "code",
   "execution_count": 15,
   "metadata": {
    "colab": {},
    "colab_type": "code",
    "executionInfo": {
     "elapsed": 722,
     "status": "ok",
     "timestamp": 1595474896346,
     "user": {
      "displayName": "백문기",
      "photoUrl": "",
      "userId": "18252756555948692046"
     },
     "user_tz": -540
    },
    "id": "hpVluILrriyG"
   },
   "outputs": [],
   "source": [
    "import numpy as np\n",
    "pred = np.argmax(model.predict(test_X), axis=1) # 각 클래스별 확률을 출력하므로 argmax를 이용해서 가장 큰 값의 열 인덱스"
   ]
  },
  {
   "cell_type": "code",
   "execution_count": 16,
   "metadata": {
    "colab": {
     "base_uri": "https://localhost:8080/",
     "height": 70
    },
    "colab_type": "code",
    "executionInfo": {
     "elapsed": 936,
     "status": "ok",
     "timestamp": 1595474899212,
     "user": {
      "displayName": "백문기",
      "photoUrl": "",
      "userId": "18252756555948692046"
     },
     "user_tz": -540
    },
    "id": "_X3vo0SDriyI",
    "outputId": "fd483fc0-b5f7-4858-df07-ff9a2bde6186"
   },
   "outputs": [
    {
     "data": {
      "text/plain": [
       "array([2, 1, 1, 0, 2, 2, 1, 1, 2, 2, 2, 1, 2, 1, 1, 0, 2, 0, 0, 1, 1, 1,\n",
       "       2, 0, 0, 2, 0, 1, 1, 2, 1, 0, 1, 0, 0, 1, 1, 0, 2, 1, 2, 1, 0, 2,\n",
       "       1], dtype=int64)"
      ]
     },
     "execution_count": 16,
     "metadata": {},
     "output_type": "execute_result"
    }
   ],
   "source": [
    "pred # 예측한 값"
   ]
  },
  {
   "cell_type": "code",
   "execution_count": 17,
   "metadata": {
    "colab": {
     "base_uri": "https://localhost:8080/",
     "height": 70
    },
    "colab_type": "code",
    "executionInfo": {
     "elapsed": 724,
     "status": "ok",
     "timestamp": 1595474902999,
     "user": {
      "displayName": "백문기",
      "photoUrl": "",
      "userId": "18252756555948692046"
     },
     "user_tz": -540
    },
    "id": "L2iRY0VrriyL",
    "outputId": "c274dea9-cb69-4727-e807-10e4fb5fc512"
   },
   "outputs": [
    {
     "data": {
      "text/plain": [
       "array([2, 1, 1, 0, 2, 2, 1, 1, 2, 2, 2, 1, 2, 1, 1, 0, 2, 0, 0, 1, 1, 1,\n",
       "       2, 0, 0, 1, 0, 1, 1, 2, 1, 0, 1, 0, 0, 1, 1, 0, 2, 1, 2, 1, 0, 2,\n",
       "       1], dtype=int64)"
      ]
     },
     "execution_count": 17,
     "metadata": {},
     "output_type": "execute_result"
    }
   ],
   "source": [
    "np.argmax(test_y.to_numpy(), axis=1) # 테스트 데이터의 정답"
   ]
  },
  {
   "cell_type": "code",
   "execution_count": 18,
   "metadata": {
    "colab": {
     "base_uri": "https://localhost:8080/",
     "height": 166
    },
    "colab_type": "code",
    "executionInfo": {
     "elapsed": 1159,
     "status": "ok",
     "timestamp": 1595474905523,
     "user": {
      "displayName": "백문기",
      "photoUrl": "",
      "userId": "18252756555948692046"
     },
     "user_tz": -540
    },
    "id": "5QJDKLg7riyO",
    "outputId": "214d4875-5841-4e3e-e5e4-70555af8b3a6"
   },
   "outputs": [
    {
     "data": {
      "text/html": [
       "<div>\n",
       "<style scoped>\n",
       "    .dataframe tbody tr th:only-of-type {\n",
       "        vertical-align: middle;\n",
       "    }\n",
       "\n",
       "    .dataframe tbody tr th {\n",
       "        vertical-align: top;\n",
       "    }\n",
       "\n",
       "    .dataframe thead th {\n",
       "        text-align: right;\n",
       "    }\n",
       "</style>\n",
       "<table border=\"1\" class=\"dataframe\">\n",
       "  <thead>\n",
       "    <tr style=\"text-align: right;\">\n",
       "      <th>col_0</th>\n",
       "      <th>0</th>\n",
       "      <th>1</th>\n",
       "      <th>2</th>\n",
       "    </tr>\n",
       "    <tr>\n",
       "      <th>row_0</th>\n",
       "      <th></th>\n",
       "      <th></th>\n",
       "      <th></th>\n",
       "    </tr>\n",
       "  </thead>\n",
       "  <tbody>\n",
       "    <tr>\n",
       "      <th>0</th>\n",
       "      <td>12</td>\n",
       "      <td>0</td>\n",
       "      <td>0</td>\n",
       "    </tr>\n",
       "    <tr>\n",
       "      <th>1</th>\n",
       "      <td>0</td>\n",
       "      <td>19</td>\n",
       "      <td>1</td>\n",
       "    </tr>\n",
       "    <tr>\n",
       "      <th>2</th>\n",
       "      <td>0</td>\n",
       "      <td>0</td>\n",
       "      <td>13</td>\n",
       "    </tr>\n",
       "  </tbody>\n",
       "</table>\n",
       "</div>"
      ],
      "text/plain": [
       "col_0   0   1   2\n",
       "row_0            \n",
       "0      12   0   0\n",
       "1       0  19   1\n",
       "2       0   0  13"
      ]
     },
     "execution_count": 18,
     "metadata": {},
     "output_type": "execute_result"
    }
   ],
   "source": [
    "pd.crosstab(np.argmax(test_y.to_numpy(), axis=1), pred) # 교차 분류표"
   ]
  },
  {
   "cell_type": "code",
   "execution_count": 19,
   "metadata": {
    "colab": {
     "base_uri": "https://localhost:8080/",
     "height": 52
    },
    "colab_type": "code",
    "executionInfo": {
     "elapsed": 759,
     "status": "ok",
     "timestamp": 1595474910594,
     "user": {
      "displayName": "백문기",
      "photoUrl": "",
      "userId": "18252756555948692046"
     },
     "user_tz": -540
    },
    "id": "HtqAvUIuriyS",
    "outputId": "df67aa9e-cbd4-423b-cfcf-a004be773458"
   },
   "outputs": [
    {
     "name": "stdout",
     "output_type": "stream",
     "text": [
      "2/2 [==============================] - 0s 2ms/step - loss: 0.1018 - accuracy: 0.9778\n"
     ]
    },
    {
     "data": {
      "text/plain": [
       "[0.10181973874568939, 0.9777777791023254]"
      ]
     },
     "execution_count": 19,
     "metadata": {},
     "output_type": "execute_result"
    }
   ],
   "source": [
    "model.evaluate(test_X, test_y)"
   ]
  }
 ],
 "metadata": {
  "colab": {
   "name": "Keras를 이용한 iris 데이터 종 분류.ipynb",
   "provenance": []
  },
  "kernelspec": {
   "display_name": "Python 3 (ipykernel)",
   "language": "python",
   "name": "python3"
  },
  "language_info": {
   "codemirror_mode": {
    "name": "ipython",
    "version": 3
   },
   "file_extension": ".py",
   "mimetype": "text/x-python",
   "name": "python",
   "nbconvert_exporter": "python",
   "pygments_lexer": "ipython3",
   "version": "3.8.12"
  },
  "toc": {
   "base_numbering": 1,
   "nav_menu": {},
   "number_sections": true,
   "sideBar": true,
   "skip_h1_title": false,
   "title_cell": "Table of Contents",
   "title_sidebar": "Contents",
   "toc_cell": false,
   "toc_position": {},
   "toc_section_display": true,
   "toc_window_display": false
  },
  "varInspector": {
   "cols": {
    "lenName": 16,
    "lenType": 16,
    "lenVar": 40
   },
   "kernels_config": {
    "python": {
     "delete_cmd_postfix": "",
     "delete_cmd_prefix": "del ",
     "library": "var_list.py",
     "varRefreshCmd": "print(var_dic_list())"
    },
    "r": {
     "delete_cmd_postfix": ") ",
     "delete_cmd_prefix": "rm(",
     "library": "var_list.r",
     "varRefreshCmd": "cat(var_dic_list()) "
    }
   },
   "types_to_exclude": [
    "module",
    "function",
    "builtin_function_or_method",
    "instance",
    "_Feature"
   ],
   "window_display": false
  }
 },
 "nbformat": 4,
 "nbformat_minor": 1
}
