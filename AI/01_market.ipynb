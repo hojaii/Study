{
 "cells": [
  {
   "cell_type": "markdown",
   "id": "a7705c43",
   "metadata": {},
   "source": [
    "# 마켓과 머신러닝"
   ]
  },
  {
   "cell_type": "markdown",
   "id": "87bad1be",
   "metadata": {},
   "source": [
    "## 생성 분류 문제"
   ]
  },
  {
   "cell_type": "markdown",
   "id": "e5bf4cc9",
   "metadata": {},
   "source": [
    "### 도미 데이터 준비"
   ]
  },
  {
   "cell_type": "code",
   "execution_count": 1,
   "id": "0994224e",
   "metadata": {},
   "outputs": [],
   "source": [
    "# length, weight : 특징(feature)\n",
    "# 여러개의 종류(class) 중에서 하나를 구별하는 문제: 분류(classification)\n",
    "# 도미, 빙어 : 이진분류(binary classification)\n",
    "\n",
    "bream_length = [25.4, 26.3, 26.5, 29.0, 29.0, 29.7, 29.7, 30.0, 30.0, 30.7,\n",
    "                31.0, 31.0, 31.5, 32.0, 32.0, 32.0, 33.0, 33.0, 33.5, 33.5,\n",
    "                34.0, 34.0, 34.5, 35.0, 35.0, 35.0, 35.0, 36.0, 36.0, 37.0,\n",
    "                38.5, 38.5, 39.5, 41.0, 41.0]\n",
    "bream_weight = [242.0, 290.0, 340.0, 363.0, 430.0, 450.0, 500.0, 390.0, 450.0, 500.0,\n",
    "                475.0, 500.0, 500.0, 340.0, 600.0, 600.0, 700.0, 700.0, 610.0, 650.0,\n",
    "                575.0, 685.0, 620.0, 680.0, 700.0, 725.0, 720.0, 714.0, 850.0, 1000.0,\n",
    "                920.0, 955.0, 925.0, 975.0, 950.0]"
   ]
  },
  {
   "cell_type": "code",
   "execution_count": 2,
   "id": "576c3734",
   "metadata": {},
   "outputs": [],
   "source": [
    "import matplotlib.pyplot as plt"
   ]
  },
  {
   "cell_type": "code",
   "execution_count": 3,
   "id": "632c1957",
   "metadata": {},
   "outputs": [
    {
     "data": {
      "image/png": "[encoded data removed]",
      "text/plain": [
       "<Figure size 432x288 with 1 Axes>"
      ]
     },
     "metadata": {
      "needs_background": "light"
     },
     "output_type": "display_data"
    }
   ],
   "source": [
    "plt.scatter(bream_length, bream_weight)\n",
    "plt.xlabel(\"length\")\n",
    "plt.ylabel(\"weight\")\n",
    "plt.show()"
   ]
  },
  {
   "cell_type": "markdown",
   "id": "73a212b6",
   "metadata": {},
   "source": [
    "### 빙어 데이터 준비"
   ]
  },
  {
   "cell_type": "code",
   "execution_count": 4,
   "id": "e44485c6",
   "metadata": {},
   "outputs": [],
   "source": [
    "smelt_length = [9.8, 10.5, 10.6, 11.0, 11.2, 11.3, 11.8, 11.8, 12.0, 12.2, 12.4, 13.0, 14.3, 15.0]\n",
    "smelt_weight = [6.7, 7.5, 7.0, 9.7, 9.8, 8.7, 10.0, 9.9, 9.8, 12.2, 13.4, 12.2, 19.7, 19.9]"
   ]
  },
  {
   "cell_type": "code",
   "execution_count": 5,
   "id": "1769009b",
   "metadata": {},
   "outputs": [
    {
     "data": {
      "image/png": "[encoded data removed]",
      "text/plain": [
       "<Figure size 432x288 with 1 Axes>"
      ]
     },
     "metadata": {
      "needs_background": "light"
     },
     "output_type": "display_data"
    }
   ],
   "source": [
    "plt.scatter(smelt_length, smelt_weight)\n",
    "plt.xlabel(\"length\")\n",
    "plt.ylabel(\"wight\")\n",
    "plt.show()"
   ]
  },
  {
   "cell_type": "markdown",
   "id": "e1b8ea39",
   "metadata": {},
   "source": [
    "## 첫번째 머신러닝 프로그램"
   ]
  },
  {
   "cell_type": "code",
   "execution_count": null,
   "id": "740f16aa",
   "metadata": {},
   "outputs": [],
   "source": [
    "# KNN algorithom 사용 도미와 빙어를 구분"
   ]
  },
  {
   "cell_type": "code",
   "execution_count": 6,
   "id": "2a813a9c",
   "metadata": {},
   "outputs": [],
   "source": [
    "# 도미와 빙어 데이터 세트 합치기\n",
    "\n",
    "length = bream_length + smelt_length # 도미 35, 방어 14\n",
    "weight = bream_weight + smelt_weight"
   ]
  },
  {
   "cell_type": "code",
   "execution_count": 7,
   "id": "b7a511bd",
   "metadata": {},
   "outputs": [],
   "source": [
    "# python list comprehension\n",
    "\n",
    "fish_data =  [[l, w] for l, w in zip(length, weight)]"
   ]
  },
  {
   "cell_type": "code",
   "execution_count": 8,
   "id": "a9fe5b19",
   "metadata": {
    "scrolled": true
   },
   "outputs": [
    {
     "name": "stdout",
     "output_type": "stream",
     "text": [
      "[[25.4, 242.0], [26.3, 290.0], [26.5, 340.0], [29.0, 363.0], [29.0, 430.0], [29.7, 450.0], [29.7, 500.0], [30.0, 390.0], [30.0, 450.0], [30.7, 500.0], [31.0, 475.0], [31.0, 500.0], [31.5, 500.0], [32.0, 340.0], [32.0, 600.0], [32.0, 600.0], [33.0, 700.0], [33.0, 700.0], [33.5, 610.0], [33.5, 650.0], [34.0, 575.0], [34.0, 685.0], [34.5, 620.0], [35.0, 680.0], [35.0, 700.0], [35.0, 725.0], [35.0, 720.0], [36.0, 714.0], [36.0, 850.0], [37.0, 1000.0], [38.5, 920.0], [38.5, 955.0], [39.5, 925.0], [41.0, 975.0], [41.0, 950.0], [9.8, 6.7], [10.5, 7.5], [10.6, 7.0], [11.0, 9.7], [11.2, 9.8], [11.3, 8.7], [11.8, 10.0], [11.8, 9.9], [12.0, 9.8], [12.2, 12.2], [12.4, 13.4], [13.0, 12.2], [14.3, 19.7], [15.0, 19.9]]\n"
     ]
    }
   ],
   "source": [
    "print(fish_data)"
   ]
  },
  {
   "cell_type": "code",
   "execution_count": 9,
   "id": "ddd6e4a7",
   "metadata": {},
   "outputs": [
    {
     "name": "stdout",
     "output_type": "stream",
     "text": [
      "[1, 1, 1, 1, 1, 1, 1, 1, 1, 1, 1, 1, 1, 1, 1, 1, 1, 1, 1, 1, 1, 1, 1, 1, 1, 1, 1, 1, 1, 1, 1, 1, 1, 1, 1, 0, 0, 0, 0, 0, 0, 0, 0, 0, 0, 0, 0, 0, 0]\n"
     ]
    }
   ],
   "source": [
    "# 지도 학습 : 정답을 알려주고 학습을 시킴\n",
    "# 도미는 1, 빙어는 0\n",
    "# target : 답\n",
    "\n",
    "fish_target = [1] * 35 + [0] * 14\n",
    "print(fish_target)"
   ]
  },
  {
   "cell_type": "code",
   "execution_count": 10,
   "id": "55eeec31",
   "metadata": {},
   "outputs": [],
   "source": [
    "from sklearn.neighbors import KNeighborsClassifier"
   ]
  },
  {
   "cell_type": "code",
   "execution_count": 11,
   "id": "398e9d97",
   "metadata": {},
   "outputs": [],
   "source": [
    "# 객체 생성\n",
    "\n",
    "kn = KNeighborsClassifier()"
   ]
  },
  {
   "cell_type": "code",
   "execution_count": 12,
   "id": "fe657686",
   "metadata": {},
   "outputs": [
    {
     "data": {
      "text/plain": [
       "KNeighborsClassifier()"
      ]
     },
     "execution_count": 12,
     "metadata": {},
     "output_type": "execute_result"
    }
   ],
   "source": [
    "# 학습 : fit()\n",
    "\n",
    "kn.fit(fish_data, fish_target)"
   ]
  },
  {
   "cell_type": "code",
   "execution_count": 13,
   "id": "119394a0",
   "metadata": {},
   "outputs": [
    {
     "data": {
      "text/plain": [
       "1.0"
      ]
     },
     "execution_count": 13,
     "metadata": {},
     "output_type": "execute_result"
    }
   ],
   "source": [
    "kn.score(fish_data, fish_target) # 정확도"
   ]
  },
  {
   "cell_type": "code",
   "execution_count": 14,
   "id": "3902a851",
   "metadata": {},
   "outputs": [
    {
     "data": {
      "text/plain": [
       "array([1])"
      ]
     },
     "execution_count": 14,
     "metadata": {},
     "output_type": "execute_result"
    }
   ],
   "source": [
    "# predict : 예측\n",
    "\n",
    "kn.predict([[30, 600]])"
   ]
  },
  {
   "cell_type": "code",
   "execution_count": 15,
   "id": "972c3d80",
   "metadata": {},
   "outputs": [
    {
     "name": "stdout",
     "output_type": "stream",
     "text": [
      "[[  25.4  242. ]\n",
      " [  26.3  290. ]\n",
      " [  26.5  340. ]\n",
      " [  29.   363. ]\n",
      " [  29.   430. ]\n",
      " [  29.7  450. ]\n",
      " [  29.7  500. ]\n",
      " [  30.   390. ]\n",
      " [  30.   450. ]\n",
      " [  30.7  500. ]\n",
      " [  31.   475. ]\n",
      " [  31.   500. ]\n",
      " [  31.5  500. ]\n",
      " [  32.   340. ]\n",
      " [  32.   600. ]\n",
      " [  32.   600. ]\n",
      " [  33.   700. ]\n",
      " [  33.   700. ]\n",
      " [  33.5  610. ]\n",
      " [  33.5  650. ]\n",
      " [  34.   575. ]\n",
      " [  34.   685. ]\n",
      " [  34.5  620. ]\n",
      " [  35.   680. ]\n",
      " [  35.   700. ]\n",
      " [  35.   725. ]\n",
      " [  35.   720. ]\n",
      " [  36.   714. ]\n",
      " [  36.   850. ]\n",
      " [  37.  1000. ]\n",
      " [  38.5  920. ]\n",
      " [  38.5  955. ]\n",
      " [  39.5  925. ]\n",
      " [  41.   975. ]\n",
      " [  41.   950. ]\n",
      " [   9.8    6.7]\n",
      " [  10.5    7.5]\n",
      " [  10.6    7. ]\n",
      " [  11.     9.7]\n",
      " [  11.2    9.8]\n",
      " [  11.3    8.7]\n",
      " [  11.8   10. ]\n",
      " [  11.8    9.9]\n",
      " [  12.     9.8]\n",
      " [  12.2   12.2]\n",
      " [  12.4   13.4]\n",
      " [  13.    12.2]\n",
      " [  14.3   19.7]\n",
      " [  15.    19.9]]\n"
     ]
    }
   ],
   "source": [
    "print(kn._fit_X) # fish_data"
   ]
  },
  {
   "cell_type": "code",
   "execution_count": 16,
   "id": "95775579",
   "metadata": {
    "scrolled": true
   },
   "outputs": [
    {
     "name": "stdout",
     "output_type": "stream",
     "text": [
      "[1 1 1 1 1 1 1 1 1 1 1 1 1 1 1 1 1 1 1 1 1 1 1 1 1 1 1 1 1 1 1 1 1 1 1 0 0\n",
      " 0 0 0 0 0 0 0 0 0 0 0 0]\n"
     ]
    }
   ],
   "source": [
    "print(kn._y) # fish_target"
   ]
  },
  {
   "cell_type": "code",
   "execution_count": 17,
   "id": "47d1d1aa",
   "metadata": {},
   "outputs": [],
   "source": [
    "kn49 = KNeighborsClassifier(n_neighbors = 49)"
   ]
  },
  {
   "cell_type": "code",
   "execution_count": 18,
   "id": "f6789046",
   "metadata": {},
   "outputs": [
    {
     "data": {
      "text/plain": [
       "KNeighborsClassifier(n_neighbors=49)"
      ]
     },
     "execution_count": 18,
     "metadata": {},
     "output_type": "execute_result"
    }
   ],
   "source": [
    "kn49.fit(fish_data, fish_target)"
   ]
  },
  {
   "cell_type": "code",
   "execution_count": 19,
   "id": "d0a2f773",
   "metadata": {},
   "outputs": [
    {
     "data": {
      "text/plain": [
       "0.7142857142857143"
      ]
     },
     "execution_count": 19,
     "metadata": {},
     "output_type": "execute_result"
    }
   ],
   "source": [
    "kn49.score(fish_data, fish_target)"
   ]
  },
  {
   "cell_type": "code",
   "execution_count": 20,
   "id": "cdbb5e50",
   "metadata": {},
   "outputs": [
    {
     "name": "stdout",
     "output_type": "stream",
     "text": [
      "0.7142857142857143\n"
     ]
    }
   ],
   "source": [
    "print(35/49)"
   ]
  },
  {
   "cell_type": "code",
   "execution_count": 21,
   "id": "b6f37874",
   "metadata": {},
   "outputs": [
    {
     "data": {
      "text/plain": [
       "KNeighborsClassifier()"
      ]
     },
     "execution_count": 21,
     "metadata": {},
     "output_type": "execute_result"
    }
   ],
   "source": [
    "kn = KNeighborsClassifier()\n",
    "kn.fit(fish_data, fish_target)"
   ]
  },
  {
   "cell_type": "code",
   "execution_count": 22,
   "id": "d27f2699",
   "metadata": {},
   "outputs": [
    {
     "name": "stdout",
     "output_type": "stream",
     "text": [
      "18 0.9795918367346939\n"
     ]
    }
   ],
   "source": [
    "for n in range(5, 50):\n",
    "    kn.n_neighbors = n\n",
    "    score = kn.score(fish_data, fish_target)\n",
    "    if score < 1:\n",
    "        print(n, score)\n",
    "        break\n"
   ]
  },
  {
   "cell_type": "code",
   "execution_count": 23,
   "id": "74161929",
   "metadata": {},
   "outputs": [
    {
     "name": "stderr",
     "output_type": "stream",
     "text": [
      "[W 15:37:18 InstallContribNbextensionsApp] Config option `kernel_spec_manager_class` not recognized by `InstallContribNbextensionsApp`.\n",
      "[I 15:37:18 InstallContribNbextensionsApp] jupyter contrib nbextension install \n",
      "[I 15:37:18 InstallContribNbextensionsApp] Installing jupyter_contrib_nbextensions nbextension files to jupyter data directory\n",
      "[I 15:37:18 InstallContribNbextensionsApp] Installing C:\\Users\\BIT\\anaconda3\\envs\\data-env\\lib\\site-packages\\jupyter_contrib_nbextensions\\nbextensions\\addbefore -> addbefore\n",
      "[I 15:37:18 InstallContribNbextensionsApp] Up to date: C:\\ProgramData\\jupyter\\nbextensions\\addbefore\\addbefore.yaml\n",
      "[I 15:37:18 InstallContribNbextensionsApp] Up to date: C:\\ProgramData\\jupyter\\nbextensions\\addbefore\\icon.png\n",
      "[I 15:37:18 InstallContribNbextensionsApp] Up to date: C:\\ProgramData\\jupyter\\nbextensions\\addbefore\\main.js\n",
      "[I 15:37:18 InstallContribNbextensionsApp] Up to date: C:\\ProgramData\\jupyter\\nbextensions\\addbefore\\readme.md\n",
      "[I 15:37:18 InstallContribNbextensionsApp] - Validating: ok\n",
      "[I 15:37:18 InstallContribNbextensionsApp] Installing C:\\Users\\BIT\\anaconda3\\envs\\data-env\\lib\\site-packages\\jupyter_contrib_nbextensions\\nbextensions\\autosavetime -> autosavetime\n",
      "[I 15:37:18 InstallContribNbextensionsApp] Up to date: C:\\ProgramData\\jupyter\\nbextensions\\autosavetime\\autosavetime.yaml\n",
      "[I 15:37:18 InstallContribNbextensionsApp] Up to date: C:\\ProgramData\\jupyter\\nbextensions\\autosavetime\\icon.png\n",
      "[I 15:37:18 InstallContribNbextensionsApp] Up to date: C:\\ProgramData\\jupyter\\nbextensions\\autosavetime\\main.js\n",
      "[I 15:37:18 InstallContribNbextensionsApp] Up to date: C:\\ProgramData\\jupyter\\nbextensions\\autosavetime\\README.md\n",
      "[I 15:37:18 InstallContribNbextensionsApp] - Validating: ok\n",
      "[I 15:37:18 InstallContribNbextensionsApp] Installing C:\\Users\\BIT\\anaconda3\\envs\\data-env\\lib\\site-packages\\jupyter_contrib_nbextensions\\nbextensions\\autoscroll -> autoscroll\n",
      "[I 15:37:18 InstallContribNbextensionsApp] Up to date: C:\\ProgramData\\jupyter\\nbextensions\\autoscroll\\autoscroll.yaml\n",
      "[I 15:37:18 InstallContribNbextensionsApp] Up to date: C:\\ProgramData\\jupyter\\nbextensions\\autoscroll\\icon.png\n",
      "[I 15:37:18 InstallContribNbextensionsApp] Up to date: C:\\ProgramData\\jupyter\\nbextensions\\autoscroll\\main.js\n",
      "[I 15:37:18 InstallContribNbextensionsApp] Up to date: C:\\ProgramData\\jupyter\\nbextensions\\autoscroll\\README.md\n",
      "[I 15:37:18 InstallContribNbextensionsApp] - Validating: ok\n",
      "[I 15:37:18 InstallContribNbextensionsApp] Installing C:\\Users\\BIT\\anaconda3\\envs\\data-env\\lib\\site-packages\\jupyter_contrib_nbextensions\\nbextensions\\cell_filter -> cell_filter\n",
      "[I 15:37:18 InstallContribNbextensionsApp] Up to date: C:\\ProgramData\\jupyter\\nbextensions\\cell_filter\\cell_filter.js\n",
      "[I 15:37:18 InstallContribNbextensionsApp] Up to date: C:\\ProgramData\\jupyter\\nbextensions\\cell_filter\\cell_filter.yml\n",
      "[I 15:37:18 InstallContribNbextensionsApp] Up to date: C:\\ProgramData\\jupyter\\nbextensions\\cell_filter\\README.md\n",
      "[I 15:37:18 InstallContribNbextensionsApp] - Validating: ok\n",
      "[I 15:37:18 InstallContribNbextensionsApp] Installing C:\\Users\\BIT\\anaconda3\\envs\\data-env\\lib\\site-packages\\jupyter_contrib_nbextensions\\nbextensions\\codefolding -> codefolding\n",
      "[I 15:37:18 InstallContribNbextensionsApp] Up to date: C:\\ProgramData\\jupyter\\nbextensions\\codefolding\\codefolding.yaml\n",
      "[I 15:37:18 InstallContribNbextensionsApp] Up to date: C:\\ProgramData\\jupyter\\nbextensions\\codefolding\\codefolding_editor.png\n",
      "[I 15:37:18 InstallContribNbextensionsApp] Up to date: C:\\ProgramData\\jupyter\\nbextensions\\codefolding\\codefolding_editor.yaml\n",
      "[I 15:37:18 InstallContribNbextensionsApp] Up to date: C:\\ProgramData\\jupyter\\nbextensions\\codefolding\\codefolding_firstline_folded.png\n",
      "[I 15:37:18 InstallContribNbextensionsApp] Up to date: C:\\ProgramData\\jupyter\\nbextensions\\codefolding\\codefolding_firstline_unfolded.png\n",
      "[I 15:37:18 InstallContribNbextensionsApp] Up to date: C:\\ProgramData\\jupyter\\nbextensions\\codefolding\\codefolding_indent_folded_1.png\n",
      "[I 15:37:18 InstallContribNbextensionsApp] Up to date: C:\\ProgramData\\jupyter\\nbextensions\\codefolding\\codefolding_indent_folded_2.png\n",
      "[I 15:37:18 InstallContribNbextensionsApp] Up to date: C:\\ProgramData\\jupyter\\nbextensions\\codefolding\\codefolding_indent_unfolded.png\n",
      "[I 15:37:18 InstallContribNbextensionsApp] Up to date: C:\\ProgramData\\jupyter\\nbextensions\\codefolding\\edit.js\n",
      "[I 15:37:18 InstallContribNbextensionsApp] Up to date: C:\\ProgramData\\jupyter\\nbextensions\\codefolding\\firstline-fold.js\n",
      "[I 15:37:18 InstallContribNbextensionsApp] Up to date: C:\\ProgramData\\jupyter\\nbextensions\\codefolding\\foldgutter.css\n",
      "[I 15:37:18 InstallContribNbextensionsApp] Up to date: C:\\ProgramData\\jupyter\\nbextensions\\codefolding\\icon.png\n",
      "[I 15:37:18 InstallContribNbextensionsApp] Up to date: C:\\ProgramData\\jupyter\\nbextensions\\codefolding\\magic-fold.js\n",
      "[I 15:37:18 InstallContribNbextensionsApp] Up to date: C:\\ProgramData\\jupyter\\nbextensions\\codefolding\\magic-folded.png\n",
      "[I 15:37:18 InstallContribNbextensionsApp] Up to date: C:\\ProgramData\\jupyter\\nbextensions\\codefolding\\magic-unfolded.png\n",
      "[I 15:37:18 InstallContribNbextensionsApp] Up to date: C:\\ProgramData\\jupyter\\nbextensions\\codefolding\\main.js\n",
      "[I 15:37:18 InstallContribNbextensionsApp] Up to date: C:\\ProgramData\\jupyter\\nbextensions\\codefolding\\readme.md\n",
      "[I 15:37:18 InstallContribNbextensionsApp] - Validating: ok\n",
      "[I 15:37:18 InstallContribNbextensionsApp] Installing C:\\Users\\BIT\\anaconda3\\envs\\data-env\\lib\\site-packages\\jupyter_contrib_nbextensions\\nbextensions\\codefolding -> codefolding\n",
      "[I 15:37:18 InstallContribNbextensionsApp] Up to date: C:\\ProgramData\\jupyter\\nbextensions\\codefolding\\codefolding.yaml\n",
      "[I 15:37:18 InstallContribNbextensionsApp] Up to date: C:\\ProgramData\\jupyter\\nbextensions\\codefolding\\codefolding_editor.png\n",
      "[I 15:37:18 InstallContribNbextensionsApp] Up to date: C:\\ProgramData\\jupyter\\nbextensions\\codefolding\\codefolding_editor.yaml\n",
      "[I 15:37:18 InstallContribNbextensionsApp] Up to date: C:\\ProgramData\\jupyter\\nbextensions\\codefolding\\codefolding_firstline_folded.png\n",
      "[I 15:37:18 InstallContribNbextensionsApp] Up to date: C:\\ProgramData\\jupyter\\nbextensions\\codefolding\\codefolding_firstline_unfolded.png\n",
      "[I 15:37:18 InstallContribNbextensionsApp] Up to date: C:\\ProgramData\\jupyter\\nbextensions\\codefolding\\codefolding_indent_folded_1.png\n",
      "[I 15:37:18 InstallContribNbextensionsApp] Up to date: C:\\ProgramData\\jupyter\\nbextensions\\codefolding\\codefolding_indent_folded_2.png\n",
      "[I 15:37:18 InstallContribNbextensionsApp] Up to date: C:\\ProgramData\\jupyter\\nbextensions\\codefolding\\codefolding_indent_unfolded.png\n",
      "[I 15:37:18 InstallContribNbextensionsApp] Up to date: C:\\ProgramData\\jupyter\\nbextensions\\codefolding\\edit.js\n",
      "[I 15:37:18 InstallContribNbextensionsApp] Up to date: C:\\ProgramData\\jupyter\\nbextensions\\codefolding\\firstline-fold.js\n",
      "[I 15:37:18 InstallContribNbextensionsApp] Up to date: C:\\ProgramData\\jupyter\\nbextensions\\codefolding\\foldgutter.css\n",
      "[I 15:37:18 InstallContribNbextensionsApp] Up to date: C:\\ProgramData\\jupyter\\nbextensions\\codefolding\\icon.png\n",
      "[I 15:37:18 InstallContribNbextensionsApp] Up to date: C:\\ProgramData\\jupyter\\nbextensions\\codefolding\\magic-fold.js\n",
      "[I 15:37:18 InstallContribNbextensionsApp] Up to date: C:\\ProgramData\\jupyter\\nbextensions\\codefolding\\magic-folded.png\n",
      "[I 15:37:18 InstallContribNbextensionsApp] Up to date: C:\\ProgramData\\jupyter\\nbextensions\\codefolding\\magic-unfolded.png\n",
      "[I 15:37:18 InstallContribNbextensionsApp] Up to date: C:\\ProgramData\\jupyter\\nbextensions\\codefolding\\main.js\n",
      "[I 15:37:18 InstallContribNbextensionsApp] Up to date: C:\\ProgramData\\jupyter\\nbextensions\\codefolding\\readme.md\n",
      "[I 15:37:18 InstallContribNbextensionsApp] - Validating: ok\n",
      "[I 15:37:18 InstallContribNbextensionsApp] Installing C:\\Users\\BIT\\anaconda3\\envs\\data-env\\lib\\site-packages\\jupyter_contrib_nbextensions\\nbextensions\\codemirror_mode_extensions -> codemirror_mode_extensions\n",
      "[I 15:37:18 InstallContribNbextensionsApp] Up to date: C:\\ProgramData\\jupyter\\nbextensions\\codemirror_mode_extensions\\codemirror_mode_extensions.yaml\n",
      "[I 15:37:18 InstallContribNbextensionsApp] Up to date: C:\\ProgramData\\jupyter\\nbextensions\\codemirror_mode_extensions\\main.js\n",
      "[I 15:37:18 InstallContribNbextensionsApp] - Validating: ok\n",
      "[I 15:37:18 InstallContribNbextensionsApp] Installing C:\\Users\\BIT\\anaconda3\\envs\\data-env\\lib\\site-packages\\jupyter_contrib_nbextensions\\nbextensions\\code_font_size -> code_font_size\n",
      "[I 15:37:18 InstallContribNbextensionsApp] Up to date: C:\\ProgramData\\jupyter\\nbextensions\\code_font_size\\code_font_size.js\n",
      "[I 15:37:18 InstallContribNbextensionsApp] Up to date: C:\\ProgramData\\jupyter\\nbextensions\\code_font_size\\code_font_size.yaml\n",
      "[I 15:37:18 InstallContribNbextensionsApp] Up to date: C:\\ProgramData\\jupyter\\nbextensions\\code_font_size\\README.md\n",
      "[I 15:37:18 InstallContribNbextensionsApp] - Validating: ok\n",
      "[I 15:37:18 InstallContribNbextensionsApp] Installing C:\\Users\\BIT\\anaconda3\\envs\\data-env\\lib\\site-packages\\jupyter_contrib_nbextensions\\nbextensions\\code_prettify -> code_prettify\n",
      "[I 15:37:18 InstallContribNbextensionsApp] Up to date: C:\\ProgramData\\jupyter\\nbextensions\\code_prettify\\2to3.js\n",
      "[I 15:37:18 InstallContribNbextensionsApp] Up to date: C:\\ProgramData\\jupyter\\nbextensions\\code_prettify\\2to3.yaml\n",
      "[I 15:37:18 InstallContribNbextensionsApp] Up to date: C:\\ProgramData\\jupyter\\nbextensions\\code_prettify\\autopep8.js\n",
      "[I 15:37:18 InstallContribNbextensionsApp] Up to date: C:\\ProgramData\\jupyter\\nbextensions\\code_prettify\\autopep8.yaml\n",
      "[I 15:37:18 InstallContribNbextensionsApp] Up to date: C:\\ProgramData\\jupyter\\nbextensions\\code_prettify\\code_prettify.js\n",
      "[I 15:37:18 InstallContribNbextensionsApp] Up to date: C:\\ProgramData\\jupyter\\nbextensions\\code_prettify\\code_prettify.yaml\n",
      "[I 15:37:18 InstallContribNbextensionsApp] Up to date: C:\\ProgramData\\jupyter\\nbextensions\\code_prettify\\demo-jv.gif\n",
      "[I 15:37:18 InstallContribNbextensionsApp] Up to date: C:\\ProgramData\\jupyter\\nbextensions\\code_prettify\\demo-py.gif\n",
      "[I 15:37:18 InstallContribNbextensionsApp] Up to date: C:\\ProgramData\\jupyter\\nbextensions\\code_prettify\\demo-R.gif\n",
      "[I 15:37:18 InstallContribNbextensionsApp] Up to date: C:\\ProgramData\\jupyter\\nbextensions\\code_prettify\\demo_2to3.gif\n",
      "[I 15:37:18 InstallContribNbextensionsApp] Up to date: C:\\ProgramData\\jupyter\\nbextensions\\code_prettify\\isort.js\n",
      "[I 15:37:18 InstallContribNbextensionsApp] Up to date: C:\\ProgramData\\jupyter\\nbextensions\\code_prettify\\isort.yaml\n",
      "[I 15:37:18 InstallContribNbextensionsApp] Up to date: C:\\ProgramData\\jupyter\\nbextensions\\code_prettify\\kernel_exec_on_cell.js\n",
      "[I 15:37:18 InstallContribNbextensionsApp] Up to date: C:\\ProgramData\\jupyter\\nbextensions\\code_prettify\\README.md\n",
      "[I 15:37:18 InstallContribNbextensionsApp] Up to date: C:\\ProgramData\\jupyter\\nbextensions\\code_prettify\\README_2to3.md\n",
      "[I 15:37:18 InstallContribNbextensionsApp] Up to date: C:\\ProgramData\\jupyter\\nbextensions\\code_prettify\\README_autopep8.md\n",
      "[I 15:37:18 InstallContribNbextensionsApp] Up to date: C:\\ProgramData\\jupyter\\nbextensions\\code_prettify\\README_code_prettify.md\n",
      "[I 15:37:18 InstallContribNbextensionsApp] Up to date: C:\\ProgramData\\jupyter\\nbextensions\\code_prettify\\README_isort.md\n",
      "[I 15:37:18 InstallContribNbextensionsApp] - Validating: ok\n",
      "[I 15:37:18 InstallContribNbextensionsApp] Installing C:\\Users\\BIT\\anaconda3\\envs\\data-env\\lib\\site-packages\\jupyter_contrib_nbextensions\\nbextensions\\code_prettify -> code_prettify\n",
      "[I 15:37:18 InstallContribNbextensionsApp] Up to date: C:\\ProgramData\\jupyter\\nbextensions\\code_prettify\\2to3.js\n",
      "[I 15:37:18 InstallContribNbextensionsApp] Up to date: C:\\ProgramData\\jupyter\\nbextensions\\code_prettify\\2to3.yaml\n",
      "[I 15:37:18 InstallContribNbextensionsApp] Up to date: C:\\ProgramData\\jupyter\\nbextensions\\code_prettify\\autopep8.js\n",
      "[I 15:37:18 InstallContribNbextensionsApp] Up to date: C:\\ProgramData\\jupyter\\nbextensions\\code_prettify\\autopep8.yaml\n",
      "[I 15:37:18 InstallContribNbextensionsApp] Up to date: C:\\ProgramData\\jupyter\\nbextensions\\code_prettify\\code_prettify.js\n",
      "[I 15:37:18 InstallContribNbextensionsApp] Up to date: C:\\ProgramData\\jupyter\\nbextensions\\code_prettify\\code_prettify.yaml\n",
      "[I 15:37:18 InstallContribNbextensionsApp] Up to date: C:\\ProgramData\\jupyter\\nbextensions\\code_prettify\\demo-jv.gif\n",
      "[I 15:37:18 InstallContribNbextensionsApp] Up to date: C:\\ProgramData\\jupyter\\nbextensions\\code_prettify\\demo-py.gif\n",
      "[I 15:37:18 InstallContribNbextensionsApp] Up to date: C:\\ProgramData\\jupyter\\nbextensions\\code_prettify\\demo-R.gif\n",
      "[I 15:37:18 InstallContribNbextensionsApp] Up to date: C:\\ProgramData\\jupyter\\nbextensions\\code_prettify\\demo_2to3.gif\n",
      "[I 15:37:18 InstallContribNbextensionsApp] Up to date: C:\\ProgramData\\jupyter\\nbextensions\\code_prettify\\isort.js\n",
      "[I 15:37:18 InstallContribNbextensionsApp] Up to date: C:\\ProgramData\\jupyter\\nbextensions\\code_prettify\\isort.yaml\n",
      "[I 15:37:18 InstallContribNbextensionsApp] Up to date: C:\\ProgramData\\jupyter\\nbextensions\\code_prettify\\kernel_exec_on_cell.js\n",
      "[I 15:37:18 InstallContribNbextensionsApp] Up to date: C:\\ProgramData\\jupyter\\nbextensions\\code_prettify\\README.md\n",
      "[I 15:37:18 InstallContribNbextensionsApp] Up to date: C:\\ProgramData\\jupyter\\nbextensions\\code_prettify\\README_2to3.md\n",
      "[I 15:37:18 InstallContribNbextensionsApp] Up to date: C:\\ProgramData\\jupyter\\nbextensions\\code_prettify\\README_autopep8.md\n",
      "[I 15:37:18 InstallContribNbextensionsApp] Up to date: C:\\ProgramData\\jupyter\\nbextensions\\code_prettify\\README_code_prettify.md\n",
      "[I 15:37:18 InstallContribNbextensionsApp] Up to date: C:\\ProgramData\\jupyter\\nbextensions\\code_prettify\\README_isort.md\n",
      "[I 15:37:18 InstallContribNbextensionsApp] - Validating: ok\n",
      "[I 15:37:18 InstallContribNbextensionsApp] Installing C:\\Users\\BIT\\anaconda3\\envs\\data-env\\lib\\site-packages\\jupyter_contrib_nbextensions\\nbextensions\\code_prettify -> code_prettify\n",
      "[I 15:37:18 InstallContribNbextensionsApp] Up to date: C:\\ProgramData\\jupyter\\nbextensions\\code_prettify\\2to3.js\n",
      "[I 15:37:18 InstallContribNbextensionsApp] Up to date: C:\\ProgramData\\jupyter\\nbextensions\\code_prettify\\2to3.yaml\n",
      "[I 15:37:18 InstallContribNbextensionsApp] Up to date: C:\\ProgramData\\jupyter\\nbextensions\\code_prettify\\autopep8.js\n",
      "[I 15:37:18 InstallContribNbextensionsApp] Up to date: C:\\ProgramData\\jupyter\\nbextensions\\code_prettify\\autopep8.yaml\n",
      "[I 15:37:18 InstallContribNbextensionsApp] Up to date: C:\\ProgramData\\jupyter\\nbextensions\\code_prettify\\code_prettify.js\n",
      "[I 15:37:18 InstallContribNbextensionsApp] Up to date: C:\\ProgramData\\jupyter\\nbextensions\\code_prettify\\code_prettify.yaml\n",
      "[I 15:37:18 InstallContribNbextensionsApp] Up to date: C:\\ProgramData\\jupyter\\nbextensions\\code_prettify\\demo-jv.gif\n",
      "[I 15:37:18 InstallContribNbextensionsApp] Up to date: C:\\ProgramData\\jupyter\\nbextensions\\code_prettify\\demo-py.gif\n",
      "[I 15:37:18 InstallContribNbextensionsApp] Up to date: C:\\ProgramData\\jupyter\\nbextensions\\code_prettify\\demo-R.gif\n",
      "[I 15:37:18 InstallContribNbextensionsApp] Up to date: C:\\ProgramData\\jupyter\\nbextensions\\code_prettify\\demo_2to3.gif\n",
      "[I 15:37:18 InstallContribNbextensionsApp] Up to date: C:\\ProgramData\\jupyter\\nbextensions\\code_prettify\\isort.js\n",
      "[I 15:37:18 InstallContribNbextensionsApp] Up to date: C:\\ProgramData\\jupyter\\nbextensions\\code_prettify\\isort.yaml\n",
      "[I 15:37:18 InstallContribNbextensionsApp] Up to date: C:\\ProgramData\\jupyter\\nbextensions\\code_prettify\\kernel_exec_on_cell.js\n",
      "[I 15:37:18 InstallContribNbextensionsApp] Up to date: C:\\ProgramData\\jupyter\\nbextensions\\code_prettify\\README.md\n",
      "[I 15:37:18 InstallContribNbextensionsApp] Up to date: C:\\ProgramData\\jupyter\\nbextensions\\code_prettify\\README_2to3.md\n",
      "[I 15:37:18 InstallContribNbextensionsApp] Up to date: C:\\ProgramData\\jupyter\\nbextensions\\code_prettify\\README_autopep8.md\n",
      "[I 15:37:18 InstallContribNbextensionsApp] Up to date: C:\\ProgramData\\jupyter\\nbextensions\\code_prettify\\README_code_prettify.md\n",
      "[I 15:37:18 InstallContribNbextensionsApp] Up to date: C:\\ProgramData\\jupyter\\nbextensions\\code_prettify\\README_isort.md\n",
      "[I 15:37:18 InstallContribNbextensionsApp] - Validating: ok\n",
      "[I 15:37:18 InstallContribNbextensionsApp] Installing C:\\Users\\BIT\\anaconda3\\envs\\data-env\\lib\\site-packages\\jupyter_contrib_nbextensions\\nbextensions\\code_prettify -> code_prettify\n",
      "[I 15:37:18 InstallContribNbextensionsApp] Up to date: C:\\ProgramData\\jupyter\\nbextensions\\code_prettify\\2to3.js\n",
      "[I 15:37:18 InstallContribNbextensionsApp] Up to date: C:\\ProgramData\\jupyter\\nbextensions\\code_prettify\\2to3.yaml\n"
     ]
    },
    {
     "name": "stderr",
     "output_type": "stream",
     "text": [
      "[I 15:37:18 InstallContribNbextensionsApp] Up to date: C:\\ProgramData\\jupyter\\nbextensions\\code_prettify\\autopep8.js\n",
      "[I 15:37:18 InstallContribNbextensionsApp] Up to date: C:\\ProgramData\\jupyter\\nbextensions\\code_prettify\\autopep8.yaml\n",
      "[I 15:37:18 InstallContribNbextensionsApp] Up to date: C:\\ProgramData\\jupyter\\nbextensions\\code_prettify\\code_prettify.js\n",
      "[I 15:37:18 InstallContribNbextensionsApp] Up to date: C:\\ProgramData\\jupyter\\nbextensions\\code_prettify\\code_prettify.yaml\n",
      "[I 15:37:18 InstallContribNbextensionsApp] Up to date: C:\\ProgramData\\jupyter\\nbextensions\\code_prettify\\demo-jv.gif\n",
      "[I 15:37:18 InstallContribNbextensionsApp] Up to date: C:\\ProgramData\\jupyter\\nbextensions\\code_prettify\\demo-py.gif\n",
      "[I 15:37:18 InstallContribNbextensionsApp] Up to date: C:\\ProgramData\\jupyter\\nbextensions\\code_prettify\\demo-R.gif\n",
      "[I 15:37:18 InstallContribNbextensionsApp] Up to date: C:\\ProgramData\\jupyter\\nbextensions\\code_prettify\\demo_2to3.gif\n",
      "[I 15:37:18 InstallContribNbextensionsApp] Up to date: C:\\ProgramData\\jupyter\\nbextensions\\code_prettify\\isort.js\n",
      "[I 15:37:18 InstallContribNbextensionsApp] Up to date: C:\\ProgramData\\jupyter\\nbextensions\\code_prettify\\isort.yaml\n",
      "[I 15:37:18 InstallContribNbextensionsApp] Up to date: C:\\ProgramData\\jupyter\\nbextensions\\code_prettify\\kernel_exec_on_cell.js\n",
      "[I 15:37:18 InstallContribNbextensionsApp] Up to date: C:\\ProgramData\\jupyter\\nbextensions\\code_prettify\\README.md\n",
      "[I 15:37:18 InstallContribNbextensionsApp] Up to date: C:\\ProgramData\\jupyter\\nbextensions\\code_prettify\\README_2to3.md\n",
      "[I 15:37:18 InstallContribNbextensionsApp] Up to date: C:\\ProgramData\\jupyter\\nbextensions\\code_prettify\\README_autopep8.md\n",
      "[I 15:37:18 InstallContribNbextensionsApp] Up to date: C:\\ProgramData\\jupyter\\nbextensions\\code_prettify\\README_code_prettify.md\n",
      "[I 15:37:18 InstallContribNbextensionsApp] Up to date: C:\\ProgramData\\jupyter\\nbextensions\\code_prettify\\README_isort.md\n",
      "[I 15:37:18 InstallContribNbextensionsApp] - Validating: ok\n",
      "[I 15:37:18 InstallContribNbextensionsApp] Installing C:\\Users\\BIT\\anaconda3\\envs\\data-env\\lib\\site-packages\\jupyter_contrib_nbextensions\\nbextensions\\collapsible_headings -> collapsible_headings\n",
      "[I 15:37:18 InstallContribNbextensionsApp] Up to date: C:\\ProgramData\\jupyter\\nbextensions\\collapsible_headings\\collapsible_headings.yaml\n",
      "[I 15:37:18 InstallContribNbextensionsApp] Up to date: C:\\ProgramData\\jupyter\\nbextensions\\collapsible_headings\\icon.png\n",
      "[I 15:37:18 InstallContribNbextensionsApp] Up to date: C:\\ProgramData\\jupyter\\nbextensions\\collapsible_headings\\main.css\n",
      "[I 15:37:18 InstallContribNbextensionsApp] Up to date: C:\\ProgramData\\jupyter\\nbextensions\\collapsible_headings\\main.js\n",
      "[I 15:37:18 InstallContribNbextensionsApp] Up to date: C:\\ProgramData\\jupyter\\nbextensions\\collapsible_headings\\readme.md\n",
      "[I 15:37:18 InstallContribNbextensionsApp] Up to date: C:\\ProgramData\\jupyter\\nbextensions\\collapsible_headings\\screenshot.png\n",
      "[I 15:37:18 InstallContribNbextensionsApp] - Validating: ok\n",
      "[I 15:37:18 InstallContribNbextensionsApp] Installing C:\\Users\\BIT\\anaconda3\\envs\\data-env\\lib\\site-packages\\jupyter_contrib_nbextensions\\nbextensions\\comment-uncomment -> comment-uncomment\n",
      "[I 15:37:18 InstallContribNbextensionsApp] Up to date: C:\\ProgramData\\jupyter\\nbextensions\\comment-uncomment\\comment-uncomment.yaml\n",
      "[I 15:37:18 InstallContribNbextensionsApp] Up to date: C:\\ProgramData\\jupyter\\nbextensions\\comment-uncomment\\icon.png\n",
      "[I 15:37:18 InstallContribNbextensionsApp] Up to date: C:\\ProgramData\\jupyter\\nbextensions\\comment-uncomment\\main.js\n",
      "[I 15:37:18 InstallContribNbextensionsApp] Up to date: C:\\ProgramData\\jupyter\\nbextensions\\comment-uncomment\\readme.md\n",
      "[I 15:37:18 InstallContribNbextensionsApp] - Validating: ok\n",
      "[I 15:37:18 InstallContribNbextensionsApp] Installing C:\\Users\\BIT\\anaconda3\\envs\\data-env\\lib\\site-packages\\jupyter_contrib_nbextensions\\nbextensions\\contrib_nbextensions_help_item -> contrib_nbextensions_help_item\n",
      "[I 15:37:18 InstallContribNbextensionsApp] Up to date: C:\\ProgramData\\jupyter\\nbextensions\\contrib_nbextensions_help_item\\contrib_nbextensions_help_item.yaml\n",
      "[I 15:37:18 InstallContribNbextensionsApp] Up to date: C:\\ProgramData\\jupyter\\nbextensions\\contrib_nbextensions_help_item\\main.js\n",
      "[I 15:37:18 InstallContribNbextensionsApp] Up to date: C:\\ProgramData\\jupyter\\nbextensions\\contrib_nbextensions_help_item\\README.md\n",
      "[I 15:37:18 InstallContribNbextensionsApp] - Validating: ok\n",
      "[I 15:37:18 InstallContribNbextensionsApp] Installing C:\\Users\\BIT\\anaconda3\\envs\\data-env\\lib\\site-packages\\jupyter_contrib_nbextensions\\nbextensions\\datestamper -> datestamper\n",
      "[I 15:37:18 InstallContribNbextensionsApp] Up to date: C:\\ProgramData\\jupyter\\nbextensions\\datestamper\\icon.png\n",
      "[I 15:37:18 InstallContribNbextensionsApp] Up to date: C:\\ProgramData\\jupyter\\nbextensions\\datestamper\\main.js\n",
      "[I 15:37:18 InstallContribNbextensionsApp] Up to date: C:\\ProgramData\\jupyter\\nbextensions\\datestamper\\main.yaml\n",
      "[I 15:37:18 InstallContribNbextensionsApp] Up to date: C:\\ProgramData\\jupyter\\nbextensions\\datestamper\\readme.md\n",
      "[I 15:37:18 InstallContribNbextensionsApp] - Validating: ok\n",
      "[I 15:37:18 InstallContribNbextensionsApp] Installing C:\\Users\\BIT\\anaconda3\\envs\\data-env\\lib\\site-packages\\jupyter_contrib_nbextensions\\nbextensions\\equation-numbering -> equation-numbering\n",
      "[I 15:37:18 InstallContribNbextensionsApp] Up to date: C:\\ProgramData\\jupyter\\nbextensions\\equation-numbering\\button.png\n",
      "[I 15:37:18 InstallContribNbextensionsApp] Up to date: C:\\ProgramData\\jupyter\\nbextensions\\equation-numbering\\icon.png\n",
      "[I 15:37:18 InstallContribNbextensionsApp] Up to date: C:\\ProgramData\\jupyter\\nbextensions\\equation-numbering\\info.yaml\n",
      "[I 15:37:18 InstallContribNbextensionsApp] Up to date: C:\\ProgramData\\jupyter\\nbextensions\\equation-numbering\\main.js\n",
      "[I 15:37:18 InstallContribNbextensionsApp] Up to date: C:\\ProgramData\\jupyter\\nbextensions\\equation-numbering\\readme.md\n",
      "[I 15:37:18 InstallContribNbextensionsApp] - Validating: ok\n",
      "[I 15:37:18 InstallContribNbextensionsApp] Installing C:\\Users\\BIT\\anaconda3\\envs\\data-env\\lib\\site-packages\\jupyter_contrib_nbextensions\\nbextensions\\execute_time -> execute_time\n",
      "[I 15:37:18 InstallContribNbextensionsApp] Up to date: C:\\ProgramData\\jupyter\\nbextensions\\execute_time\\ExecuteTime.css\n",
      "[I 15:37:18 InstallContribNbextensionsApp] Up to date: C:\\ProgramData\\jupyter\\nbextensions\\execute_time\\ExecuteTime.js\n",
      "[I 15:37:18 InstallContribNbextensionsApp] Up to date: C:\\ProgramData\\jupyter\\nbextensions\\execute_time\\ExecuteTime.yaml\n",
      "[I 15:37:18 InstallContribNbextensionsApp] Up to date: C:\\ProgramData\\jupyter\\nbextensions\\execute_time\\execution-timings-box.png\n",
      "[I 15:37:18 InstallContribNbextensionsApp] Up to date: C:\\ProgramData\\jupyter\\nbextensions\\execute_time\\execution-timings-menu.png\n",
      "[I 15:37:18 InstallContribNbextensionsApp] Up to date: C:\\ProgramData\\jupyter\\nbextensions\\execute_time\\icon.png\n",
      "[I 15:37:18 InstallContribNbextensionsApp] Up to date: C:\\ProgramData\\jupyter\\nbextensions\\execute_time\\readme.md\n",
      "[I 15:37:18 InstallContribNbextensionsApp] - Validating: ok\n",
      "[I 15:37:18 InstallContribNbextensionsApp] Installing C:\\Users\\BIT\\anaconda3\\envs\\data-env\\lib\\site-packages\\jupyter_contrib_nbextensions\\nbextensions\\execution_dependencies -> execution_dependencies\n",
      "[I 15:37:18 InstallContribNbextensionsApp] Up to date: C:\\ProgramData\\jupyter\\nbextensions\\execution_dependencies\\execution_dependencies.js\n",
      "[I 15:37:18 InstallContribNbextensionsApp] Up to date: C:\\ProgramData\\jupyter\\nbextensions\\execution_dependencies\\execution_dependencies.yml\n",
      "[I 15:37:18 InstallContribNbextensionsApp] Up to date: C:\\ProgramData\\jupyter\\nbextensions\\execution_dependencies\\README.md\n",
      "[I 15:37:18 InstallContribNbextensionsApp] - Validating: ok\n",
      "[I 15:37:18 InstallContribNbextensionsApp] Installing C:\\Users\\BIT\\anaconda3\\envs\\data-env\\lib\\site-packages\\jupyter_contrib_nbextensions\\nbextensions\\exercise -> exercise\n",
      "[I 15:37:18 InstallContribNbextensionsApp] Up to date: C:\\ProgramData\\jupyter\\nbextensions\\exercise\\exercise.yaml\n",
      "[I 15:37:18 InstallContribNbextensionsApp] Up to date: C:\\ProgramData\\jupyter\\nbextensions\\exercise\\history.md\n",
      "[I 15:37:18 InstallContribNbextensionsApp] Up to date: C:\\ProgramData\\jupyter\\nbextensions\\exercise\\icon.png\n",
      "[I 15:37:18 InstallContribNbextensionsApp] Up to date: C:\\ProgramData\\jupyter\\nbextensions\\exercise\\image.gif\n",
      "[I 15:37:18 InstallContribNbextensionsApp] Up to date: C:\\ProgramData\\jupyter\\nbextensions\\exercise\\main.css\n",
      "[I 15:37:18 InstallContribNbextensionsApp] Up to date: C:\\ProgramData\\jupyter\\nbextensions\\exercise\\main.js\n",
      "[I 15:37:18 InstallContribNbextensionsApp] Up to date: C:\\ProgramData\\jupyter\\nbextensions\\exercise\\readme.md\n",
      "[I 15:37:18 InstallContribNbextensionsApp] - Validating: ok\n",
      "[I 15:37:18 InstallContribNbextensionsApp] Installing C:\\Users\\BIT\\anaconda3\\envs\\data-env\\lib\\site-packages\\jupyter_contrib_nbextensions\\nbextensions\\exercise2 -> exercise2\n",
      "[I 15:37:18 InstallContribNbextensionsApp] Up to date: C:\\ProgramData\\jupyter\\nbextensions\\exercise2\\exercise2.yaml\n",
      "[I 15:37:18 InstallContribNbextensionsApp] Up to date: C:\\ProgramData\\jupyter\\nbextensions\\exercise2\\icon.png\n",
      "[I 15:37:18 InstallContribNbextensionsApp] Up to date: C:\\ProgramData\\jupyter\\nbextensions\\exercise2\\image.gif\n",
      "[I 15:37:18 InstallContribNbextensionsApp] Up to date: C:\\ProgramData\\jupyter\\nbextensions\\exercise2\\main.css\n",
      "[I 15:37:18 InstallContribNbextensionsApp] Up to date: C:\\ProgramData\\jupyter\\nbextensions\\exercise2\\main.js\n",
      "[I 15:37:18 InstallContribNbextensionsApp] Up to date: C:\\ProgramData\\jupyter\\nbextensions\\exercise2\\readme.md\n",
      "[I 15:37:18 InstallContribNbextensionsApp] - Validating: ok\n",
      "[I 15:37:18 InstallContribNbextensionsApp] Installing C:\\Users\\BIT\\anaconda3\\envs\\data-env\\lib\\site-packages\\jupyter_contrib_nbextensions\\nbextensions\\export_embedded -> export_embedded\n",
      "[I 15:37:18 InstallContribNbextensionsApp] Up to date: C:\\ProgramData\\jupyter\\nbextensions\\export_embedded\\export_embedded.yaml\n",
      "[I 15:37:18 InstallContribNbextensionsApp] Up to date: C:\\ProgramData\\jupyter\\nbextensions\\export_embedded\\icon.png\n",
      "[I 15:37:18 InstallContribNbextensionsApp] Up to date: C:\\ProgramData\\jupyter\\nbextensions\\export_embedded\\main.js\n",
      "[I 15:37:18 InstallContribNbextensionsApp] Up to date: C:\\ProgramData\\jupyter\\nbextensions\\export_embedded\\readme.md\n",
      "[I 15:37:18 InstallContribNbextensionsApp] - Validating: ok\n",
      "[I 15:37:18 InstallContribNbextensionsApp] Installing C:\\Users\\BIT\\anaconda3\\envs\\data-env\\lib\\site-packages\\jupyter_contrib_nbextensions\\nbextensions\\freeze -> freeze\n",
      "[I 15:37:18 InstallContribNbextensionsApp] Up to date: C:\\ProgramData\\jupyter\\nbextensions\\freeze\\config.yaml\n",
      "[I 15:37:18 InstallContribNbextensionsApp] Up to date: C:\\ProgramData\\jupyter\\nbextensions\\freeze\\icon.png\n",
      "[I 15:37:18 InstallContribNbextensionsApp] Up to date: C:\\ProgramData\\jupyter\\nbextensions\\freeze\\main.js\n",
      "[I 15:37:18 InstallContribNbextensionsApp] Up to date: C:\\ProgramData\\jupyter\\nbextensions\\freeze\\readme.md\n",
      "[I 15:37:18 InstallContribNbextensionsApp] - Validating: ok\n",
      "[I 15:37:18 InstallContribNbextensionsApp] Installing C:\\Users\\BIT\\anaconda3\\envs\\data-env\\lib\\site-packages\\jupyter_contrib_nbextensions\\nbextensions\\gist_it -> gist_it\n",
      "[I 15:37:18 InstallContribNbextensionsApp] Up to date: C:\\ProgramData\\jupyter\\nbextensions\\gist_it\\gist_it.yaml\n",
      "[I 15:37:18 InstallContribNbextensionsApp] Up to date: C:\\ProgramData\\jupyter\\nbextensions\\gist_it\\icon.png\n",
      "[I 15:37:18 InstallContribNbextensionsApp] Up to date: C:\\ProgramData\\jupyter\\nbextensions\\gist_it\\main.js\n",
      "[I 15:37:18 InstallContribNbextensionsApp] Up to date: C:\\ProgramData\\jupyter\\nbextensions\\gist_it\\readme.md\n",
      "[I 15:37:18 InstallContribNbextensionsApp] - Validating: ok\n",
      "[I 15:37:18 InstallContribNbextensionsApp] Installing C:\\Users\\BIT\\anaconda3\\envs\\data-env\\lib\\site-packages\\jupyter_contrib_nbextensions\\nbextensions\\help_panel -> help_panel\n",
      "[I 15:37:18 InstallContribNbextensionsApp] Up to date: C:\\ProgramData\\jupyter\\nbextensions\\help_panel\\help_panel.css\n",
      "[I 15:37:18 InstallContribNbextensionsApp] Up to date: C:\\ProgramData\\jupyter\\nbextensions\\help_panel\\help_panel.js\n",
      "[I 15:37:18 InstallContribNbextensionsApp] Up to date: C:\\ProgramData\\jupyter\\nbextensions\\help_panel\\help_panel.yaml\n",
      "[I 15:37:18 InstallContribNbextensionsApp] Up to date: C:\\ProgramData\\jupyter\\nbextensions\\help_panel\\help_panel_ext.png\n",
      "[I 15:37:18 InstallContribNbextensionsApp] Up to date: C:\\ProgramData\\jupyter\\nbextensions\\help_panel\\help_panel_ext_fullscreen.png\n",
      "[I 15:37:18 InstallContribNbextensionsApp] Up to date: C:\\ProgramData\\jupyter\\nbextensions\\help_panel\\icon.png\n",
      "[I 15:37:18 InstallContribNbextensionsApp] Up to date: C:\\ProgramData\\jupyter\\nbextensions\\help_panel\\readme.md\n",
      "[I 15:37:18 InstallContribNbextensionsApp] Up to date: C:\\ProgramData\\jupyter\\nbextensions\\help_panel\\img\\handle-v.png\n",
      "[I 15:37:18 InstallContribNbextensionsApp] - Validating: ok\n",
      "[I 15:37:18 InstallContribNbextensionsApp] Installing C:\\Users\\BIT\\anaconda3\\envs\\data-env\\lib\\site-packages\\jupyter_contrib_nbextensions\\nbextensions\\hide_header -> hide_header\n",
      "[I 15:37:18 InstallContribNbextensionsApp] Up to date: C:\\ProgramData\\jupyter\\nbextensions\\hide_header\\hide_header.yaml\n",
      "[I 15:37:18 InstallContribNbextensionsApp] Up to date: C:\\ProgramData\\jupyter\\nbextensions\\hide_header\\main.js\n",
      "[I 15:37:18 InstallContribNbextensionsApp] Up to date: C:\\ProgramData\\jupyter\\nbextensions\\hide_header\\README.md\n",
      "[I 15:37:18 InstallContribNbextensionsApp] - Validating: ok\n",
      "[I 15:37:18 InstallContribNbextensionsApp] Installing C:\\Users\\BIT\\anaconda3\\envs\\data-env\\lib\\site-packages\\jupyter_contrib_nbextensions\\nbextensions\\hide_input -> hide_input\n",
      "[I 15:37:18 InstallContribNbextensionsApp] Up to date: C:\\ProgramData\\jupyter\\nbextensions\\hide_input\\hide-input.yaml\n",
      "[I 15:37:18 InstallContribNbextensionsApp] Up to date: C:\\ProgramData\\jupyter\\nbextensions\\hide_input\\icon.png\n",
      "[I 15:37:18 InstallContribNbextensionsApp] Up to date: C:\\ProgramData\\jupyter\\nbextensions\\hide_input\\main.js\n",
      "[I 15:37:18 InstallContribNbextensionsApp] Up to date: C:\\ProgramData\\jupyter\\nbextensions\\hide_input\\readme.md\n",
      "[I 15:37:18 InstallContribNbextensionsApp] - Validating: ok\n",
      "[I 15:37:18 InstallContribNbextensionsApp] Installing C:\\Users\\BIT\\anaconda3\\envs\\data-env\\lib\\site-packages\\jupyter_contrib_nbextensions\\nbextensions\\hide_input_all -> hide_input_all\n",
      "[I 15:37:18 InstallContribNbextensionsApp] Up to date: C:\\ProgramData\\jupyter\\nbextensions\\hide_input_all\\hide_input_all.yaml\n",
      "[I 15:37:18 InstallContribNbextensionsApp] Up to date: C:\\ProgramData\\jupyter\\nbextensions\\hide_input_all\\hide_input_all_hide.png\n",
      "[I 15:37:18 InstallContribNbextensionsApp] Up to date: C:\\ProgramData\\jupyter\\nbextensions\\hide_input_all\\hide_input_all_show.png\n",
      "[I 15:37:18 InstallContribNbextensionsApp] Up to date: C:\\ProgramData\\jupyter\\nbextensions\\hide_input_all\\icon.png\n",
      "[I 15:37:18 InstallContribNbextensionsApp] Up to date: C:\\ProgramData\\jupyter\\nbextensions\\hide_input_all\\main.js\n",
      "[I 15:37:18 InstallContribNbextensionsApp] Up to date: C:\\ProgramData\\jupyter\\nbextensions\\hide_input_all\\readme.md\n",
      "[I 15:37:18 InstallContribNbextensionsApp] - Validating: ok\n",
      "[I 15:37:18 InstallContribNbextensionsApp] Installing C:\\Users\\BIT\\anaconda3\\envs\\data-env\\lib\\site-packages\\jupyter_contrib_nbextensions\\nbextensions\\highlighter -> highlighter\n",
      "[I 15:37:18 InstallContribNbextensionsApp] Up to date: C:\\ProgramData\\jupyter\\nbextensions\\highlighter\\demo_highlighter.html\n",
      "[I 15:37:18 InstallContribNbextensionsApp] Up to date: C:\\ProgramData\\jupyter\\nbextensions\\highlighter\\demo_highlighter.ipynb\n",
      "[I 15:37:18 InstallContribNbextensionsApp] Up to date: C:\\ProgramData\\jupyter\\nbextensions\\highlighter\\export_highlights.html\n",
      "[I 15:37:18 InstallContribNbextensionsApp] Up to date: C:\\ProgramData\\jupyter\\nbextensions\\highlighter\\export_highlights.ipynb\n",
      "[I 15:37:18 InstallContribNbextensionsApp] Up to date: C:\\ProgramData\\jupyter\\nbextensions\\highlighter\\export_highlights.pdf\n",
      "[I 15:37:18 InstallContribNbextensionsApp] Up to date: C:\\ProgramData\\jupyter\\nbextensions\\highlighter\\export_highlights.tex\n",
      "[I 15:37:18 InstallContribNbextensionsApp] Up to date: C:\\ProgramData\\jupyter\\nbextensions\\highlighter\\highlighter.css\n",
      "[I 15:37:18 InstallContribNbextensionsApp] Up to date: C:\\ProgramData\\jupyter\\nbextensions\\highlighter\\highlighter.js\n",
      "[I 15:37:18 InstallContribNbextensionsApp] Up to date: C:\\ProgramData\\jupyter\\nbextensions\\highlighter\\highlighter.yaml\n",
      "[I 15:37:18 InstallContribNbextensionsApp] Up to date: C:\\ProgramData\\jupyter\\nbextensions\\highlighter\\icon.png\n",
      "[I 15:37:18 InstallContribNbextensionsApp] Up to date: C:\\ProgramData\\jupyter\\nbextensions\\highlighter\\image.gif\n",
      "[I 15:37:18 InstallContribNbextensionsApp] Up to date: C:\\ProgramData\\jupyter\\nbextensions\\highlighter\\readme.md\n",
      "[I 15:37:18 InstallContribNbextensionsApp] Up to date: C:\\ProgramData\\jupyter\\nbextensions\\highlighter\\tst_highlights.html\n",
      "[I 15:37:18 InstallContribNbextensionsApp] Up to date: C:\\ProgramData\\jupyter\\nbextensions\\highlighter\\tst_highlights.ipynb\n",
      "[I 15:37:18 InstallContribNbextensionsApp] Up to date: C:\\ProgramData\\jupyter\\nbextensions\\highlighter\\tst_highlights.pdf\n",
      "[I 15:37:18 InstallContribNbextensionsApp] Up to date: C:\\ProgramData\\jupyter\\nbextensions\\highlighter\\tst_highlights.tex\n",
      "[I 15:37:18 InstallContribNbextensionsApp] - Validating: ok\n",
      "[I 15:37:18 InstallContribNbextensionsApp] Installing C:\\Users\\BIT\\anaconda3\\envs\\data-env\\lib\\site-packages\\jupyter_contrib_nbextensions\\nbextensions\\hinterland -> hinterland\n",
      "[I 15:37:18 InstallContribNbextensionsApp] Up to date: C:\\ProgramData\\jupyter\\nbextensions\\hinterland\\hinterland.js\n",
      "[I 15:37:18 InstallContribNbextensionsApp] Up to date: C:\\ProgramData\\jupyter\\nbextensions\\hinterland\\hinterland.yaml\n",
      "[I 15:37:18 InstallContribNbextensionsApp] Up to date: C:\\ProgramData\\jupyter\\nbextensions\\hinterland\\README.md\n",
      "[I 15:37:18 InstallContribNbextensionsApp] - Validating: ok\n",
      "[I 15:37:18 InstallContribNbextensionsApp] Installing C:\\Users\\BIT\\anaconda3\\envs\\data-env\\lib\\site-packages\\jupyter_contrib_nbextensions\\nbextensions\\init_cell -> init_cell\n",
      "[I 15:37:18 InstallContribNbextensionsApp] Up to date: C:\\ProgramData\\jupyter\\nbextensions\\init_cell\\cell_toolbar_menu.png\n",
      "[I 15:37:18 InstallContribNbextensionsApp] Up to date: C:\\ProgramData\\jupyter\\nbextensions\\init_cell\\icon.png\n",
      "[I 15:37:18 InstallContribNbextensionsApp] Up to date: C:\\ProgramData\\jupyter\\nbextensions\\init_cell\\init_cell.yaml\n",
      "[I 15:37:18 InstallContribNbextensionsApp] Up to date: C:\\ProgramData\\jupyter\\nbextensions\\init_cell\\main.js\n",
      "[I 15:37:18 InstallContribNbextensionsApp] Up to date: C:\\ProgramData\\jupyter\\nbextensions\\init_cell\\README.md\n",
      "[I 15:37:18 InstallContribNbextensionsApp] - Validating: ok\n",
      "[I 15:37:18 InstallContribNbextensionsApp] Installing C:\\Users\\BIT\\anaconda3\\envs\\data-env\\lib\\site-packages\\jupyter_contrib_nbextensions\\nbextensions\\keyboard_shortcut_editor -> keyboard_shortcut_editor\n",
      "[I 15:37:18 InstallContribNbextensionsApp] Up to date: C:\\ProgramData\\jupyter\\nbextensions\\keyboard_shortcut_editor\\icon.png\n",
      "[I 15:37:18 InstallContribNbextensionsApp] Up to date: C:\\ProgramData\\jupyter\\nbextensions\\keyboard_shortcut_editor\\keyboard_shortcut_editor.yaml\n",
      "[I 15:37:18 InstallContribNbextensionsApp] Up to date: C:\\ProgramData\\jupyter\\nbextensions\\keyboard_shortcut_editor\\kse_components.js\n",
      "[I 15:37:18 InstallContribNbextensionsApp] Up to date: C:\\ProgramData\\jupyter\\nbextensions\\keyboard_shortcut_editor\\main.css\n",
      "[I 15:37:18 InstallContribNbextensionsApp] Up to date: C:\\ProgramData\\jupyter\\nbextensions\\keyboard_shortcut_editor\\main.js\n",
      "[I 15:37:18 InstallContribNbextensionsApp] Up to date: C:\\ProgramData\\jupyter\\nbextensions\\keyboard_shortcut_editor\\quickhelp_shim.js\n",
      "[I 15:37:18 InstallContribNbextensionsApp] Up to date: C:\\ProgramData\\jupyter\\nbextensions\\keyboard_shortcut_editor\\README.md\n",
      "[I 15:37:18 InstallContribNbextensionsApp] Up to date: C:\\ProgramData\\jupyter\\nbextensions\\keyboard_shortcut_editor\\readme_add_new_link.png\n",
      "[I 15:37:18 InstallContribNbextensionsApp] Up to date: C:\\ProgramData\\jupyter\\nbextensions\\keyboard_shortcut_editor\\readme_add_new_select_action.png\n",
      "[I 15:37:18 InstallContribNbextensionsApp] Up to date: C:\\ProgramData\\jupyter\\nbextensions\\keyboard_shortcut_editor\\readme_comma.png\n",
      "[I 15:37:18 InstallContribNbextensionsApp] Up to date: C:\\ProgramData\\jupyter\\nbextensions\\keyboard_shortcut_editor\\readme_conflict.png\n",
      "[I 15:37:18 InstallContribNbextensionsApp] Up to date: C:\\ProgramData\\jupyter\\nbextensions\\keyboard_shortcut_editor\\readme_dropdown.png\n",
      "[I 15:37:18 InstallContribNbextensionsApp] Up to date: C:\\ProgramData\\jupyter\\nbextensions\\keyboard_shortcut_editor\\readme_menu_item.png\n",
      "[I 15:37:18 InstallContribNbextensionsApp] Up to date: C:\\ProgramData\\jupyter\\nbextensions\\keyboard_shortcut_editor\\readme_reset_disabled.png\n",
      "[I 15:37:18 InstallContribNbextensionsApp] Up to date: C:\\ProgramData\\jupyter\\nbextensions\\keyboard_shortcut_editor\\readme_shortcut_editor_blank.png\n",
      "[I 15:37:18 InstallContribNbextensionsApp] Up to date: C:\\ProgramData\\jupyter\\nbextensions\\keyboard_shortcut_editor\\readme_shortcut_editor_success.png\n",
      "[I 15:37:18 InstallContribNbextensionsApp] Up to date: C:\\ProgramData\\jupyter\\nbextensions\\keyboard_shortcut_editor\\readme_undefined_key.png\n",
      "[I 15:37:18 InstallContribNbextensionsApp] - Validating: ok\n",
      "[I 15:37:18 InstallContribNbextensionsApp] Installing C:\\Users\\BIT\\anaconda3\\envs\\data-env\\lib\\site-packages\\jupyter_contrib_nbextensions\\nbextensions\\limit_output -> limit_output\n",
      "[I 15:37:18 InstallContribNbextensionsApp] Up to date: C:\\ProgramData\\jupyter\\nbextensions\\limit_output\\icon.png\n",
      "[I 15:37:18 InstallContribNbextensionsApp] Up to date: C:\\ProgramData\\jupyter\\nbextensions\\limit_output\\limit-output.yaml\n",
      "[I 15:37:18 InstallContribNbextensionsApp] Up to date: C:\\ProgramData\\jupyter\\nbextensions\\limit_output\\main.js\n",
      "[I 15:37:18 InstallContribNbextensionsApp] Up to date: C:\\ProgramData\\jupyter\\nbextensions\\limit_output\\readme.md\n",
      "[I 15:37:18 InstallContribNbextensionsApp] - Validating: ok\n",
      "[I 15:37:18 InstallContribNbextensionsApp] Installing C:\\Users\\BIT\\anaconda3\\envs\\data-env\\lib\\site-packages\\jupyter_contrib_nbextensions\\nbextensions\\livemdpreview -> livemdpreview\n",
      "[I 15:37:18 InstallContribNbextensionsApp] Up to date: C:\\ProgramData\\jupyter\\nbextensions\\livemdpreview\\livemdpreview.js\n",
      "[I 15:37:18 InstallContribNbextensionsApp] Up to date: C:\\ProgramData\\jupyter\\nbextensions\\livemdpreview\\livemdpreview.yml\n",
      "[I 15:37:18 InstallContribNbextensionsApp] - Validating: ok\n",
      "[I 15:37:18 InstallContribNbextensionsApp] Installing C:\\Users\\BIT\\anaconda3\\envs\\data-env\\lib\\site-packages\\jupyter_contrib_nbextensions\\nbextensions\\load_tex_macros -> load_tex_macros\n",
      "[I 15:37:18 InstallContribNbextensionsApp] Up to date: C:\\ProgramData\\jupyter\\nbextensions\\load_tex_macros\\icon.png\n",
      "[I 15:37:18 InstallContribNbextensionsApp] Up to date: C:\\ProgramData\\jupyter\\nbextensions\\load_tex_macros\\load_tex_macros.yaml\n",
      "[I 15:37:18 InstallContribNbextensionsApp] Up to date: C:\\ProgramData\\jupyter\\nbextensions\\load_tex_macros\\main.js\n",
      "[I 15:37:18 InstallContribNbextensionsApp] Up to date: C:\\ProgramData\\jupyter\\nbextensions\\load_tex_macros\\readme.md\n",
      "[I 15:37:18 InstallContribNbextensionsApp] - Validating: ok\n",
      "[I 15:37:18 InstallContribNbextensionsApp] Installing C:\\Users\\BIT\\anaconda3\\envs\\data-env\\lib\\site-packages\\jupyter_contrib_nbextensions\\nbextensions\\move_selected_cells -> move_selected_cells\n",
      "[I 15:37:18 InstallContribNbextensionsApp] Up to date: C:\\ProgramData\\jupyter\\nbextensions\\move_selected_cells\\main.js\n",
      "[I 15:37:18 InstallContribNbextensionsApp] Up to date: C:\\ProgramData\\jupyter\\nbextensions\\move_selected_cells\\move_selected_cells.yaml\n",
      "[I 15:37:18 InstallContribNbextensionsApp] Up to date: C:\\ProgramData\\jupyter\\nbextensions\\move_selected_cells\\README.md\n",
      "[I 15:37:18 InstallContribNbextensionsApp] - Validating: ok\n",
      "[I 15:37:18 InstallContribNbextensionsApp] Installing C:\\Users\\BIT\\anaconda3\\envs\\data-env\\lib\\site-packages\\jupyter_contrib_nbextensions\\nbextensions\\navigation-hotkeys -> navigation-hotkeys\n",
      "[I 15:37:18 InstallContribNbextensionsApp] Up to date: C:\\ProgramData\\jupyter\\nbextensions\\navigation-hotkeys\\hotkeys.yaml\n",
      "[I 15:37:18 InstallContribNbextensionsApp] Up to date: C:\\ProgramData\\jupyter\\nbextensions\\navigation-hotkeys\\icon.png\n",
      "[I 15:37:18 InstallContribNbextensionsApp] Up to date: C:\\ProgramData\\jupyter\\nbextensions\\navigation-hotkeys\\main.js\n",
      "[I 15:37:18 InstallContribNbextensionsApp] Up to date: C:\\ProgramData\\jupyter\\nbextensions\\navigation-hotkeys\\readme.md\n",
      "[I 15:37:18 InstallContribNbextensionsApp] - Validating: ok\n",
      "[I 15:37:18 InstallContribNbextensionsApp] Installing C:\\Users\\BIT\\anaconda3\\envs\\data-env\\lib\\site-packages\\jupyter_contrib_nbextensions\\nbextensions\\nbTranslate -> nbTranslate\n",
      "[I 15:37:18 InstallContribNbextensionsApp] Up to date: C:\\ProgramData\\jupyter\\nbextensions\\nbTranslate\\demo1.gif\n",
      "[I 15:37:18 InstallContribNbextensionsApp] Up to date: C:\\ProgramData\\jupyter\\nbextensions\\nbTranslate\\demo2.gif\n",
      "[I 15:37:18 InstallContribNbextensionsApp] Up to date: C:\\ProgramData\\jupyter\\nbextensions\\nbTranslate\\languages.js\n",
      "[I 15:37:18 InstallContribNbextensionsApp] Up to date: C:\\ProgramData\\jupyter\\nbextensions\\nbTranslate\\main.js\n",
      "[I 15:37:18 InstallContribNbextensionsApp] Up to date: C:\\ProgramData\\jupyter\\nbextensions\\nbTranslate\\mutils.js\n",
      "[I 15:37:18 InstallContribNbextensionsApp] Up to date: C:\\ProgramData\\jupyter\\nbextensions\\nbTranslate\\nbTranslate.js\n",
      "[I 15:37:18 InstallContribNbextensionsApp] Up to date: C:\\ProgramData\\jupyter\\nbextensions\\nbTranslate\\nbTranslate.yaml\n",
      "[I 15:37:18 InstallContribNbextensionsApp] Up to date: C:\\ProgramData\\jupyter\\nbextensions\\nbTranslate\\README.md\n",
      "[I 15:37:18 InstallContribNbextensionsApp] - Validating: ok\n",
      "[I 15:37:18 InstallContribNbextensionsApp] Installing C:\\Users\\BIT\\anaconda3\\envs\\data-env\\lib\\site-packages\\jupyter_contrib_nbextensions\\nbextensions\\notify -> notify\n",
      "[I 15:37:18 InstallContribNbextensionsApp] Up to date: C:\\ProgramData\\jupyter\\nbextensions\\notify\\notification.png\n",
      "[I 15:37:18 InstallContribNbextensionsApp] Up to date: C:\\ProgramData\\jupyter\\nbextensions\\notify\\notify.js\n",
      "[I 15:37:18 InstallContribNbextensionsApp] Up to date: C:\\ProgramData\\jupyter\\nbextensions\\notify\\notify.mp3\n",
      "[I 15:37:18 InstallContribNbextensionsApp] Up to date: C:\\ProgramData\\jupyter\\nbextensions\\notify\\notify.yaml\n",
      "[I 15:37:18 InstallContribNbextensionsApp] Up to date: C:\\ProgramData\\jupyter\\nbextensions\\notify\\readme.md\n",
      "[I 15:37:18 InstallContribNbextensionsApp] - Validating: ok\n",
      "[I 15:37:18 InstallContribNbextensionsApp] Installing C:\\Users\\BIT\\anaconda3\\envs\\data-env\\lib\\site-packages\\jupyter_contrib_nbextensions\\nbextensions\\printview -> printview\n",
      "[I 15:37:18 InstallContribNbextensionsApp] Up to date: C:\\ProgramData\\jupyter\\nbextensions\\printview\\icon.png\n",
      "[I 15:37:18 InstallContribNbextensionsApp] Up to date: C:\\ProgramData\\jupyter\\nbextensions\\printview\\main.js\n",
      "[I 15:37:18 InstallContribNbextensionsApp] Up to date: C:\\ProgramData\\jupyter\\nbextensions\\printview\\printview-button.png\n",
      "[I 15:37:18 InstallContribNbextensionsApp] Up to date: C:\\ProgramData\\jupyter\\nbextensions\\printview\\printview.yaml\n",
      "[I 15:37:18 InstallContribNbextensionsApp] Up to date: C:\\ProgramData\\jupyter\\nbextensions\\printview\\readme.md\n",
      "[I 15:37:18 InstallContribNbextensionsApp] - Validating: ok\n",
      "[I 15:37:18 InstallContribNbextensionsApp] Installing C:\\Users\\BIT\\anaconda3\\envs\\data-env\\lib\\site-packages\\jupyter_contrib_nbextensions\\nbextensions\\python-markdown -> python-markdown\n",
      "[I 15:37:18 InstallContribNbextensionsApp] Up to date: C:\\ProgramData\\jupyter\\nbextensions\\python-markdown\\main.css\n",
      "[I 15:37:18 InstallContribNbextensionsApp] Up to date: C:\\ProgramData\\jupyter\\nbextensions\\python-markdown\\main.js\n",
      "[I 15:37:18 InstallContribNbextensionsApp] Up to date: C:\\ProgramData\\jupyter\\nbextensions\\python-markdown\\python-markdown-post.png\n",
      "[I 15:37:18 InstallContribNbextensionsApp] Up to date: C:\\ProgramData\\jupyter\\nbextensions\\python-markdown\\python-markdown-pre.png\n",
      "[I 15:37:18 InstallContribNbextensionsApp] Up to date: C:\\ProgramData\\jupyter\\nbextensions\\python-markdown\\python-markdown.png\n",
      "[I 15:37:18 InstallContribNbextensionsApp] Up to date: C:\\ProgramData\\jupyter\\nbextensions\\python-markdown\\python-markdown.yaml\n",
      "[I 15:37:18 InstallContribNbextensionsApp] Up to date: C:\\ProgramData\\jupyter\\nbextensions\\python-markdown\\readme.md\n",
      "[I 15:37:18 InstallContribNbextensionsApp] Up to date: C:\\ProgramData\\jupyter\\nbextensions\\python-markdown\\trusted.png\n",
      "[I 15:37:18 InstallContribNbextensionsApp] Up to date: C:\\ProgramData\\jupyter\\nbextensions\\python-markdown\\untrusted.png\n",
      "[I 15:37:18 InstallContribNbextensionsApp] - Validating: ok\n",
      "[I 15:37:18 InstallContribNbextensionsApp] Installing C:\\Users\\BIT\\anaconda3\\envs\\data-env\\lib\\site-packages\\jupyter_contrib_nbextensions\\nbextensions\\qtconsole -> qtconsole\n",
      "[I 15:37:18 InstallContribNbextensionsApp] Up to date: C:\\ProgramData\\jupyter\\nbextensions\\qtconsole\\qtconsole.js\n",
      "[I 15:37:18 InstallContribNbextensionsApp] Up to date: C:\\ProgramData\\jupyter\\nbextensions\\qtconsole\\qtconsole.yaml\n",
      "[I 15:37:18 InstallContribNbextensionsApp] Up to date: C:\\ProgramData\\jupyter\\nbextensions\\qtconsole\\README.md\n",
      "[I 15:37:18 InstallContribNbextensionsApp] - Validating: ok\n",
      "[I 15:37:18 InstallContribNbextensionsApp] Installing C:\\Users\\BIT\\anaconda3\\envs\\data-env\\lib\\site-packages\\jupyter_contrib_nbextensions\\nbextensions\\rubberband -> rubberband\n",
      "[I 15:37:18 InstallContribNbextensionsApp] Up to date: C:\\ProgramData\\jupyter\\nbextensions\\rubberband\\icon.png\n",
      "[I 15:37:18 InstallContribNbextensionsApp] Up to date: C:\\ProgramData\\jupyter\\nbextensions\\rubberband\\main.css\n",
      "[I 15:37:18 InstallContribNbextensionsApp] Up to date: C:\\ProgramData\\jupyter\\nbextensions\\rubberband\\main.js\n",
      "[I 15:37:18 InstallContribNbextensionsApp] Up to date: C:\\ProgramData\\jupyter\\nbextensions\\rubberband\\readme.md\n",
      "[I 15:37:18 InstallContribNbextensionsApp] Up to date: C:\\ProgramData\\jupyter\\nbextensions\\rubberband\\rubberband.yaml\n",
      "[I 15:37:18 InstallContribNbextensionsApp] - Validating: ok\n",
      "[I 15:37:18 InstallContribNbextensionsApp] Installing C:\\Users\\BIT\\anaconda3\\envs\\data-env\\lib\\site-packages\\jupyter_contrib_nbextensions\\nbextensions\\ruler -> ruler\n",
      "[I 15:37:18 InstallContribNbextensionsApp] Up to date: C:\\ProgramData\\jupyter\\nbextensions\\ruler\\edit.js\n",
      "[I 15:37:18 InstallContribNbextensionsApp] Up to date: C:\\ProgramData\\jupyter\\nbextensions\\ruler\\icon.png\n",
      "[I 15:37:18 InstallContribNbextensionsApp] Up to date: C:\\ProgramData\\jupyter\\nbextensions\\ruler\\main.js\n",
      "[I 15:37:18 InstallContribNbextensionsApp] Up to date: C:\\ProgramData\\jupyter\\nbextensions\\ruler\\readme.md\n",
      "[I 15:37:18 InstallContribNbextensionsApp] Up to date: C:\\ProgramData\\jupyter\\nbextensions\\ruler\\ruler.yaml\n",
      "[I 15:37:18 InstallContribNbextensionsApp] Up to date: C:\\ProgramData\\jupyter\\nbextensions\\ruler\\ruler_editor.yaml\n",
      "[I 15:37:18 InstallContribNbextensionsApp] - Validating: ok\n",
      "[I 15:37:18 InstallContribNbextensionsApp] Installing C:\\Users\\BIT\\anaconda3\\envs\\data-env\\lib\\site-packages\\jupyter_contrib_nbextensions\\nbextensions\\ruler -> ruler\n",
      "[I 15:37:18 InstallContribNbextensionsApp] Up to date: C:\\ProgramData\\jupyter\\nbextensions\\ruler\\edit.js\n",
      "[I 15:37:18 InstallContribNbextensionsApp] Up to date: C:\\ProgramData\\jupyter\\nbextensions\\ruler\\icon.png\n",
      "[I 15:37:18 InstallContribNbextensionsApp] Up to date: C:\\ProgramData\\jupyter\\nbextensions\\ruler\\main.js\n",
      "[I 15:37:18 InstallContribNbextensionsApp] Up to date: C:\\ProgramData\\jupyter\\nbextensions\\ruler\\readme.md\n",
      "[I 15:37:18 InstallContribNbextensionsApp] Up to date: C:\\ProgramData\\jupyter\\nbextensions\\ruler\\ruler.yaml\n",
      "[I 15:37:18 InstallContribNbextensionsApp] Up to date: C:\\ProgramData\\jupyter\\nbextensions\\ruler\\ruler_editor.yaml\n",
      "[I 15:37:18 InstallContribNbextensionsApp] - Validating: ok\n",
      "[I 15:37:18 InstallContribNbextensionsApp] Installing C:\\Users\\BIT\\anaconda3\\envs\\data-env\\lib\\site-packages\\jupyter_contrib_nbextensions\\nbextensions\\runtools -> runtools\n",
      "[I 15:37:18 InstallContribNbextensionsApp] Up to date: C:\\ProgramData\\jupyter\\nbextensions\\runtools\\annotations.odg\n",
      "[I 15:37:18 InstallContribNbextensionsApp] Up to date: C:\\ProgramData\\jupyter\\nbextensions\\runtools\\cellstate.js\n",
      "[I 15:37:18 InstallContribNbextensionsApp] Up to date: C:\\ProgramData\\jupyter\\nbextensions\\runtools\\demo.gif\n",
      "[I 15:37:18 InstallContribNbextensionsApp] Up to date: C:\\ProgramData\\jupyter\\nbextensions\\runtools\\gutter.css\n",
      "[I 15:37:18 InstallContribNbextensionsApp] Up to date: C:\\ProgramData\\jupyter\\nbextensions\\runtools\\icon.png\n",
      "[I 15:37:18 InstallContribNbextensionsApp] Up to date: C:\\ProgramData\\jupyter\\nbextensions\\runtools\\main.css\n",
      "[I 15:37:18 InstallContribNbextensionsApp] Up to date: C:\\ProgramData\\jupyter\\nbextensions\\runtools\\main.js\n",
      "[I 15:37:18 InstallContribNbextensionsApp] Up to date: C:\\ProgramData\\jupyter\\nbextensions\\runtools\\readme.md\n",
      "[I 15:37:18 InstallContribNbextensionsApp] Up to date: C:\\ProgramData\\jupyter\\nbextensions\\runtools\\runtools.yaml\n",
      "[I 15:37:18 InstallContribNbextensionsApp] Up to date: C:\\ProgramData\\jupyter\\nbextensions\\runtools\\runtools_execute.png\n",
      "[I 15:37:18 InstallContribNbextensionsApp] Up to date: C:\\ProgramData\\jupyter\\nbextensions\\runtools\\runtools_lock.png\n",
      "[I 15:37:18 InstallContribNbextensionsApp] Up to date: C:\\ProgramData\\jupyter\\nbextensions\\runtools\\runtools_marker.png\n",
      "[I 15:37:18 InstallContribNbextensionsApp] Up to date: C:\\ProgramData\\jupyter\\nbextensions\\runtools\\runtools_nb.png\n",
      "[I 15:37:18 InstallContribNbextensionsApp] Up to date: C:\\ProgramData\\jupyter\\nbextensions\\runtools\\runtools_show_hide.png\n",
      "[I 15:37:18 InstallContribNbextensionsApp] - Validating: ok\n",
      "[I 15:37:18 InstallContribNbextensionsApp] Installing C:\\Users\\BIT\\anaconda3\\envs\\data-env\\lib\\site-packages\\jupyter_contrib_nbextensions\\nbextensions\\scratchpad -> scratchpad\n",
      "[I 15:37:18 InstallContribNbextensionsApp] Up to date: C:\\ProgramData\\jupyter\\nbextensions\\scratchpad\\demo.gif\n",
      "[I 15:37:18 InstallContribNbextensionsApp] Up to date: C:\\ProgramData\\jupyter\\nbextensions\\scratchpad\\LICENSE\n",
      "[I 15:37:18 InstallContribNbextensionsApp] Up to date: C:\\ProgramData\\jupyter\\nbextensions\\scratchpad\\main.js\n",
      "[I 15:37:18 InstallContribNbextensionsApp] Up to date: C:\\ProgramData\\jupyter\\nbextensions\\scratchpad\\README.md\n",
      "[I 15:37:18 InstallContribNbextensionsApp] Up to date: C:\\ProgramData\\jupyter\\nbextensions\\scratchpad\\scratchpad.css\n",
      "[I 15:37:18 InstallContribNbextensionsApp] Up to date: C:\\ProgramData\\jupyter\\nbextensions\\scratchpad\\scratchpad.yaml\n",
      "[I 15:37:18 InstallContribNbextensionsApp] - Validating: ok\n",
      "[I 15:37:18 InstallContribNbextensionsApp] Installing C:\\Users\\BIT\\anaconda3\\envs\\data-env\\lib\\site-packages\\jupyter_contrib_nbextensions\\nbextensions\\scroll_down -> scroll_down\n",
      "[I 15:37:18 InstallContribNbextensionsApp] Up to date: C:\\ProgramData\\jupyter\\nbextensions\\scroll_down\\config.yaml\n",
      "[I 15:37:18 InstallContribNbextensionsApp] Up to date: C:\\ProgramData\\jupyter\\nbextensions\\scroll_down\\icon.png\n",
      "[I 15:37:18 InstallContribNbextensionsApp] Up to date: C:\\ProgramData\\jupyter\\nbextensions\\scroll_down\\main.js\n",
      "[I 15:37:18 InstallContribNbextensionsApp] Up to date: C:\\ProgramData\\jupyter\\nbextensions\\scroll_down\\readme.md\n",
      "[I 15:37:18 InstallContribNbextensionsApp] - Validating: ok\n",
      "[I 15:37:18 InstallContribNbextensionsApp] Installing C:\\Users\\BIT\\anaconda3\\envs\\data-env\\lib\\site-packages\\jupyter_contrib_nbextensions\\nbextensions\\select_keymap -> select_keymap\n",
      "[I 15:37:18 InstallContribNbextensionsApp] Up to date: C:\\ProgramData\\jupyter\\nbextensions\\select_keymap\\main.js\n",
      "[I 15:37:18 InstallContribNbextensionsApp] Up to date: C:\\ProgramData\\jupyter\\nbextensions\\select_keymap\\README.md\n",
      "[I 15:37:18 InstallContribNbextensionsApp] Up to date: C:\\ProgramData\\jupyter\\nbextensions\\select_keymap\\select_keymap.png\n",
      "[I 15:37:18 InstallContribNbextensionsApp] Up to date: C:\\ProgramData\\jupyter\\nbextensions\\select_keymap\\select_keymap.yaml\n",
      "[I 15:37:18 InstallContribNbextensionsApp] - Validating: ok\n",
      "[I 15:37:18 InstallContribNbextensionsApp] Installing C:\\Users\\BIT\\anaconda3\\envs\\data-env\\lib\\site-packages\\jupyter_contrib_nbextensions\\nbextensions\\skill -> skill\n",
      "[I 15:37:18 InstallContribNbextensionsApp] Up to date: C:\\ProgramData\\jupyter\\nbextensions\\skill\\main.js\n",
      "[I 15:37:18 InstallContribNbextensionsApp] Up to date: C:\\ProgramData\\jupyter\\nbextensions\\skill\\README.md\n",
      "[I 15:37:18 InstallContribNbextensionsApp] Up to date: C:\\ProgramData\\jupyter\\nbextensions\\skill\\skill.js\n",
      "[I 15:37:18 InstallContribNbextensionsApp] Up to date: C:\\ProgramData\\jupyter\\nbextensions\\skill\\skill.yaml\n",
      "[I 15:37:18 InstallContribNbextensionsApp] - Validating: ok\n",
      "[I 15:37:18 InstallContribNbextensionsApp] Installing C:\\Users\\BIT\\anaconda3\\envs\\data-env\\lib\\site-packages\\jupyter_contrib_nbextensions\\nbextensions\\skip-traceback -> skip-traceback\n",
      "[I 15:37:18 InstallContribNbextensionsApp] Up to date: C:\\ProgramData\\jupyter\\nbextensions\\skip-traceback\\icon.png\n",
      "[I 15:37:18 InstallContribNbextensionsApp] Up to date: C:\\ProgramData\\jupyter\\nbextensions\\skip-traceback\\main.js\n",
      "[I 15:37:18 InstallContribNbextensionsApp] Up to date: C:\\ProgramData\\jupyter\\nbextensions\\skip-traceback\\readme.md\n",
      "[I 15:37:18 InstallContribNbextensionsApp] Up to date: C:\\ProgramData\\jupyter\\nbextensions\\skip-traceback\\skip-traceback.png\n",
      "[I 15:37:18 InstallContribNbextensionsApp] Up to date: C:\\ProgramData\\jupyter\\nbextensions\\skip-traceback\\skip-traceback.yaml\n",
      "[I 15:37:18 InstallContribNbextensionsApp] Up to date: C:\\ProgramData\\jupyter\\nbextensions\\skip-traceback\\traceback.png\n",
      "[I 15:37:18 InstallContribNbextensionsApp] - Validating: ok\n",
      "[I 15:37:18 InstallContribNbextensionsApp] Installing C:\\Users\\BIT\\anaconda3\\envs\\data-env\\lib\\site-packages\\jupyter_contrib_nbextensions\\nbextensions\\snippets -> snippets\n",
      "[I 15:37:18 InstallContribNbextensionsApp] Up to date: C:\\ProgramData\\jupyter\\nbextensions\\snippets\\main.js\n",
      "[I 15:37:18 InstallContribNbextensionsApp] Up to date: C:\\ProgramData\\jupyter\\nbextensions\\snippets\\README.md\n",
      "[I 15:37:18 InstallContribNbextensionsApp] Up to date: C:\\ProgramData\\jupyter\\nbextensions\\snippets\\snippets-demo.gif\n",
      "[I 15:37:18 InstallContribNbextensionsApp] Up to date: C:\\ProgramData\\jupyter\\nbextensions\\snippets\\snippets.json\n",
      "[I 15:37:18 InstallContribNbextensionsApp] Up to date: C:\\ProgramData\\jupyter\\nbextensions\\snippets\\snippets.yaml\n",
      "[I 15:37:18 InstallContribNbextensionsApp] - Validating: ok\n",
      "[I 15:37:18 InstallContribNbextensionsApp] Installing C:\\Users\\BIT\\anaconda3\\envs\\data-env\\lib\\site-packages\\jupyter_contrib_nbextensions\\nbextensions\\snippets_menu -> snippets_menu\n",
      "[I 15:37:18 InstallContribNbextensionsApp] Up to date: C:\\ProgramData\\jupyter\\nbextensions\\snippets_menu\\config.yaml\n",
      "[I 15:37:18 InstallContribNbextensionsApp] Up to date: C:\\ProgramData\\jupyter\\nbextensions\\snippets_menu\\examples_for_custom.js\n",
      "[I 15:37:18 InstallContribNbextensionsApp] Up to date: C:\\ProgramData\\jupyter\\nbextensions\\snippets_menu\\main.js\n",
      "[I 15:37:18 InstallContribNbextensionsApp] Up to date: C:\\ProgramData\\jupyter\\nbextensions\\snippets_menu\\readme.md\n",
      "[I 15:37:18 InstallContribNbextensionsApp] Up to date: C:\\ProgramData\\jupyter\\nbextensions\\snippets_menu\\screenshot1.png\n",
      "[I 15:37:18 InstallContribNbextensionsApp] Up to date: C:\\ProgramData\\jupyter\\nbextensions\\snippets_menu\\screenshot2.png\n",
      "[I 15:37:18 InstallContribNbextensionsApp] Up to date: C:\\ProgramData\\jupyter\\nbextensions\\snippets_menu\\screenshot3.png\n",
      "[I 15:37:18 InstallContribNbextensionsApp] Up to date: C:\\ProgramData\\jupyter\\nbextensions\\snippets_menu\\snippets_menu.css\n",
      "[I 15:37:18 InstallContribNbextensionsApp] Up to date: C:\\ProgramData\\jupyter\\nbextensions\\snippets_menu\\snippets_submenu_markdown.js\n",
      "[I 15:37:18 InstallContribNbextensionsApp] Up to date: C:\\ProgramData\\jupyter\\nbextensions\\snippets_menu\\snippets_submenu_python.js\n",
      "[I 15:37:18 InstallContribNbextensionsApp] Up to date: C:\\ProgramData\\jupyter\\nbextensions\\snippets_menu\\thumbnail.png\n",
      "[I 15:37:18 InstallContribNbextensionsApp] Up to date: C:\\ProgramData\\jupyter\\nbextensions\\snippets_menu\\snippets_submenus_python\\astropy.js\n",
      "[I 15:37:18 InstallContribNbextensionsApp] Up to date: C:\\ProgramData\\jupyter\\nbextensions\\snippets_menu\\snippets_submenus_python\\h5py.js\n",
      "[I 15:37:18 InstallContribNbextensionsApp] Up to date: C:\\ProgramData\\jupyter\\nbextensions\\snippets_menu\\snippets_submenus_python\\matplotlib.js\n",
      "[I 15:37:18 InstallContribNbextensionsApp] Up to date: C:\\ProgramData\\jupyter\\nbextensions\\snippets_menu\\snippets_submenus_python\\numba.js\n",
      "[I 15:37:18 InstallContribNbextensionsApp] Up to date: C:\\ProgramData\\jupyter\\nbextensions\\snippets_menu\\snippets_submenus_python\\numpy.js\n",
      "[I 15:37:18 InstallContribNbextensionsApp] Up to date: C:\\ProgramData\\jupyter\\nbextensions\\snippets_menu\\snippets_submenus_python\\numpy_polynomial.js\n",
      "[I 15:37:18 InstallContribNbextensionsApp] Up to date: C:\\ProgramData\\jupyter\\nbextensions\\snippets_menu\\snippets_submenus_python\\numpy_ufuncs.js\n",
      "[I 15:37:18 InstallContribNbextensionsApp] Up to date: C:\\ProgramData\\jupyter\\nbextensions\\snippets_menu\\snippets_submenus_python\\pandas.js\n",
      "[I 15:37:18 InstallContribNbextensionsApp] Up to date: C:\\ProgramData\\jupyter\\nbextensions\\snippets_menu\\snippets_submenus_python\\python.js\n",
      "[I 15:37:18 InstallContribNbextensionsApp] Up to date: C:\\ProgramData\\jupyter\\nbextensions\\snippets_menu\\snippets_submenus_python\\python_regex.js\n",
      "[I 15:37:18 InstallContribNbextensionsApp] Up to date: C:\\ProgramData\\jupyter\\nbextensions\\snippets_menu\\snippets_submenus_python\\scipy.js\n",
      "[I 15:37:18 InstallContribNbextensionsApp] Up to date: C:\\ProgramData\\jupyter\\nbextensions\\snippets_menu\\snippets_submenus_python\\scipy_constants.js\n",
      "[I 15:37:18 InstallContribNbextensionsApp] Up to date: C:\\ProgramData\\jupyter\\nbextensions\\snippets_menu\\snippets_submenus_python\\scipy_special.js\n",
      "[I 15:37:18 InstallContribNbextensionsApp] Up to date: C:\\ProgramData\\jupyter\\nbextensions\\snippets_menu\\snippets_submenus_python\\sympy.js\n",
      "[I 15:37:18 InstallContribNbextensionsApp] Up to date: C:\\ProgramData\\jupyter\\nbextensions\\snippets_menu\\snippets_submenus_python\\sympy_assumptions.js\n",
      "[I 15:37:18 InstallContribNbextensionsApp] Up to date: C:\\ProgramData\\jupyter\\nbextensions\\snippets_menu\\snippets_submenus_python\\sympy_functions.js\n",
      "[I 15:37:18 InstallContribNbextensionsApp] - Validating: ok\n",
      "[I 15:37:18 InstallContribNbextensionsApp] Installing C:\\Users\\BIT\\anaconda3\\envs\\data-env\\lib\\site-packages\\jupyter_contrib_nbextensions\\nbextensions\\spellchecker -> spellchecker\n",
      "[I 15:37:18 InstallContribNbextensionsApp] Up to date: C:\\ProgramData\\jupyter\\nbextensions\\spellchecker\\config.yaml\n",
      "[I 15:37:18 InstallContribNbextensionsApp] Up to date: C:\\ProgramData\\jupyter\\nbextensions\\spellchecker\\download_new_dict.py\n",
      "[I 15:37:18 InstallContribNbextensionsApp] Up to date: C:\\ProgramData\\jupyter\\nbextensions\\spellchecker\\main.css\n",
      "[I 15:37:18 InstallContribNbextensionsApp] Up to date: C:\\ProgramData\\jupyter\\nbextensions\\spellchecker\\main.js\n",
      "[I 15:37:18 InstallContribNbextensionsApp] Up to date: C:\\ProgramData\\jupyter\\nbextensions\\spellchecker\\README.md\n",
      "[I 15:37:18 InstallContribNbextensionsApp] Up to date: C:\\ProgramData\\jupyter\\nbextensions\\spellchecker\\screenshot.png\n",
      "[I 15:37:18 InstallContribNbextensionsApp] Up to date: C:\\ProgramData\\jupyter\\nbextensions\\spellchecker\\typo\\LICENSE.txt\n",
      "[I 15:37:18 InstallContribNbextensionsApp] Up to date: C:\\ProgramData\\jupyter\\nbextensions\\spellchecker\\typo\\typo.js\n",
      "[I 15:37:18 InstallContribNbextensionsApp] Up to date: C:\\ProgramData\\jupyter\\nbextensions\\spellchecker\\__pycache__\\download_new_dict.cpython-38.pyc\n",
      "[I 15:37:18 InstallContribNbextensionsApp] - Validating: ok\n",
      "[I 15:37:18 InstallContribNbextensionsApp] Installing C:\\Users\\BIT\\anaconda3\\envs\\data-env\\lib\\site-packages\\jupyter_contrib_nbextensions\\nbextensions\\splitcell -> splitcell\n",
      "[I 15:37:18 InstallContribNbextensionsApp] Up to date: C:\\ProgramData\\jupyter\\nbextensions\\splitcell\\icon.png\n",
      "[I 15:37:18 InstallContribNbextensionsApp] Up to date: C:\\ProgramData\\jupyter\\nbextensions\\splitcell\\readme.md\n",
      "[I 15:37:18 InstallContribNbextensionsApp] Up to date: C:\\ProgramData\\jupyter\\nbextensions\\splitcell\\splitcell.js\n",
      "[I 15:37:18 InstallContribNbextensionsApp] Up to date: C:\\ProgramData\\jupyter\\nbextensions\\splitcell\\splitcell.yaml\n",
      "[I 15:37:18 InstallContribNbextensionsApp] - Validating: ok\n",
      "[I 15:37:18 InstallContribNbextensionsApp] Installing C:\\Users\\BIT\\anaconda3\\envs\\data-env\\lib\\site-packages\\jupyter_contrib_nbextensions\\nbextensions\\table_beautifier -> table_beautifier\n",
      "[I 15:37:18 InstallContribNbextensionsApp] Up to date: C:\\ProgramData\\jupyter\\nbextensions\\table_beautifier\\main.css\n",
      "[I 15:37:18 InstallContribNbextensionsApp] Up to date: C:\\ProgramData\\jupyter\\nbextensions\\table_beautifier\\main.js\n",
      "[I 15:37:18 InstallContribNbextensionsApp] Up to date: C:\\ProgramData\\jupyter\\nbextensions\\table_beautifier\\README.md\n",
      "[I 15:37:18 InstallContribNbextensionsApp] Up to date: C:\\ProgramData\\jupyter\\nbextensions\\table_beautifier\\table_beautifier.yaml\n",
      "[I 15:37:18 InstallContribNbextensionsApp] - Validating: ok\n",
      "[I 15:37:18 InstallContribNbextensionsApp] Installing C:\\Users\\BIT\\anaconda3\\envs\\data-env\\lib\\site-packages\\jupyter_contrib_nbextensions\\nbextensions\\toc2 -> toc2\n",
      "[I 15:37:18 InstallContribNbextensionsApp] Up to date: C:\\ProgramData\\jupyter\\nbextensions\\toc2\\demo.gif\n",
      "[I 15:37:18 InstallContribNbextensionsApp] Up to date: C:\\ProgramData\\jupyter\\nbextensions\\toc2\\demo2.gif\n",
      "[I 15:37:18 InstallContribNbextensionsApp] Up to date: C:\\ProgramData\\jupyter\\nbextensions\\toc2\\demo3.gif\n",
      "[I 15:37:18 InstallContribNbextensionsApp] Up to date: C:\\ProgramData\\jupyter\\nbextensions\\toc2\\demo_dark.png\n",
      "[I 15:37:18 InstallContribNbextensionsApp] Up to date: C:\\ProgramData\\jupyter\\nbextensions\\toc2\\icon.png\n",
      "[I 15:37:18 InstallContribNbextensionsApp] Up to date: C:\\ProgramData\\jupyter\\nbextensions\\toc2\\image.png\n",
      "[I 15:37:18 InstallContribNbextensionsApp] Up to date: C:\\ProgramData\\jupyter\\nbextensions\\toc2\\main.css\n",
      "[I 15:37:18 InstallContribNbextensionsApp] Up to date: C:\\ProgramData\\jupyter\\nbextensions\\toc2\\main.js\n",
      "[I 15:37:18 InstallContribNbextensionsApp] Up to date: C:\\ProgramData\\jupyter\\nbextensions\\toc2\\README.md\n",
      "[I 15:37:18 InstallContribNbextensionsApp] Up to date: C:\\ProgramData\\jupyter\\nbextensions\\toc2\\toc2.js\n",
      "[I 15:37:18 InstallContribNbextensionsApp] Up to date: C:\\ProgramData\\jupyter\\nbextensions\\toc2\\toc2.yaml\n",
      "[I 15:37:18 InstallContribNbextensionsApp] - Validating: ok\n",
      "[I 15:37:18 InstallContribNbextensionsApp] Installing C:\\Users\\BIT\\anaconda3\\envs\\data-env\\lib\\site-packages\\jupyter_contrib_nbextensions\\nbextensions\\toggle_all_line_numbers -> toggle_all_line_numbers\n",
      "[I 15:37:18 InstallContribNbextensionsApp] Up to date: C:\\ProgramData\\jupyter\\nbextensions\\toggle_all_line_numbers\\icon.png\n",
      "[I 15:37:18 InstallContribNbextensionsApp] Up to date: C:\\ProgramData\\jupyter\\nbextensions\\toggle_all_line_numbers\\main.js\n",
      "[I 15:37:18 InstallContribNbextensionsApp] Up to date: C:\\ProgramData\\jupyter\\nbextensions\\toggle_all_line_numbers\\main.yaml\n",
      "[I 15:37:18 InstallContribNbextensionsApp] Up to date: C:\\ProgramData\\jupyter\\nbextensions\\toggle_all_line_numbers\\readme.md\n",
      "[I 15:37:18 InstallContribNbextensionsApp] - Validating: ok\n",
      "[I 15:37:18 InstallContribNbextensionsApp] Installing C:\\Users\\BIT\\anaconda3\\envs\\data-env\\lib\\site-packages\\jupyter_contrib_nbextensions\\nbextensions\\tree-filter -> tree-filter\n",
      "[I 15:37:18 InstallContribNbextensionsApp] Up to date: C:\\ProgramData\\jupyter\\nbextensions\\tree-filter\\demo.gif\n",
      "[I 15:37:18 InstallContribNbextensionsApp] Up to date: C:\\ProgramData\\jupyter\\nbextensions\\tree-filter\\index.js\n",
      "[I 15:37:18 InstallContribNbextensionsApp] Up to date: C:\\ProgramData\\jupyter\\nbextensions\\tree-filter\\readme.md\n",
      "[I 15:37:18 InstallContribNbextensionsApp] Up to date: C:\\ProgramData\\jupyter\\nbextensions\\tree-filter\\tree-filter.yaml\n",
      "[I 15:37:18 InstallContribNbextensionsApp] - Validating: ok\n",
      "[I 15:37:18 InstallContribNbextensionsApp] Installing C:\\Users\\BIT\\anaconda3\\envs\\data-env\\lib\\site-packages\\jupyter_contrib_nbextensions\\nbextensions\\varInspector -> varInspector\n",
      "[I 15:37:18 InstallContribNbextensionsApp] Up to date: C:\\ProgramData\\jupyter\\nbextensions\\varInspector\\demo.gif\n",
      "[I 15:37:18 InstallContribNbextensionsApp] Up to date: C:\\ProgramData\\jupyter\\nbextensions\\varInspector\\icon.png\n",
      "[I 15:37:18 InstallContribNbextensionsApp] Up to date: C:\\ProgramData\\jupyter\\nbextensions\\varInspector\\jquery.tablesorter.min.js\n",
      "[I 15:37:18 InstallContribNbextensionsApp] Up to date: C:\\ProgramData\\jupyter\\nbextensions\\varInspector\\main.css\n",
      "[I 15:37:18 InstallContribNbextensionsApp] Up to date: C:\\ProgramData\\jupyter\\nbextensions\\varInspector\\main.js\n",
      "[I 15:37:18 InstallContribNbextensionsApp] Up to date: C:\\ProgramData\\jupyter\\nbextensions\\varInspector\\README.md\n",
      "[I 15:37:18 InstallContribNbextensionsApp] Up to date: C:\\ProgramData\\jupyter\\nbextensions\\varInspector\\tablesorter_LICENSE.txt\n",
      "[I 15:37:18 InstallContribNbextensionsApp] Up to date: C:\\ProgramData\\jupyter\\nbextensions\\varInspector\\varInspector.yaml\n",
      "[I 15:37:18 InstallContribNbextensionsApp] Up to date: C:\\ProgramData\\jupyter\\nbextensions\\varInspector\\var_list.py\n",
      "[I 15:37:18 InstallContribNbextensionsApp] Up to date: C:\\ProgramData\\jupyter\\nbextensions\\varInspector\\var_list.r\n",
      "[I 15:37:18 InstallContribNbextensionsApp] Up to date: C:\\ProgramData\\jupyter\\nbextensions\\varInspector\\__pycache__\\var_list.cpython-38.pyc\n",
      "[I 15:37:18 InstallContribNbextensionsApp] - Validating: ok\n",
      "[I 15:37:18 InstallContribNbextensionsApp] Installing C:\\Users\\BIT\\anaconda3\\envs\\data-env\\lib\\site-packages\\jupyter_contrib_nbextensions\\nbextensions\\zenmode -> zenmode\n",
      "[I 15:37:18 InstallContribNbextensionsApp] Up to date: C:\\ProgramData\\jupyter\\nbextensions\\zenmode\\main.css\n",
      "[I 15:37:18 InstallContribNbextensionsApp] Up to date: C:\\ProgramData\\jupyter\\nbextensions\\zenmode\\main.js\n",
      "[I 15:37:18 InstallContribNbextensionsApp] Up to date: C:\\ProgramData\\jupyter\\nbextensions\\zenmode\\README.md\n",
      "[I 15:37:18 InstallContribNbextensionsApp] Up to date: C:\\ProgramData\\jupyter\\nbextensions\\zenmode\\zenmode.yaml\n",
      "[I 15:37:18 InstallContribNbextensionsApp] Up to date: C:\\ProgramData\\jupyter\\nbextensions\\zenmode\\images\\back1.jpg\n",
      "[I 15:37:18 InstallContribNbextensionsApp] Up to date: C:\\ProgramData\\jupyter\\nbextensions\\zenmode\\images\\back11.jpg\n",
      "[I 15:37:18 InstallContribNbextensionsApp] Up to date: C:\\ProgramData\\jupyter\\nbextensions\\zenmode\\images\\back12.jpg\n",
      "[I 15:37:18 InstallContribNbextensionsApp] Up to date: C:\\ProgramData\\jupyter\\nbextensions\\zenmode\\images\\back2.jpg\n",
      "[I 15:37:18 InstallContribNbextensionsApp] Up to date: C:\\ProgramData\\jupyter\\nbextensions\\zenmode\\images\\back21.jpg\n",
      "[I 15:37:18 InstallContribNbextensionsApp] Up to date: C:\\ProgramData\\jupyter\\nbextensions\\zenmode\\images\\back22.jpg\n",
      "[I 15:37:18 InstallContribNbextensionsApp] Up to date: C:\\ProgramData\\jupyter\\nbextensions\\zenmode\\images\\back3.jpg\n",
      "[I 15:37:18 InstallContribNbextensionsApp] Up to date: C:\\ProgramData\\jupyter\\nbextensions\\zenmode\\images\\ipynblogo0.png\n",
      "[I 15:37:18 InstallContribNbextensionsApp] Up to date: C:\\ProgramData\\jupyter\\nbextensions\\zenmode\\images\\ipynblogo1.png\n",
      "[I 15:37:18 InstallContribNbextensionsApp] - Validating: ok\n",
      "[I 15:37:18 InstallContribNbextensionsApp] Installing C:\\Users\\BIT\\anaconda3\\envs\\data-env\\lib\\site-packages\\jupyter_highlight_selected_word\\static\\highlight_selected_word -> highlight_selected_word\n",
      "[I 15:37:18 InstallContribNbextensionsApp] Up to date: C:\\ProgramData\\jupyter\\nbextensions\\highlight_selected_word\\configurator.yaml\n",
      "[I 15:37:18 InstallContribNbextensionsApp] Up to date: C:\\ProgramData\\jupyter\\nbextensions\\highlight_selected_word\\main.js\n",
      "[I 15:37:18 InstallContribNbextensionsApp] Up to date: C:\\ProgramData\\jupyter\\nbextensions\\highlight_selected_word\\README.md\n",
      "[I 15:37:18 InstallContribNbextensionsApp] - Validating: ok\n",
      "[I 15:37:18 InstallContribNbextensionsApp] Installing C:\\Users\\BIT\\anaconda3\\envs\\data-env\\lib\\site-packages\\latex_envs\\static -> latex_envs\n",
      "[I 15:37:18 InstallContribNbextensionsApp] Up to date: C:\\ProgramData\\jupyter\\nbextensions\\latex_envs\\bibInNb4.js\n",
      "[I 15:37:18 InstallContribNbextensionsApp] Up to date: C:\\ProgramData\\jupyter\\nbextensions\\latex_envs\\bibtex2.js\n",
      "[I 15:37:18 InstallContribNbextensionsApp] Up to date: C:\\ProgramData\\jupyter\\nbextensions\\latex_envs\\configuration_toolbar.png\n",
      "[I 15:37:18 InstallContribNbextensionsApp] Up to date: C:\\ProgramData\\jupyter\\nbextensions\\latex_envs\\envsLatex.js\n",
      "[I 15:37:18 InstallContribNbextensionsApp] Up to date: C:\\ProgramData\\jupyter\\nbextensions\\latex_envs\\envsLatex.json\n",
      "[I 15:37:18 InstallContribNbextensionsApp] Up to date: C:\\ProgramData\\jupyter\\nbextensions\\latex_envs\\example.png\n",
      "[I 15:37:18 InstallContribNbextensionsApp] Up to date: C:\\ProgramData\\jupyter\\nbextensions\\latex_envs\\example_user_envs.json\n",
      "[I 15:37:18 InstallContribNbextensionsApp] Up to date: C:\\ProgramData\\jupyter\\nbextensions\\latex_envs\\icon.png\n",
      "[I 15:37:18 InstallContribNbextensionsApp] Up to date: C:\\ProgramData\\jupyter\\nbextensions\\latex_envs\\initNb.js\n",
      "[I 15:37:18 InstallContribNbextensionsApp] Up to date: C:\\ProgramData\\jupyter\\nbextensions\\latex_envs\\latex_envs.css\n",
      "[I 15:37:18 InstallContribNbextensionsApp] Up to date: C:\\ProgramData\\jupyter\\nbextensions\\latex_envs\\latex_envs.js\n",
      "[I 15:37:18 InstallContribNbextensionsApp] Up to date: C:\\ProgramData\\jupyter\\nbextensions\\latex_envs\\latex_envs.yaml\n",
      "[I 15:37:18 InstallContribNbextensionsApp] Up to date: C:\\ProgramData\\jupyter\\nbextensions\\latex_envs\\main_toolbar.png\n",
      "[I 15:37:18 InstallContribNbextensionsApp] Up to date: C:\\ProgramData\\jupyter\\nbextensions\\latex_envs\\README.md\n",
      "[I 15:37:18 InstallContribNbextensionsApp] Up to date: C:\\ProgramData\\jupyter\\nbextensions\\latex_envs\\thmsInNb4.js\n",
      "[I 15:37:18 InstallContribNbextensionsApp] Up to date: C:\\ProgramData\\jupyter\\nbextensions\\latex_envs\\doc\\biblio_ipython.bib\n",
      "[I 15:37:18 InstallContribNbextensionsApp] Up to date: C:\\ProgramData\\jupyter\\nbextensions\\latex_envs\\doc\\configuration_toolbar.png\n",
      "[I 15:37:18 InstallContribNbextensionsApp] Up to date: C:\\ProgramData\\jupyter\\nbextensions\\latex_envs\\doc\\config_toolbar.png\n",
      "[I 15:37:18 InstallContribNbextensionsApp] Up to date: C:\\ProgramData\\jupyter\\nbextensions\\latex_envs\\doc\\documentation.pdf\n",
      "[I 15:37:18 InstallContribNbextensionsApp] Up to date: C:\\ProgramData\\jupyter\\nbextensions\\latex_envs\\doc\\documentation.tex\n",
      "[I 15:37:18 InstallContribNbextensionsApp] Up to date: C:\\ProgramData\\jupyter\\nbextensions\\latex_envs\\doc\\example.png\n",
      "[I 15:37:18 InstallContribNbextensionsApp] Up to date: C:\\ProgramData\\jupyter\\nbextensions\\latex_envs\\doc\\header.tex\n",
      "[I 15:37:18 InstallContribNbextensionsApp] Up to date: C:\\ProgramData\\jupyter\\nbextensions\\latex_envs\\doc\\IEEEtran.bst\n",
      "[I 15:37:18 InstallContribNbextensionsApp] Up to date: C:\\ProgramData\\jupyter\\nbextensions\\latex_envs\\doc\\LaTeX_envs_menu.png\n",
      "[I 15:37:18 InstallContribNbextensionsApp] Up to date: C:\\ProgramData\\jupyter\\nbextensions\\latex_envs\\doc\\latex_env_doc.html\n",
      "[I 15:37:18 InstallContribNbextensionsApp] Up to date: C:\\ProgramData\\jupyter\\nbextensions\\latex_envs\\doc\\latex_env_doc.ipynb\n",
      "[I 15:37:18 InstallContribNbextensionsApp] Up to date: C:\\ProgramData\\jupyter\\nbextensions\\latex_envs\\doc\\latex_env_doc.tex\n",
      "[I 15:37:18 InstallContribNbextensionsApp] Up to date: C:\\ProgramData\\jupyter\\nbextensions\\latex_envs\\doc\\main_toolbar.png\n",
      "[I 15:37:18 InstallContribNbextensionsApp] Up to date: C:\\ProgramData\\jupyter\\nbextensions\\latex_envs\\doc\\README.md\n",
      "[I 15:37:18 InstallContribNbextensionsApp] Up to date: C:\\ProgramData\\jupyter\\nbextensions\\latex_envs\\doc\\Toggles.png\n",
      "[I 15:37:18 InstallContribNbextensionsApp] Up to date: C:\\ProgramData\\jupyter\\nbextensions\\latex_envs\\doc\\.ipynb_checkpoints\\latex_env_doc-checkpoint.ipynb\n",
      "[I 15:37:18 InstallContribNbextensionsApp] Up to date: C:\\ProgramData\\jupyter\\nbextensions\\latex_envs\\doc\\latex_env_doc_files\\latex_env_doc_23_2.png\n",
      "[I 15:37:18 InstallContribNbextensionsApp] Up to date: C:\\ProgramData\\jupyter\\nbextensions\\latex_envs\\doc\\latex_env_doc_files\\latex_env_doc_24_2.png\n",
      "[I 15:37:18 InstallContribNbextensionsApp] Up to date: C:\\ProgramData\\jupyter\\nbextensions\\latex_envs\\doc\\latex_env_doc_files\\latex_env_doc_26_2.png\n",
      "[I 15:37:18 InstallContribNbextensionsApp] Up to date: C:\\ProgramData\\jupyter\\nbextensions\\latex_envs\\doc\\latex_env_doc_files\\latex_env_doc_27_2.png\n",
      "[I 15:37:18 InstallContribNbextensionsApp] Up to date: C:\\ProgramData\\jupyter\\nbextensions\\latex_envs\\doc\\latex_env_doc_files\\latex_env_doc_41_0.png\n",
      "[I 15:37:18 InstallContribNbextensionsApp] Up to date: C:\\ProgramData\\jupyter\\nbextensions\\latex_envs\\doc\\latex_env_doc_files\\latex_env_doc_42_0.png\n",
      "[I 15:37:18 InstallContribNbextensionsApp] Up to date: C:\\ProgramData\\jupyter\\nbextensions\\latex_envs\\doc\\latex_env_doc_files\\latex_env_doc_43_0.png\n",
      "[I 15:37:18 InstallContribNbextensionsApp] Up to date: C:\\ProgramData\\jupyter\\nbextensions\\latex_envs\\doc\\latex_env_doc_files\\latex_env_doc_44_0.png\n",
      "[I 15:37:18 InstallContribNbextensionsApp] Up to date: C:\\ProgramData\\jupyter\\nbextensions\\latex_envs\\doc\\latex_env_doc_files\\latex_env_doc_45_0.png\n",
      "[I 15:37:18 InstallContribNbextensionsApp] Up to date: C:\\ProgramData\\jupyter\\nbextensions\\latex_envs\\doc\\latex_env_doc_files\\latex_env_doc_46_0.png\n",
      "[I 15:37:18 InstallContribNbextensionsApp] Up to date: C:\\ProgramData\\jupyter\\nbextensions\\latex_envs\\doc\\latex_env_doc_files\\latex_env_doc_47_0.png\n",
      "[I 15:37:18 InstallContribNbextensionsApp] Up to date: C:\\ProgramData\\jupyter\\nbextensions\\latex_envs\\doc\\latex_env_doc_files\\latex_env_doc_48_0.png\n",
      "[I 15:37:18 InstallContribNbextensionsApp] Up to date: C:\\ProgramData\\jupyter\\nbextensions\\latex_envs\\doc\\latex_env_doc_files\\latex_env_doc_49_0.png\n",
      "[I 15:37:18 InstallContribNbextensionsApp] Up to date: C:\\ProgramData\\jupyter\\nbextensions\\latex_envs\\doc\\latex_env_doc_files\\latex_env_doc_50_0.png\n",
      "[I 15:37:18 InstallContribNbextensionsApp] Up to date: C:\\ProgramData\\jupyter\\nbextensions\\latex_envs\\doc\\latex_env_doc_files\\latex_env_doc_51_0.png\n",
      "[I 15:37:18 InstallContribNbextensionsApp] Up to date: C:\\ProgramData\\jupyter\\nbextensions\\latex_envs\\doc\\latex_env_doc_files\\latex_env_doc_52_0.png\n",
      "[I 15:37:18 InstallContribNbextensionsApp] - Validating: ok\n",
      "[I 15:37:18 InstallContribNbextensionsApp] Installing jupyter_contrib_nbextensions items to config in C:\\ProgramData\\jupyter\n",
      "Enabling: jupyter_nbextensions_configurator\n",
      "- Writing config: C:\\ProgramData\\jupyter\n",
      "    - Validating...\n",
      "      jupyter_nbextensions_configurator 0.4.1 ok\n",
      "Enabling notebook nbextension nbextensions_configurator/config_menu/main...\n",
      "Enabling tree nbextension nbextensions_configurator/tree_tab/main...\n",
      "[I 15:37:18 InstallContribNbextensionsApp] Enabling notebook extension contrib_nbextensions_help_item/main...\n",
      "[I 15:37:18 InstallContribNbextensionsApp]       - Validating: ok\n",
      "[I 15:37:18 InstallContribNbextensionsApp] - Editing config: C:\\ProgramData\\jupyter\\jupyter_nbconvert_config.json\n",
      "[I 15:37:18 InstallContribNbextensionsApp] --  Configuring nbconvert template path\n",
      "[I 15:37:18 InstallContribNbextensionsApp] --  Configuring nbconvert preprocessors\n",
      "[I 15:37:18 InstallContribNbextensionsApp] - Writing config: C:\\ProgramData\\jupyter\\jupyter_nbconvert_config.json\n",
      "[I 15:37:18 InstallContribNbextensionsApp] --  Writing updated config file C:\\ProgramData\\jupyter\\jupyter_nbconvert_config.json\n"
     ]
    }
   ],
   "source": [
    "!jupyter contrib nbextension install"
   ]
  }
 ],
 "metadata": {
  "kernelspec": {
   "display_name": "Python [conda env:data-env] *",
   "language": "python",
   "name": "conda-env-data-env-py"
  },
  "language_info": {
   "codemirror_mode": {
    "name": "ipython",
    "version": 3
   },
   "file_extension": ".py",
   "mimetype": "text/x-python",
   "name": "python",
   "nbconvert_exporter": "python",
   "pygments_lexer": "ipython3",
   "version": "3.8.12"
  },
  "toc": {
   "base_numbering": 1,
   "nav_menu": {},
   "number_sections": true,
   "sideBar": true,
   "skip_h1_title": false,
   "title_cell": "Table of Contents",
   "title_sidebar": "Contents",
   "toc_cell": false,
   "toc_position": {},
   "toc_section_display": true,
   "toc_window_display": false
  }
 },
 "nbformat": 4,
 "nbformat_minor": 5
}
