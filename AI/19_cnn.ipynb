{
 "cells": [
  {
   "cell_type": "markdown",
   "id": "237bba20",
   "metadata": {},
   "source": [
    "# 합성곱 신경망(Convolutional)을 사용한 이미지 분류"
   ]
  },
  {
   "cell_type": "markdown",
   "id": "87a6a3a4",
   "metadata": {},
   "source": [
    "## 패션 MNIST 데이터 불러오기"
   ]
  },
  {
   "cell_type": "code",
   "execution_count": 1,
   "id": "605a7491",
   "metadata": {},
   "outputs": [],
   "source": [
    "from tensorflow import keras\n",
    "from sklearn.model_selection import train_test_split\n",
    "(train_input, train_target), (test_input, test_target) = keras.datasets.fashion_mnist.load_data()\n",
    "train_scaled = train_input.reshape(-1, 28, 28, 1) / 255.0\n",
    "train_scaled, val_scaled, train_target, val_target = train_test_split(train_scaled, train_target, test_size=0.2, random_state=42)"
   ]
  },
  {
   "cell_type": "markdown",
   "id": "7251a2fb",
   "metadata": {},
   "source": [
    "## 합성곱신경망 만들기"
   ]
  },
  {
   "cell_type": "code",
   "execution_count": 2,
   "id": "572958a4",
   "metadata": {},
   "outputs": [],
   "source": [
    "model = keras.Sequential()"
   ]
  },
  {
   "cell_type": "code",
   "execution_count": 3,
   "id": "3f4948cc",
   "metadata": {},
   "outputs": [],
   "source": [
    "model.add(keras.layers.Conv2D(32, kernel_size=3, activation=\"relu\", padding=\"same\", input_shape=(28,28,1)))"
   ]
  },
  {
   "cell_type": "code",
   "execution_count": 4,
   "id": "41459627",
   "metadata": {},
   "outputs": [],
   "source": [
    "model.add(keras.layers.MaxPooling2D(2))"
   ]
  },
  {
   "cell_type": "code",
   "execution_count": 5,
   "id": "93005475",
   "metadata": {},
   "outputs": [],
   "source": [
    "model.add(keras.layers.Conv2D(64, kernel_size=(3, 3),activation=\"relu\", padding=\"same\"))\n",
    "model.add(keras.layers.MaxPooling2D(2))"
   ]
  },
  {
   "cell_type": "code",
   "execution_count": 6,
   "id": "d0478a9e",
   "metadata": {},
   "outputs": [],
   "source": [
    "model.add(keras.layers.Flatten())\n",
    "model.add(keras.layers.Dense(100,activation=\"relu\"))\n",
    "model.add(keras.layers.Dropout(0.4))\n",
    "model.add(keras.layers.Dense(10,activation=\"softmax\"))"
   ]
  },
  {
   "cell_type": "code",
   "execution_count": 7,
   "id": "b5fe0911",
   "metadata": {
    "scrolled": true
   },
   "outputs": [
    {
     "name": "stdout",
     "output_type": "stream",
     "text": [
      "Model: \"sequential\"\n",
      "_________________________________________________________________\n",
      " Layer (type)                Output Shape              Param #   \n",
      "=================================================================\n",
      " conv2d (Conv2D)             (None, 28, 28, 32)        320       \n",
      "                                                                 \n",
      " max_pooling2d (MaxPooling2D  (None, 14, 14, 32)       0         \n",
      " )                                                               \n",
      "                                                                 \n",
      " conv2d_1 (Conv2D)           (None, 14, 14, 64)        18496     \n",
      "                                                                 \n",
      " max_pooling2d_1 (MaxPooling  (None, 7, 7, 64)         0         \n",
      " 2D)                                                             \n",
      "                                                                 \n",
      " flatten (Flatten)           (None, 3136)              0         \n",
      "                                                                 \n",
      " dense (Dense)               (None, 100)               313700    \n",
      "                                                                 \n",
      " dropout (Dropout)           (None, 100)               0         \n",
      "                                                                 \n",
      " dense_1 (Dense)             (None, 10)                1010      \n",
      "                                                                 \n",
      "=================================================================\n",
      "Total params: 333,526\n",
      "Trainable params: 333,526\n",
      "Non-trainable params: 0\n",
      "_________________________________________________________________\n"
     ]
    }
   ],
   "source": [
    "model.summary()"
   ]
  },
  {
   "cell_type": "code",
   "execution_count": 8,
   "id": "47fee735",
   "metadata": {},
   "outputs": [
    {
     "name": "stdout",
     "output_type": "stream",
     "text": [
      "Requirement already satisfied: pyparsing in c:\\users\\bit\\anaconda3\\envs\\data-env\\lib\\site-packages (3.0.4)\n",
      "Requirement already satisfied: graphviz in c:\\users\\bit\\anaconda3\\envs\\data-env\\lib\\site-packages (0.19.1)\n",
      "Requirement already satisfied: pydot in c:\\users\\bit\\anaconda3\\envs\\data-env\\lib\\site-packages (1.4.2)\n",
      "Requirement already satisfied: pyparsing>=2.1.4 in c:\\users\\bit\\anaconda3\\envs\\data-env\\lib\\site-packages (from pydot) (3.0.4)\n"
     ]
    }
   ],
   "source": [
    "!pip install pyparsing\n",
    "!pip install graphviz\n",
    "!pip install pydot"
   ]
  },
  {
   "cell_type": "code",
   "execution_count": 9,
   "id": "c8d0a761",
   "metadata": {},
   "outputs": [
    {
     "name": "stdout",
     "output_type": "stream",
     "text": [
      "You must install pydot (`pip install pydot`) and install graphviz (see instructions at https://graphviz.gitlab.io/download/) for plot_model/model_to_dot to work.\n"
     ]
    }
   ],
   "source": [
    "keras.utils.plot_model(model)"
   ]
  },
  {
   "cell_type": "code",
   "execution_count": 10,
   "id": "ba153c35",
   "metadata": {},
   "outputs": [
    {
     "name": "stdout",
     "output_type": "stream",
     "text": [
      "You must install pydot (`pip install pydot`) and install graphviz (see instructions at https://graphviz.gitlab.io/download/) for plot_model/model_to_dot to work.\n"
     ]
    }
   ],
   "source": [
    "keras.utils.plot_model(model,show_shapes=True, to_file=\"cnn-architecture.png\",dpi=300)"
   ]
  },
  {
   "cell_type": "markdown",
   "id": "6c72fcb1",
   "metadata": {},
   "source": [
    "## 모델 컴파일과 훈련"
   ]
  },
  {
   "cell_type": "code",
   "execution_count": 11,
   "id": "f37fabd5",
   "metadata": {},
   "outputs": [
    {
     "name": "stdout",
     "output_type": "stream",
     "text": [
      "Epoch 1/20\n",
      "1500/1500 [==============================] - 25s 16ms/step - loss: 0.5194 - accuracy: 0.8142 - val_loss: 0.3253 - val_accuracy: 0.8801\n",
      "Epoch 2/20\n",
      "1500/1500 [==============================] - 24s 16ms/step - loss: 0.3488 - accuracy: 0.8750 - val_loss: 0.2767 - val_accuracy: 0.8980\n",
      "Epoch 3/20\n",
      "1500/1500 [==============================] - 24s 16ms/step - loss: 0.3002 - accuracy: 0.8917 - val_loss: 0.2646 - val_accuracy: 0.9011\n",
      "Epoch 4/20\n",
      "1500/1500 [==============================] - 24s 16ms/step - loss: 0.2668 - accuracy: 0.9019 - val_loss: 0.2414 - val_accuracy: 0.9130\n",
      "Epoch 5/20\n",
      "1500/1500 [==============================] - 23s 15ms/step - loss: 0.2466 - accuracy: 0.9105 - val_loss: 0.2354 - val_accuracy: 0.9153\n",
      "Epoch 6/20\n",
      "1500/1500 [==============================] - 23s 15ms/step - loss: 0.2263 - accuracy: 0.9159 - val_loss: 0.2323 - val_accuracy: 0.9171\n",
      "Epoch 7/20\n",
      "1500/1500 [==============================] - 24s 16ms/step - loss: 0.2080 - accuracy: 0.9232 - val_loss: 0.2375 - val_accuracy: 0.9158\n",
      "Epoch 8/20\n",
      "1500/1500 [==============================] - 23s 16ms/step - loss: 0.1909 - accuracy: 0.9289 - val_loss: 0.2646 - val_accuracy: 0.9022\n"
     ]
    }
   ],
   "source": [
    "model.compile(optimizer='adam', loss='sparse_categorical_crossentropy', metrics='accuracy')\n",
    "checkpoint_cb = keras.callbacks.ModelCheckpoint('best-cnn-model.h5', save_best_only=True)\n",
    "early_stopping_cb = keras.callbacks.EarlyStopping(patience=2, restore_best_weights=True)\n",
    "history = model.fit(train_scaled, train_target, epochs=20, validation_data=(val_scaled, val_target), callbacks=[checkpoint_cb, early_stopping_cb])"
   ]
  },
  {
   "cell_type": "code",
   "execution_count": 12,
   "id": "07b0c4a3",
   "metadata": {},
   "outputs": [],
   "source": [
    "import matplotlib.pyplot as plt"
   ]
  },
  {
   "cell_type": "code",
   "execution_count": 13,
   "id": "9df6b009",
   "metadata": {},
   "outputs": [
    {
     "data": {
      "image/png": "[encoded data removed]",
      "text/plain": [
       "<Figure size 432x288 with 1 Axes>"
      ]
     },
     "metadata": {
      "needs_background": "light"
     },
     "output_type": "display_data"
    }
   ],
   "source": [
    "plt.plot(history.history['loss'])\n",
    "plt.plot(history.history['val_loss'])\n",
    "plt.xlabel('epoch')\n",
    "plt.ylabel('loss')\n",
    "plt.legend(['train', 'val'])\n",
    "plt.show()"
   ]
  },
  {
   "cell_type": "code",
   "execution_count": 14,
   "id": "9cead645",
   "metadata": {},
   "outputs": [
    {
     "name": "stdout",
     "output_type": "stream",
     "text": [
      "375/375 [==============================] - 2s 5ms/step - loss: 0.2323 - accuracy: 0.9171\n"
     ]
    },
    {
     "data": {
      "text/plain": [
       "[0.2322782427072525, 0.9170833230018616]"
      ]
     },
     "execution_count": 14,
     "metadata": {},
     "output_type": "execute_result"
    }
   ],
   "source": [
    "model.evaluate(val_scaled, val_target)"
   ]
  },
  {
   "cell_type": "code",
   "execution_count": 15,
   "id": "ff68a3a1",
   "metadata": {},
   "outputs": [
    {
     "data": {
      "image/png": "[encoded data removed]",
      "text/plain": [
       "<Figure size 432x288 with 1 Axes>"
      ]
     },
     "metadata": {
      "needs_background": "light"
     },
     "output_type": "display_data"
    }
   ],
   "source": [
    "plt.imshow(val_scaled[0].reshape(28, 28), cmap='gray_r')\n",
    "plt.show()"
   ]
  },
  {
   "cell_type": "code",
   "execution_count": 16,
   "id": "62bfb4d7",
   "metadata": {},
   "outputs": [
    {
     "name": "stdout",
     "output_type": "stream",
     "text": [
      "[[2.9013314e-16 1.6576870e-25 1.9932079e-18 8.9128215e-18 3.2896307e-18\n",
      "  3.5396338e-14 4.2865489e-16 6.5611659e-15 1.0000000e+00 9.3816014e-15]]\n"
     ]
    }
   ],
   "source": [
    "preds = model.predict(val_scaled[0:1])\n",
    "print(preds)"
   ]
  },
  {
   "cell_type": "code",
   "execution_count": 17,
   "id": "4aa468a8",
   "metadata": {},
   "outputs": [
    {
     "data": {
      "image/png": "[encoded data removed]",
      "text/plain": [
       "<Figure size 432x288 with 1 Axes>"
      ]
     },
     "metadata": {
      "needs_background": "light"
     },
     "output_type": "display_data"
    }
   ],
   "source": [
    "plt.bar(range(1, 11), preds[0])\n",
    "plt.xlabel('class')\n",
    "plt.ylabel('prob.')\n",
    "plt.show()"
   ]
  },
  {
   "cell_type": "code",
   "execution_count": 18,
   "id": "39258cd9",
   "metadata": {},
   "outputs": [],
   "source": [
    "classes = ['티셔츠', '바지', '스웨터', '드레스', '코트', '샌달', '셔츠', '스니커즈', '가방', '앵클 부츠']"
   ]
  },
  {
   "cell_type": "code",
   "execution_count": 19,
   "id": "45040138",
   "metadata": {},
   "outputs": [
    {
     "name": "stdout",
     "output_type": "stream",
     "text": [
      "가방\n"
     ]
    }
   ],
   "source": [
    "import numpy as np\n",
    "print(classes[np.argmax(preds)])"
   ]
  },
  {
   "cell_type": "code",
   "execution_count": 20,
   "id": "edfaa199",
   "metadata": {},
   "outputs": [],
   "source": [
    "test_scaled = test_input.reshape(-1, 28, 28, 1) / 255.0"
   ]
  },
  {
   "cell_type": "code",
   "execution_count": 21,
   "id": "8bd9d273",
   "metadata": {},
   "outputs": [
    {
     "name": "stdout",
     "output_type": "stream",
     "text": [
      "313/313 [==============================] - 2s 5ms/step - loss: 0.2539 - accuracy: 0.9085\n"
     ]
    },
    {
     "data": {
      "text/plain": [
       "[0.25385597348213196, 0.9085000157356262]"
      ]
     },
     "execution_count": 21,
     "metadata": {},
     "output_type": "execute_result"
    }
   ],
   "source": [
    "model.evaluate(test_scaled, test_target)"
   ]
  }
 ],
 "metadata": {
  "kernelspec": {
   "display_name": "Python [conda env:data-env] *",
   "language": "python",
   "name": "conda-env-data-env-py"
  },
  "language_info": {
   "codemirror_mode": {
    "name": "ipython",
    "version": 3
   },
   "file_extension": ".py",
   "mimetype": "text/x-python",
   "name": "python",
   "nbconvert_exporter": "python",
   "pygments_lexer": "ipython3",
   "version": "3.8.12"
  },
  "toc": {
   "base_numbering": 1,
   "nav_menu": {},
   "number_sections": true,
   "sideBar": true,
   "skip_h1_title": false,
   "title_cell": "Table of Contents",
   "title_sidebar": "Contents",
   "toc_cell": false,
   "toc_position": {},
   "toc_section_display": true,
   "toc_window_display": false
  }
 },
 "nbformat": 4,
 "nbformat_minor": 5
}
