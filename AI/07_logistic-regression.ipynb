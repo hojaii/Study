{
 "cells": [
  {
   "cell_type": "markdown",
   "id": "112496a9",
   "metadata": {},
   "source": [
    "# 로지스틱 회귀"
   ]
  },
  {
   "cell_type": "code",
   "execution_count": 1,
   "id": "ccafe371",
   "metadata": {},
   "outputs": [],
   "source": [
    "# 로지스틱 회귀(Logistic regression)\n",
    "# 다중 분류 (multi-class classification0)\n",
    "# sigmold 함수\n",
    "# softmax 함수"
   ]
  },
  {
   "cell_type": "code",
   "execution_count": 2,
   "id": "b66649a6",
   "metadata": {},
   "outputs": [],
   "source": [
    "# 이진 분류 문제에서 클래스 확률 예측\n",
    "# 7가지 생선에 대한 확률"
   ]
  },
  {
   "cell_type": "code",
   "execution_count": 3,
   "id": "6ab728ea",
   "metadata": {},
   "outputs": [],
   "source": [
    "import pandas as pd"
   ]
  },
  {
   "cell_type": "code",
   "execution_count": 4,
   "id": "01fe86a3",
   "metadata": {},
   "outputs": [],
   "source": [
    "fish = pd.read_csv(\"./fish.csv\")"
   ]
  },
  {
   "cell_type": "code",
   "execution_count": 5,
   "id": "02fdc527",
   "metadata": {},
   "outputs": [
    {
     "data": {
      "text/html": [
       "<div>\n",
       "<style scoped>\n",
       "    .dataframe tbody tr th:only-of-type {\n",
       "        vertical-align: middle;\n",
       "    }\n",
       "\n",
       "    .dataframe tbody tr th {\n",
       "        vertical-align: top;\n",
       "    }\n",
       "\n",
       "    .dataframe thead th {\n",
       "        text-align: right;\n",
       "    }\n",
       "</style>\n",
       "<table border=\"1\" class=\"dataframe\">\n",
       "  <thead>\n",
       "    <tr style=\"text-align: right;\">\n",
       "      <th></th>\n",
       "      <th>Species</th>\n",
       "      <th>Weight</th>\n",
       "      <th>Length</th>\n",
       "      <th>Diagonal</th>\n",
       "      <th>Height</th>\n",
       "      <th>Width</th>\n",
       "    </tr>\n",
       "  </thead>\n",
       "  <tbody>\n",
       "    <tr>\n",
       "      <th>0</th>\n",
       "      <td>Bream</td>\n",
       "      <td>242.0</td>\n",
       "      <td>25.4</td>\n",
       "      <td>30.0</td>\n",
       "      <td>11.5200</td>\n",
       "      <td>4.0200</td>\n",
       "    </tr>\n",
       "    <tr>\n",
       "      <th>1</th>\n",
       "      <td>Bream</td>\n",
       "      <td>290.0</td>\n",
       "      <td>26.3</td>\n",
       "      <td>31.2</td>\n",
       "      <td>12.4800</td>\n",
       "      <td>4.3056</td>\n",
       "    </tr>\n",
       "    <tr>\n",
       "      <th>2</th>\n",
       "      <td>Bream</td>\n",
       "      <td>340.0</td>\n",
       "      <td>26.5</td>\n",
       "      <td>31.1</td>\n",
       "      <td>12.3778</td>\n",
       "      <td>4.6961</td>\n",
       "    </tr>\n",
       "    <tr>\n",
       "      <th>3</th>\n",
       "      <td>Bream</td>\n",
       "      <td>363.0</td>\n",
       "      <td>29.0</td>\n",
       "      <td>33.5</td>\n",
       "      <td>12.7300</td>\n",
       "      <td>4.4555</td>\n",
       "    </tr>\n",
       "    <tr>\n",
       "      <th>4</th>\n",
       "      <td>Bream</td>\n",
       "      <td>430.0</td>\n",
       "      <td>29.0</td>\n",
       "      <td>34.0</td>\n",
       "      <td>12.4440</td>\n",
       "      <td>5.1340</td>\n",
       "    </tr>\n",
       "  </tbody>\n",
       "</table>\n",
       "</div>"
      ],
      "text/plain": [
       "  Species  Weight  Length  Diagonal   Height   Width\n",
       "0   Bream   242.0    25.4      30.0  11.5200  4.0200\n",
       "1   Bream   290.0    26.3      31.2  12.4800  4.3056\n",
       "2   Bream   340.0    26.5      31.1  12.3778  4.6961\n",
       "3   Bream   363.0    29.0      33.5  12.7300  4.4555\n",
       "4   Bream   430.0    29.0      34.0  12.4440  5.1340"
      ]
     },
     "execution_count": 5,
     "metadata": {},
     "output_type": "execute_result"
    }
   ],
   "source": [
    "fish.head()"
   ]
  },
  {
   "cell_type": "code",
   "execution_count": 6,
   "id": "ab86c869",
   "metadata": {},
   "outputs": [
    {
     "name": "stdout",
     "output_type": "stream",
     "text": [
      "['Bream' 'Roach' 'Whitefish' 'Parkki' 'Perch' 'Pike' 'Smelt']\n"
     ]
    }
   ],
   "source": [
    "print(pd.unique(fish[\"Species\"]))"
   ]
  },
  {
   "cell_type": "code",
   "execution_count": 7,
   "id": "a9e5aadd",
   "metadata": {},
   "outputs": [],
   "source": [
    "fish_input = fish[[\"Weight\", \"Length\", \"Diagonal\", \"Height\", \"Width\"]]"
   ]
  },
  {
   "cell_type": "code",
   "execution_count": 8,
   "id": "328514d4",
   "metadata": {},
   "outputs": [
    {
     "name": "stdout",
     "output_type": "stream",
     "text": [
      "   Weight  Length  Diagonal   Height   Width\n",
      "0   242.0    25.4      30.0  11.5200  4.0200\n",
      "1   290.0    26.3      31.2  12.4800  4.3056\n",
      "2   340.0    26.5      31.1  12.3778  4.6961\n",
      "3   363.0    29.0      33.5  12.7300  4.4555\n",
      "4   430.0    29.0      34.0  12.4440  5.1340\n"
     ]
    }
   ],
   "source": [
    "print(fish_input[:5])"
   ]
  },
  {
   "cell_type": "code",
   "execution_count": 9,
   "id": "2fea0afa",
   "metadata": {},
   "outputs": [],
   "source": [
    "fish_target = fish[\"Species\"].to_numpy()"
   ]
  },
  {
   "cell_type": "code",
   "execution_count": 10,
   "id": "1be7c7ed",
   "metadata": {},
   "outputs": [],
   "source": [
    "from sklearn.model_selection import train_test_split"
   ]
  },
  {
   "cell_type": "code",
   "execution_count": 11,
   "id": "048ebc19",
   "metadata": {
    "scrolled": true
   },
   "outputs": [],
   "source": [
    "train_input, test_input, train_target, test_target = train_test_split(fish_input, fish_target, random_state=42)"
   ]
  },
  {
   "cell_type": "code",
   "execution_count": 12,
   "id": "69aaf8f5",
   "metadata": {},
   "outputs": [],
   "source": [
    "from sklearn.preprocessing import StandardScaler\n",
    "ss = StandardScaler()\n",
    "ss.fit(train_input)\n",
    "train_scaled = ss.transform(train_input)\n",
    "test_scaled = ss.transform(test_input)"
   ]
  },
  {
   "cell_type": "code",
   "execution_count": 13,
   "id": "55a7d8dd",
   "metadata": {},
   "outputs": [],
   "source": [
    "from sklearn.neighbors import KNeighborsClassifier"
   ]
  },
  {
   "cell_type": "code",
   "execution_count": 14,
   "id": "5c598c9c",
   "metadata": {},
   "outputs": [
    {
     "name": "stdout",
     "output_type": "stream",
     "text": [
      "0.8907563025210085\n",
      "0.85\n"
     ]
    }
   ],
   "source": [
    "kn = KNeighborsClassifier(n_neighbors = 3)\n",
    "kn.fit(train_scaled, train_target)\n",
    "print(kn.score(train_scaled, train_target))\n",
    "print(kn.score(test_scaled, test_target))"
   ]
  },
  {
   "cell_type": "code",
   "execution_count": 15,
   "id": "94e9ee0f",
   "metadata": {},
   "outputs": [
    {
     "name": "stdout",
     "output_type": "stream",
     "text": [
      "['Bream' 'Parkki' 'Perch' 'Pike' 'Roach' 'Smelt' 'Whitefish']\n"
     ]
    }
   ],
   "source": [
    "print(kn.classes_)"
   ]
  },
  {
   "cell_type": "code",
   "execution_count": 16,
   "id": "c96c8853",
   "metadata": {},
   "outputs": [
    {
     "name": "stdout",
     "output_type": "stream",
     "text": [
      "['Perch' 'Smelt' 'Pike' 'Perch' 'Perch']\n"
     ]
    }
   ],
   "source": [
    "print(kn.predict(test_scaled[:5]))"
   ]
  },
  {
   "cell_type": "code",
   "execution_count": 17,
   "id": "2c57c198",
   "metadata": {
    "scrolled": true
   },
   "outputs": [
    {
     "name": "stdout",
     "output_type": "stream",
     "text": [
      "[[0.     0.     1.     0.     0.     0.     0.    ]\n",
      " [0.     0.     0.     0.     0.     1.     0.    ]\n",
      " [0.     0.     0.     1.     0.     0.     0.    ]\n",
      " [0.     0.     0.6667 0.     0.3333 0.     0.    ]\n",
      " [0.     0.     0.6667 0.     0.3333 0.     0.    ]]\n"
     ]
    }
   ],
   "source": [
    "import numpy as np\n",
    "\n",
    "proba = kn.predict_proba(test_scaled[:5]) # 클래스 별 확률값을 리턴\n",
    "print(np.round(proba, decimals=4))"
   ]
  },
  {
   "cell_type": "code",
   "execution_count": 18,
   "id": "491dd5ad",
   "metadata": {},
   "outputs": [
    {
     "name": "stdout",
     "output_type": "stream",
     "text": [
      "[['Roach' 'Perch' 'Perch']]\n"
     ]
    }
   ],
   "source": [
    "distances, indexes = kn.kneighbors(test_scaled[3:4])\n",
    "print(train_target[indexes])"
   ]
  },
  {
   "cell_type": "code",
   "execution_count": 19,
   "id": "2ff75fd5",
   "metadata": {},
   "outputs": [],
   "source": [
    "# 로지스틱 회귀 : 분류 모델\n",
    "# z = a*(weight) + b *(Length) + c * (Diagonal) + d * (Height) + e * (Width) + \n",
    "# a, b, c, d, e : 계수\n",
    "# 다음 회귀 산형 방정식과 동일"
   ]
  },
  {
   "cell_type": "code",
   "execution_count": 20,
   "id": "29bee9a3",
   "metadata": {},
   "outputs": [],
   "source": [
    "# 파이(Phi) = 1+e(제곱)-2 분의 1"
   ]
  },
  {
   "cell_type": "code",
   "execution_count": 21,
   "id": "31d2df3a",
   "metadata": {},
   "outputs": [],
   "source": [
    "import numpy as np\n",
    "import matplotlib.pyplot as plt"
   ]
  },
  {
   "cell_type": "code",
   "execution_count": 22,
   "id": "19ce8f30",
   "metadata": {},
   "outputs": [],
   "source": [
    "z = np.arange(-5, 5, 0.1) # 간격을 뜻함\n",
    "phi = 1 / (1+np.exp(-z))"
   ]
  },
  {
   "cell_type": "code",
   "execution_count": 23,
   "id": "f6453f59",
   "metadata": {},
   "outputs": [
    {
     "data": {
      "image/png": "[encoded data removed]",
      "text/plain": [
       "<Figure size 432x288 with 1 Axes>"
      ]
     },
     "metadata": {
      "needs_background": "light"
     },
     "output_type": "display_data"
    }
   ],
   "source": [
    "plt.plot(z, phi)\n",
    "plt.xlabel('z')\n",
    "plt.ylabel('phi')\n",
    "plt.show()"
   ]
  },
  {
   "cell_type": "code",
   "execution_count": 24,
   "id": "899cd91b",
   "metadata": {},
   "outputs": [
    {
     "name": "stdout",
     "output_type": "stream",
     "text": [
      "['A' 'C']\n"
     ]
    }
   ],
   "source": [
    "#0.5보다 크면 양수, 낮으면 음수\n",
    "char_array = np.array(['A', 'B', 'C', 'D', 'F'])\n",
    "print(char_array[[True, False, True, False, False]])"
   ]
  },
  {
   "cell_type": "code",
   "execution_count": 25,
   "id": "c6df4ef8",
   "metadata": {},
   "outputs": [],
   "source": [
    "bream_smelt_indexes = (train_target == 'Bream') | (train_target == 'Smelt')\n",
    "train_bream_smelt = train_scaled[bream_smelt_indexes]\n",
    "target_bream_smelt = train_target[bream_smelt_indexes]"
   ]
  },
  {
   "cell_type": "code",
   "execution_count": 26,
   "id": "2aac7cd3",
   "metadata": {},
   "outputs": [
    {
     "name": "stdout",
     "output_type": "stream",
     "text": [
      "[[ 0.91965782  0.60943175  0.81041221  1.85194896  1.00075672]\n",
      " [-1.0858536  -1.68646987 -1.70848587 -1.70159849 -2.0044758 ]\n",
      " [ 0.63818253  0.56257661  0.73223951  1.64473401  0.50705737]\n",
      " [ 0.30041219  0.23459067  0.42823457  1.36042157  0.22329758]\n",
      " [ 0.9027693   0.70314202  0.88858491  1.89027545  0.85537174]\n",
      " [-1.0824759  -1.61150165 -1.62162731 -1.7000674  -1.92815631]\n",
      " [ 0.10337949  0.04717013  0.23714575  0.88445197  0.41799764]\n",
      " [ 1.49668216  1.03112796  1.21864741  2.44274986  1.40289707]\n",
      " [ 0.23004337  0.23459067  0.42823457  1.3336029   0.39983213]\n",
      " [-0.42579405 -0.29018684 -0.11028847  0.65627104 -0.26107519]\n",
      " [ 1.28557569  0.70314202  0.89727076  1.98228866  1.06683526]\n",
      " [ 0.93373158  0.60943175  0.83646978  1.85150445  0.97832415]\n",
      " [ 0.80706771  0.60943175  0.81041221  1.63137406  1.0255057 ]\n",
      " [-1.07262426 -1.52716241 -1.55214047 -1.67235972 -1.86207776]\n",
      " [ 1.6374198   1.17169337  1.27076255  2.41341232  1.40143407]\n",
      " [-1.07966115 -1.63961473 -1.67374245 -1.6462819  -1.87036806]\n",
      " [-1.05151362 -1.33037084 -1.39579507 -1.47914678 -1.45146425]\n",
      " [ 0.15967454  0.11276732  0.29794674  1.17051775  0.29205828]\n",
      " [ 1.56705098  1.17169337  1.32287768  2.16352457  1.17174409]\n",
      " [-0.00921063  0.1408804   0.3240043   0.94026245  0.14734384]\n",
      " [ 0.15967454  0.1408804   0.33269016  1.26991474  0.24109734]\n",
      " [-0.14994827  0.32830094  0.52377898  1.24719543  0.3806913 ]\n",
      " [-0.08520896  0.04717013  0.19371647  0.95507939  0.00439718]\n",
      " [ 0.86336276  0.42201121  0.62800925  1.5003429   0.45670601]\n",
      " [ 0.30041219  0.11276732  0.28057503  1.31303204  0.50608204]\n",
      " [-1.07262426 -1.45219419 -1.51739705 -1.62627903 -1.94607798]\n",
      " [ 0.82114147  0.51572148  0.68881023  1.76102232  0.5621025 ]\n",
      " [-1.07937967 -1.54590446 -1.56951218 -1.64420753 -2.01154694]\n",
      " [-1.07937967 -1.62087268 -1.63899902 -1.67413775 -1.93303295]\n",
      " [-0.29068592 -0.2058476  -0.0060582   0.89334213 -0.08697896]\n",
      " [-1.05095067 -1.26477365 -1.30893652 -1.46447801 -1.56606541]\n",
      " [ 0.51151865  0.51572148  0.7148678   1.54738669  0.68347   ]\n",
      " [ 0.58188748  0.32830094  0.51509312  1.50439286  0.4404302 ]]\n"
     ]
    }
   ],
   "source": [
    "print(train_bream_smelt)"
   ]
  },
  {
   "cell_type": "code",
   "execution_count": 27,
   "id": "b4143652",
   "metadata": {},
   "outputs": [],
   "source": [
    "from sklearn.linear_model import LogisticRegression"
   ]
  },
  {
   "cell_type": "code",
   "execution_count": 28,
   "id": "38cd1d25",
   "metadata": {},
   "outputs": [
    {
     "data": {
      "text/plain": [
       "LogisticRegression()"
      ]
     },
     "execution_count": 28,
     "metadata": {},
     "output_type": "execute_result"
    }
   ],
   "source": [
    "lr = LogisticRegression()\n",
    "lr.fit(train_bream_smelt, target_bream_smelt)"
   ]
  },
  {
   "cell_type": "code",
   "execution_count": 29,
   "id": "6cffea41",
   "metadata": {},
   "outputs": [
    {
     "name": "stdout",
     "output_type": "stream",
     "text": [
      "['Bream' 'Smelt' 'Bream' 'Bream' 'Bream']\n"
     ]
    }
   ],
   "source": [
    "print(lr.predict(train_bream_smelt[:5]))"
   ]
  },
  {
   "cell_type": "code",
   "execution_count": 30,
   "id": "297ddf78",
   "metadata": {},
   "outputs": [
    {
     "name": "stdout",
     "output_type": "stream",
     "text": [
      "[[0.99759855 0.00240145]\n",
      " [0.02735183 0.97264817]\n",
      " [0.99486072 0.00513928]\n",
      " [0.98584202 0.01415798]\n",
      " [0.99767269 0.00232731]]\n"
     ]
    }
   ],
   "source": [
    "print(lr.predict_proba(train_bream_smelt[:5]))"
   ]
  },
  {
   "cell_type": "code",
   "execution_count": 31,
   "id": "6f157e92",
   "metadata": {},
   "outputs": [
    {
     "name": "stdout",
     "output_type": "stream",
     "text": [
      "['Bream' 'Smelt']\n"
     ]
    }
   ],
   "source": [
    "print(lr.classes_)"
   ]
  },
  {
   "cell_type": "code",
   "execution_count": 32,
   "id": "97c1ca22",
   "metadata": {},
   "outputs": [
    {
     "name": "stdout",
     "output_type": "stream",
     "text": [
      "[[-0.4037798  -0.57620209 -0.66280298 -1.01290277 -0.73168947]] [-2.16155132]\n"
     ]
    }
   ],
   "source": [
    "print(lr.coef_, lr.intercept_)"
   ]
  },
  {
   "cell_type": "code",
   "execution_count": 33,
   "id": "ba7a6ed0",
   "metadata": {},
   "outputs": [
    {
     "name": "stdout",
     "output_type": "stream",
     "text": [
      "[-6.02927744  3.57123907 -5.26568906 -4.24321775 -6.0607117 ]\n"
     ]
    }
   ],
   "source": [
    "# z = -0.404 * (weight) - 0.576*(Length) ,,,,,, -2.161\n",
    "decisions = lr.decision_function(train_bream_smelt[:5])\n",
    "print(decisions)"
   ]
  },
  {
   "cell_type": "code",
   "execution_count": 34,
   "id": "fe73bef9",
   "metadata": {},
   "outputs": [],
   "source": [
    "# scipy\n",
    "from scipy.special import expit"
   ]
  },
  {
   "cell_type": "code",
   "execution_count": 35,
   "id": "90178c3f",
   "metadata": {},
   "outputs": [
    {
     "name": "stdout",
     "output_type": "stream",
     "text": [
      "[0.00240145 0.97264817 0.00513928 0.01415798 0.00232731]\n"
     ]
    }
   ],
   "source": [
    "print(expit(decisions))"
   ]
  },
  {
   "cell_type": "code",
   "execution_count": 36,
   "id": "6ab9caf4",
   "metadata": {},
   "outputs": [],
   "source": [
    "lr = LogisticRegression(C= 20, max_iter=1000)"
   ]
  },
  {
   "cell_type": "code",
   "execution_count": 37,
   "id": "0cf69aee",
   "metadata": {},
   "outputs": [
    {
     "data": {
      "text/plain": [
       "LogisticRegression(C=20, max_iter=1000)"
      ]
     },
     "execution_count": 37,
     "metadata": {},
     "output_type": "execute_result"
    }
   ],
   "source": [
    "lr.fit(train_scaled, train_target)"
   ]
  },
  {
   "cell_type": "code",
   "execution_count": 38,
   "id": "5c0be6e8",
   "metadata": {},
   "outputs": [
    {
     "name": "stdout",
     "output_type": "stream",
     "text": [
      "0.9327731092436975\n",
      "0.925\n"
     ]
    }
   ],
   "source": [
    "print(lr.score(train_scaled, train_target))\n",
    "print(lr.score(test_scaled, test_target))"
   ]
  },
  {
   "cell_type": "code",
   "execution_count": 39,
   "id": "d7698300",
   "metadata": {},
   "outputs": [
    {
     "name": "stdout",
     "output_type": "stream",
     "text": [
      "['Perch' 'Smelt' 'Pike' 'Roach' 'Perch']\n"
     ]
    }
   ],
   "source": [
    "print(lr.predict(test_scaled[:5]))"
   ]
  },
  {
   "cell_type": "code",
   "execution_count": 40,
   "id": "6e2394f2",
   "metadata": {},
   "outputs": [],
   "source": [
    "proba = lr.predict_proba(test_scaled[:5])"
   ]
  },
  {
   "cell_type": "code",
   "execution_count": 41,
   "id": "75d0306e",
   "metadata": {},
   "outputs": [
    {
     "name": "stdout",
     "output_type": "stream",
     "text": [
      "[[0.    0.014 0.841 0.    0.136 0.007 0.003]\n",
      " [0.    0.003 0.044 0.    0.007 0.946 0.   ]\n",
      " [0.    0.    0.034 0.935 0.015 0.016 0.   ]\n",
      " [0.011 0.034 0.306 0.007 0.567 0.    0.076]\n",
      " [0.    0.    0.904 0.002 0.089 0.002 0.001]]\n"
     ]
    }
   ],
   "source": [
    "print(np.round(proba, decimals=3))"
   ]
  },
  {
   "cell_type": "code",
   "execution_count": 42,
   "id": "7efd7c89",
   "metadata": {},
   "outputs": [
    {
     "name": "stdout",
     "output_type": "stream",
     "text": [
      "['Bream' 'Parkki' 'Perch' 'Pike' 'Roach' 'Smelt' 'Whitefish']\n"
     ]
    }
   ],
   "source": [
    "print(lr.classes_)"
   ]
  },
  {
   "cell_type": "code",
   "execution_count": 43,
   "id": "a06ffd95",
   "metadata": {},
   "outputs": [
    {
     "name": "stdout",
     "output_type": "stream",
     "text": [
      "(7, 5) (7,)\n"
     ]
    }
   ],
   "source": [
    "print(lr.coef_.shape, lr.intercept_.shape)"
   ]
  },
  {
   "cell_type": "code",
   "execution_count": 44,
   "id": "d95916e4",
   "metadata": {},
   "outputs": [
    {
     "name": "stdout",
     "output_type": "stream",
     "text": [
      "[[ -6.5    1.03   5.16  -2.73   3.34   0.33  -0.63]\n",
      " [-10.86   1.93   4.77  -2.4    2.98   7.84  -4.26]\n",
      " [ -4.34  -6.23   3.17   6.49   2.36   2.42  -3.87]\n",
      " [ -0.68   0.45   2.65  -1.19   3.26  -5.75   1.26]\n",
      " [ -6.4   -1.99   5.82  -0.11   3.5   -0.11  -0.71]]\n"
     ]
    }
   ],
   "source": [
    "decisions = lr.decision_function(test_scaled[:5])\n",
    "print(np.round(decisions, decimals=2))"
   ]
  },
  {
   "cell_type": "code",
   "execution_count": 45,
   "id": "6d6603a7",
   "metadata": {},
   "outputs": [],
   "source": [
    "from scipy.special import softmax"
   ]
  },
  {
   "cell_type": "code",
   "execution_count": 46,
   "id": "7c54f8d4",
   "metadata": {},
   "outputs": [],
   "source": [
    "proba = softmax(decisions, axis=1)"
   ]
  },
  {
   "cell_type": "code",
   "execution_count": 47,
   "id": "85192f91",
   "metadata": {},
   "outputs": [
    {
     "name": "stdout",
     "output_type": "stream",
     "text": [
      "[[0.    0.014 0.841 0.    0.136 0.007 0.003]\n",
      " [0.    0.003 0.044 0.    0.007 0.946 0.   ]\n",
      " [0.    0.    0.034 0.935 0.015 0.016 0.   ]\n",
      " [0.011 0.034 0.306 0.007 0.567 0.    0.076]\n",
      " [0.    0.    0.904 0.002 0.089 0.002 0.001]]\n"
     ]
    }
   ],
   "source": [
    "print(np.round(proba, decimals=3))"
   ]
  }
 ],
 "metadata": {
  "kernelspec": {
   "display_name": "Python [conda env:data-env] *",
   "language": "python",
   "name": "conda-env-data-env-py"
  },
  "language_info": {
   "codemirror_mode": {
    "name": "ipython",
    "version": 3
   },
   "file_extension": ".py",
   "mimetype": "text/x-python",
   "name": "python",
   "nbconvert_exporter": "python",
   "pygments_lexer": "ipython3",
   "version": "3.8.12"
  },
  "toc": {
   "base_numbering": 1,
   "nav_menu": {},
   "number_sections": true,
   "sideBar": true,
   "skip_h1_title": false,
   "title_cell": "Table of Contents",
   "title_sidebar": "Contents",
   "toc_cell": false,
   "toc_position": {},
   "toc_section_display": true,
   "toc_window_display": false
  }
 },
 "nbformat": 4,
 "nbformat_minor": 5
}
