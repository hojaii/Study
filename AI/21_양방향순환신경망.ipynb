{
 "cells": [
  {
   "cell_type": "code",
   "execution_count": 1,
   "metadata": {},
   "outputs": [],
   "source": [
    "text = \"\"\"경마장에 있는 말이 뛰고 있다\\n\n",
    "그의 말이 법이다\\n\n",
    "가는 말이 고와야 오는 말이 곱다\\n\"\"\""
   ]
  },
  {
   "cell_type": "code",
   "execution_count": 3,
   "metadata": {},
   "outputs": [],
   "source": [
    "from keras_preprocessing.text import Tokenizer\n",
    "t = Tokenizer()\n",
    "t.fit_on_texts([text])\n",
    "encoded = t.texts_to_sequences([text])[0]"
   ]
  },
  {
   "cell_type": "code",
   "execution_count": 34,
   "metadata": {},
   "outputs": [],
   "source": [
    "vocab_size = len(t.word_index) + 1"
   ]
  },
  {
   "cell_type": "code",
   "execution_count": 43,
   "metadata": {},
   "outputs": [
    {
     "name": "stdout",
     "output_type": "stream",
     "text": [
      "단어 집합의 크기: 12\n"
     ]
    }
   ],
   "source": [
    "print(\"단어 집합의 크기: %d\" % vocab_size)"
   ]
  },
  {
   "cell_type": "code",
   "execution_count": 19,
   "metadata": {},
   "outputs": [
    {
     "name": "stdout",
     "output_type": "stream",
     "text": [
      "{'말이': 1, '경마장에': 2, '있는': 3, '뛰고': 4, '있다': 5, '그의': 6, '법이다': 7, '가는': 8, '고와야': 9, '오는': 10, '곱다': 11}\n"
     ]
    }
   ],
   "source": [
    "print(t.word_index)"
   ]
  },
  {
   "cell_type": "code",
   "execution_count": 20,
   "metadata": {},
   "outputs": [
    {
     "name": "stdout",
     "output_type": "stream",
     "text": [
      "훈련 데이터 개수: 11\n"
     ]
    }
   ],
   "source": [
    "sequences = list()\n",
    "for line in text.split('\\n'):\n",
    "    encoded = t.texts_to_sequences([line])[0]\n",
    "    for i in range(1, len(encoded)):\n",
    "        sequence = encoded[: i+1]\n",
    "        sequences.append(sequence)\n",
    "print(\"훈련 데이터 개수: %d\" % len(sequences))"
   ]
  },
  {
   "cell_type": "code",
   "execution_count": 21,
   "metadata": {},
   "outputs": [
    {
     "name": "stdout",
     "output_type": "stream",
     "text": [
      "[[2, 3], [2, 3, 1], [2, 3, 1, 4], [2, 3, 1, 4, 5], [6, 1], [6, 1, 7], [8, 1], [8, 1, 9], [8, 1, 9, 10], [8, 1, 9, 10, 1], [8, 1, 9, 10, 1, 11]]\n"
     ]
    }
   ],
   "source": [
    "print(sequences)"
   ]
  },
  {
   "cell_type": "code",
   "execution_count": 22,
   "metadata": {},
   "outputs": [
    {
     "name": "stdout",
     "output_type": "stream",
     "text": [
      "6\n"
     ]
    }
   ],
   "source": [
    "print(max(len(l) for l in sequences))"
   ]
  },
  {
   "cell_type": "code",
   "execution_count": 27,
   "metadata": {},
   "outputs": [
    {
     "name": "stderr",
     "output_type": "stream",
     "text": [
      "C:\\Users\\515-15\\anaconda3\\lib\\site-packages\\tensorflow\\python\\framework\\dtypes.py:516: FutureWarning: Passing (type, 1) or '1type' as a synonym of type is deprecated; in a future version of numpy, it will be understood as (type, (1,)) / '(1,)type'.\n",
      "  _np_qint8 = np.dtype([(\"qint8\", np.int8, 1)])\n",
      "C:\\Users\\515-15\\anaconda3\\lib\\site-packages\\tensorflow\\python\\framework\\dtypes.py:517: FutureWarning: Passing (type, 1) or '1type' as a synonym of type is deprecated; in a future version of numpy, it will be understood as (type, (1,)) / '(1,)type'.\n",
      "  _np_quint8 = np.dtype([(\"quint8\", np.uint8, 1)])\n",
      "C:\\Users\\515-15\\anaconda3\\lib\\site-packages\\tensorflow\\python\\framework\\dtypes.py:518: FutureWarning: Passing (type, 1) or '1type' as a synonym of type is deprecated; in a future version of numpy, it will be understood as (type, (1,)) / '(1,)type'.\n",
      "  _np_qint16 = np.dtype([(\"qint16\", np.int16, 1)])\n",
      "C:\\Users\\515-15\\anaconda3\\lib\\site-packages\\tensorflow\\python\\framework\\dtypes.py:519: FutureWarning: Passing (type, 1) or '1type' as a synonym of type is deprecated; in a future version of numpy, it will be understood as (type, (1,)) / '(1,)type'.\n",
      "  _np_quint16 = np.dtype([(\"quint16\", np.uint16, 1)])\n",
      "C:\\Users\\515-15\\anaconda3\\lib\\site-packages\\tensorflow\\python\\framework\\dtypes.py:520: FutureWarning: Passing (type, 1) or '1type' as a synonym of type is deprecated; in a future version of numpy, it will be understood as (type, (1,)) / '(1,)type'.\n",
      "  _np_qint32 = np.dtype([(\"qint32\", np.int32, 1)])\n",
      "C:\\Users\\515-15\\anaconda3\\lib\\site-packages\\tensorflow\\python\\framework\\dtypes.py:525: FutureWarning: Passing (type, 1) or '1type' as a synonym of type is deprecated; in a future version of numpy, it will be understood as (type, (1,)) / '(1,)type'.\n",
      "  np_resource = np.dtype([(\"resource\", np.ubyte, 1)])\n",
      "C:\\Users\\515-15\\anaconda3\\lib\\site-packages\\tensorboard\\compat\\tensorflow_stub\\dtypes.py:541: FutureWarning: Passing (type, 1) or '1type' as a synonym of type is deprecated; in a future version of numpy, it will be understood as (type, (1,)) / '(1,)type'.\n",
      "  _np_qint8 = np.dtype([(\"qint8\", np.int8, 1)])\n",
      "C:\\Users\\515-15\\anaconda3\\lib\\site-packages\\tensorboard\\compat\\tensorflow_stub\\dtypes.py:542: FutureWarning: Passing (type, 1) or '1type' as a synonym of type is deprecated; in a future version of numpy, it will be understood as (type, (1,)) / '(1,)type'.\n",
      "  _np_quint8 = np.dtype([(\"quint8\", np.uint8, 1)])\n",
      "C:\\Users\\515-15\\anaconda3\\lib\\site-packages\\tensorboard\\compat\\tensorflow_stub\\dtypes.py:543: FutureWarning: Passing (type, 1) or '1type' as a synonym of type is deprecated; in a future version of numpy, it will be understood as (type, (1,)) / '(1,)type'.\n",
      "  _np_qint16 = np.dtype([(\"qint16\", np.int16, 1)])\n",
      "C:\\Users\\515-15\\anaconda3\\lib\\site-packages\\tensorboard\\compat\\tensorflow_stub\\dtypes.py:544: FutureWarning: Passing (type, 1) or '1type' as a synonym of type is deprecated; in a future version of numpy, it will be understood as (type, (1,)) / '(1,)type'.\n",
      "  _np_quint16 = np.dtype([(\"quint16\", np.uint16, 1)])\n",
      "C:\\Users\\515-15\\anaconda3\\lib\\site-packages\\tensorboard\\compat\\tensorflow_stub\\dtypes.py:545: FutureWarning: Passing (type, 1) or '1type' as a synonym of type is deprecated; in a future version of numpy, it will be understood as (type, (1,)) / '(1,)type'.\n",
      "  _np_qint32 = np.dtype([(\"qint32\", np.int32, 1)])\n",
      "C:\\Users\\515-15\\anaconda3\\lib\\site-packages\\tensorboard\\compat\\tensorflow_stub\\dtypes.py:550: FutureWarning: Passing (type, 1) or '1type' as a synonym of type is deprecated; in a future version of numpy, it will be understood as (type, (1,)) / '(1,)type'.\n",
      "  np_resource = np.dtype([(\"resource\", np.ubyte, 1)])\n"
     ]
    }
   ],
   "source": [
    "from tensorflow.keras.preprocessing.sequence import pad_sequences\n",
    "sequences = pad_sequences(sequences, maxlen = 6, padding='pre')"
   ]
  },
  {
   "cell_type": "code",
   "execution_count": 28,
   "metadata": {},
   "outputs": [
    {
     "name": "stdout",
     "output_type": "stream",
     "text": [
      "[[ 0  0  0  0  2  3]\n",
      " [ 0  0  0  2  3  1]\n",
      " [ 0  0  2  3  1  4]\n",
      " [ 0  2  3  1  4  5]\n",
      " [ 0  0  0  0  6  1]\n",
      " [ 0  0  0  6  1  7]\n",
      " [ 0  0  0  0  8  1]\n",
      " [ 0  0  0  8  1  9]\n",
      " [ 0  0  8  1  9 10]\n",
      " [ 0  8  1  9 10  1]\n",
      " [ 8  1  9 10  1 11]]\n"
     ]
    }
   ],
   "source": [
    "print(sequences)"
   ]
  },
  {
   "cell_type": "code",
   "execution_count": 29,
   "metadata": {},
   "outputs": [],
   "source": [
    "import numpy as np\n",
    "sequences = np.array(sequences)\n",
    "X = sequences[:, :-1]\n",
    "y = sequences[:, -1]"
   ]
  },
  {
   "cell_type": "code",
   "execution_count": 30,
   "metadata": {
    "scrolled": true
   },
   "outputs": [
    {
     "name": "stdout",
     "output_type": "stream",
     "text": [
      "[[ 0  0  0  0  2]\n",
      " [ 0  0  0  2  3]\n",
      " [ 0  0  2  3  1]\n",
      " [ 0  2  3  1  4]\n",
      " [ 0  0  0  0  6]\n",
      " [ 0  0  0  6  1]\n",
      " [ 0  0  0  0  8]\n",
      " [ 0  0  0  8  1]\n",
      " [ 0  0  8  1  9]\n",
      " [ 0  8  1  9 10]\n",
      " [ 8  1  9 10  1]]\n"
     ]
    }
   ],
   "source": [
    "print(X)"
   ]
  },
  {
   "cell_type": "code",
   "execution_count": 31,
   "metadata": {},
   "outputs": [
    {
     "name": "stdout",
     "output_type": "stream",
     "text": [
      "[ 3  1  4  5  1  7  1  9 10  1 11]\n"
     ]
    }
   ],
   "source": [
    "print(y)"
   ]
  },
  {
   "cell_type": "code",
   "execution_count": 36,
   "metadata": {},
   "outputs": [],
   "source": [
    "from tensorflow.keras.utils import to_categorical\n",
    "y = to_categorical(y, num_classes=vocab_size)"
   ]
  },
  {
   "cell_type": "code",
   "execution_count": 37,
   "metadata": {},
   "outputs": [
    {
     "name": "stdout",
     "output_type": "stream",
     "text": [
      "[[0. 0. 0. 1. 0. 0. 0. 0. 0. 0. 0. 0.]\n",
      " [0. 1. 0. 0. 0. 0. 0. 0. 0. 0. 0. 0.]\n",
      " [0. 0. 0. 0. 1. 0. 0. 0. 0. 0. 0. 0.]\n",
      " [0. 0. 0. 0. 0. 1. 0. 0. 0. 0. 0. 0.]\n",
      " [0. 1. 0. 0. 0. 0. 0. 0. 0. 0. 0. 0.]\n",
      " [0. 0. 0. 0. 0. 0. 0. 1. 0. 0. 0. 0.]\n",
      " [0. 1. 0. 0. 0. 0. 0. 0. 0. 0. 0. 0.]\n",
      " [0. 0. 0. 0. 0. 0. 0. 0. 0. 1. 0. 0.]\n",
      " [0. 0. 0. 0. 0. 0. 0. 0. 0. 0. 1. 0.]\n",
      " [0. 1. 0. 0. 0. 0. 0. 0. 0. 0. 0. 0.]\n",
      " [0. 0. 0. 0. 0. 0. 0. 0. 0. 0. 0. 1.]]\n"
     ]
    }
   ],
   "source": [
    "print(y)"
   ]
  },
  {
   "cell_type": "code",
   "execution_count": 44,
   "metadata": {},
   "outputs": [],
   "source": [
    "from tensorflow.keras.layers import Embedding, Dense, SimpleRNN\n",
    "from tensorflow.keras.models import Sequential"
   ]
  },
  {
   "cell_type": "code",
   "execution_count": 45,
   "metadata": {},
   "outputs": [],
   "source": [
    "model = Sequential()"
   ]
  },
  {
   "cell_type": "code",
   "execution_count": 46,
   "metadata": {},
   "outputs": [
    {
     "name": "stdout",
     "output_type": "stream",
     "text": [
      "WARNING:tensorflow:From C:\\Users\\515-15\\anaconda3\\lib\\site-packages\\tensorflow\\python\\keras\\initializers.py:119: calling RandomUniform.__init__ (from tensorflow.python.ops.init_ops) with dtype is deprecated and will be removed in a future version.\n",
      "Instructions for updating:\n",
      "Call initializer instance with the dtype argument instead of passing it to the constructor\n",
      "WARNING:tensorflow:From C:\\Users\\515-15\\anaconda3\\lib\\site-packages\\tensorflow\\python\\ops\\init_ops.py:1251: calling VarianceScaling.__init__ (from tensorflow.python.ops.init_ops) with dtype is deprecated and will be removed in a future version.\n",
      "Instructions for updating:\n",
      "Call initializer instance with the dtype argument instead of passing it to the constructor\n",
      "Epoch 1/200\n",
      "11/11 - 0s - loss: 2.5049 - acc: 0.0000e+00\n",
      "Epoch 2/200\n",
      "11/11 - 0s - loss: 2.4926 - acc: 0.0000e+00\n",
      "Epoch 3/200\n",
      "11/11 - 0s - loss: 2.4807 - acc: 0.0909\n",
      "Epoch 4/200\n",
      "11/11 - 0s - loss: 2.4688 - acc: 0.0909\n",
      "Epoch 5/200\n",
      "11/11 - 0s - loss: 2.4570 - acc: 0.2727\n",
      "Epoch 6/200\n",
      "11/11 - 0s - loss: 2.4450 - acc: 0.2727\n",
      "Epoch 7/200\n",
      "11/11 - 0s - loss: 2.4327 - acc: 0.5455\n",
      "Epoch 8/200\n",
      "11/11 - 0s - loss: 2.4200 - acc: 0.5455\n",
      "Epoch 9/200\n",
      "11/11 - 0s - loss: 2.4068 - acc: 0.4545\n",
      "Epoch 10/200\n",
      "11/11 - 0s - loss: 2.3930 - acc: 0.4545\n",
      "Epoch 11/200\n",
      "11/11 - 0s - loss: 2.3784 - acc: 0.3636\n",
      "Epoch 12/200\n",
      "11/11 - 0s - loss: 2.3632 - acc: 0.3636\n",
      "Epoch 13/200\n",
      "11/11 - 0s - loss: 2.3471 - acc: 0.3636\n",
      "Epoch 14/200\n",
      "11/11 - 0s - loss: 2.3300 - acc: 0.3636\n",
      "Epoch 15/200\n",
      "11/11 - 0s - loss: 2.3121 - acc: 0.3636\n",
      "Epoch 16/200\n",
      "11/11 - 0s - loss: 2.2931 - acc: 0.3636\n",
      "Epoch 17/200\n",
      "11/11 - 0s - loss: 2.2730 - acc: 0.3636\n",
      "Epoch 18/200\n",
      "11/11 - 0s - loss: 2.2519 - acc: 0.3636\n",
      "Epoch 19/200\n",
      "11/11 - 0s - loss: 2.2297 - acc: 0.3636\n",
      "Epoch 20/200\n",
      "11/11 - 0s - loss: 2.2065 - acc: 0.3636\n",
      "Epoch 21/200\n",
      "11/11 - 0s - loss: 2.1823 - acc: 0.3636\n",
      "Epoch 22/200\n",
      "11/11 - 0s - loss: 2.1572 - acc: 0.3636\n",
      "Epoch 23/200\n",
      "11/11 - 0s - loss: 2.1313 - acc: 0.3636\n",
      "Epoch 24/200\n",
      "11/11 - 0s - loss: 2.1050 - acc: 0.3636\n",
      "Epoch 25/200\n",
      "11/11 - 0s - loss: 2.0784 - acc: 0.3636\n",
      "Epoch 26/200\n",
      "11/11 - 0s - loss: 2.0518 - acc: 0.3636\n",
      "Epoch 27/200\n",
      "11/11 - 0s - loss: 2.0256 - acc: 0.3636\n",
      "Epoch 28/200\n",
      "11/11 - 0s - loss: 2.0003 - acc: 0.3636\n",
      "Epoch 29/200\n",
      "11/11 - 0s - loss: 1.9763 - acc: 0.3636\n",
      "Epoch 30/200\n",
      "11/11 - 0s - loss: 1.9539 - acc: 0.3636\n",
      "Epoch 31/200\n",
      "11/11 - 0s - loss: 1.9336 - acc: 0.3636\n",
      "Epoch 32/200\n",
      "11/11 - 0s - loss: 1.9154 - acc: 0.3636\n",
      "Epoch 33/200\n",
      "11/11 - 0s - loss: 1.8994 - acc: 0.3636\n",
      "Epoch 34/200\n",
      "11/11 - 0s - loss: 1.8854 - acc: 0.3636\n",
      "Epoch 35/200\n",
      "11/11 - 0s - loss: 1.8729 - acc: 0.3636\n",
      "Epoch 36/200\n",
      "11/11 - 0s - loss: 1.8615 - acc: 0.3636\n",
      "Epoch 37/200\n",
      "11/11 - 0s - loss: 1.8505 - acc: 0.3636\n",
      "Epoch 38/200\n",
      "11/11 - 0s - loss: 1.8394 - acc: 0.3636\n",
      "Epoch 39/200\n",
      "11/11 - 0s - loss: 1.8279 - acc: 0.3636\n",
      "Epoch 40/200\n",
      "11/11 - 0s - loss: 1.8157 - acc: 0.3636\n",
      "Epoch 41/200\n",
      "11/11 - 0s - loss: 1.8028 - acc: 0.3636\n",
      "Epoch 42/200\n",
      "11/11 - 0s - loss: 1.7892 - acc: 0.3636\n",
      "Epoch 43/200\n",
      "11/11 - 0s - loss: 1.7750 - acc: 0.3636\n",
      "Epoch 44/200\n",
      "11/11 - 0s - loss: 1.7605 - acc: 0.3636\n",
      "Epoch 45/200\n",
      "11/11 - 0s - loss: 1.7458 - acc: 0.3636\n",
      "Epoch 46/200\n",
      "11/11 - 0s - loss: 1.7310 - acc: 0.3636\n",
      "Epoch 47/200\n",
      "11/11 - 0s - loss: 1.7163 - acc: 0.3636\n",
      "Epoch 48/200\n",
      "11/11 - 0s - loss: 1.7017 - acc: 0.3636\n",
      "Epoch 49/200\n",
      "11/11 - 0s - loss: 1.6872 - acc: 0.3636\n",
      "Epoch 50/200\n",
      "11/11 - 0s - loss: 1.6727 - acc: 0.3636\n",
      "Epoch 51/200\n",
      "11/11 - 0s - loss: 1.6583 - acc: 0.3636\n",
      "Epoch 52/200\n",
      "11/11 - 0s - loss: 1.6437 - acc: 0.4545\n",
      "Epoch 53/200\n",
      "11/11 - 0s - loss: 1.6290 - acc: 0.4545\n",
      "Epoch 54/200\n",
      "11/11 - 0s - loss: 1.6139 - acc: 0.4545\n",
      "Epoch 55/200\n",
      "11/11 - 0s - loss: 1.5985 - acc: 0.4545\n",
      "Epoch 56/200\n",
      "11/11 - 0s - loss: 1.5827 - acc: 0.4545\n",
      "Epoch 57/200\n",
      "11/11 - 0s - loss: 1.5665 - acc: 0.4545\n",
      "Epoch 58/200\n",
      "11/11 - 0s - loss: 1.5498 - acc: 0.4545\n",
      "Epoch 59/200\n",
      "11/11 - 0s - loss: 1.5327 - acc: 0.4545\n",
      "Epoch 60/200\n",
      "11/11 - 0s - loss: 1.5152 - acc: 0.4545\n",
      "Epoch 61/200\n",
      "11/11 - 0s - loss: 1.4974 - acc: 0.4545\n",
      "Epoch 62/200\n",
      "11/11 - 0s - loss: 1.4793 - acc: 0.4545\n",
      "Epoch 63/200\n",
      "11/11 - 0s - loss: 1.4610 - acc: 0.4545\n",
      "Epoch 64/200\n",
      "11/11 - 0s - loss: 1.4425 - acc: 0.4545\n",
      "Epoch 65/200\n",
      "11/11 - 0s - loss: 1.4238 - acc: 0.4545\n",
      "Epoch 66/200\n",
      "11/11 - 0s - loss: 1.4049 - acc: 0.5455\n",
      "Epoch 67/200\n",
      "11/11 - 0s - loss: 1.3860 - acc: 0.5455\n",
      "Epoch 68/200\n",
      "11/11 - 0s - loss: 1.3669 - acc: 0.5455\n",
      "Epoch 69/200\n",
      "11/11 - 0s - loss: 1.3476 - acc: 0.5455\n",
      "Epoch 70/200\n",
      "11/11 - 0s - loss: 1.3283 - acc: 0.6364\n",
      "Epoch 71/200\n",
      "11/11 - 0s - loss: 1.3088 - acc: 0.6364\n",
      "Epoch 72/200\n",
      "11/11 - 0s - loss: 1.2892 - acc: 0.6364\n",
      "Epoch 73/200\n",
      "11/11 - 0s - loss: 1.2695 - acc: 0.6364\n",
      "Epoch 74/200\n",
      "11/11 - 0s - loss: 1.2497 - acc: 0.6364\n",
      "Epoch 75/200\n",
      "11/11 - 0s - loss: 1.2298 - acc: 0.6364\n",
      "Epoch 76/200\n",
      "11/11 - 0s - loss: 1.2098 - acc: 0.6364\n",
      "Epoch 77/200\n",
      "11/11 - 0s - loss: 1.1897 - acc: 0.6364\n",
      "Epoch 78/200\n",
      "11/11 - 0s - loss: 1.1695 - acc: 0.6364\n",
      "Epoch 79/200\n",
      "11/11 - 0s - loss: 1.1494 - acc: 0.6364\n",
      "Epoch 80/200\n",
      "11/11 - 0s - loss: 1.1293 - acc: 0.6364\n",
      "Epoch 81/200\n",
      "11/11 - 0s - loss: 1.1092 - acc: 0.6364\n",
      "Epoch 82/200\n",
      "11/11 - 0s - loss: 1.0892 - acc: 0.6364\n",
      "Epoch 83/200\n",
      "11/11 - 0s - loss: 1.0692 - acc: 0.6364\n",
      "Epoch 84/200\n",
      "11/11 - 0s - loss: 1.0494 - acc: 0.6364\n",
      "Epoch 85/200\n",
      "11/11 - 0s - loss: 1.0298 - acc: 0.6364\n",
      "Epoch 86/200\n",
      "11/11 - 0s - loss: 1.0103 - acc: 0.6364\n",
      "Epoch 87/200\n",
      "11/11 - 0s - loss: 0.9910 - acc: 0.7273\n",
      "Epoch 88/200\n",
      "11/11 - 0s - loss: 0.9719 - acc: 0.7273\n",
      "Epoch 89/200\n",
      "11/11 - 0s - loss: 0.9530 - acc: 0.7273\n",
      "Epoch 90/200\n",
      "11/11 - 0s - loss: 0.9345 - acc: 0.7273\n",
      "Epoch 91/200\n",
      "11/11 - 0s - loss: 0.9161 - acc: 0.7273\n",
      "Epoch 92/200\n",
      "11/11 - 0s - loss: 0.8981 - acc: 0.7273\n",
      "Epoch 93/200\n",
      "11/11 - 0s - loss: 0.8804 - acc: 0.7273\n",
      "Epoch 94/200\n",
      "11/11 - 0s - loss: 0.8630 - acc: 0.7273\n",
      "Epoch 95/200\n",
      "11/11 - 0s - loss: 0.8459 - acc: 0.7273\n",
      "Epoch 96/200\n",
      "11/11 - 0s - loss: 0.8291 - acc: 0.7273\n",
      "Epoch 97/200\n",
      "11/11 - 0s - loss: 0.8126 - acc: 0.7273\n",
      "Epoch 98/200\n",
      "11/11 - 0s - loss: 0.7965 - acc: 0.7273\n",
      "Epoch 99/200\n",
      "11/11 - 0s - loss: 0.7807 - acc: 0.7273\n",
      "Epoch 100/200\n",
      "11/11 - 0s - loss: 0.7652 - acc: 0.7273\n",
      "Epoch 101/200\n",
      "11/11 - 0s - loss: 0.7501 - acc: 0.7273\n",
      "Epoch 102/200\n",
      "11/11 - 0s - loss: 0.7352 - acc: 0.7273\n",
      "Epoch 103/200\n",
      "11/11 - 0s - loss: 0.7207 - acc: 0.7273\n",
      "Epoch 104/200\n",
      "11/11 - 0s - loss: 0.7065 - acc: 0.7273\n",
      "Epoch 105/200\n",
      "11/11 - 0s - loss: 0.6926 - acc: 0.7273\n",
      "Epoch 106/200\n",
      "11/11 - 0s - loss: 0.6790 - acc: 0.7273\n",
      "Epoch 107/200\n",
      "11/11 - 0s - loss: 0.6656 - acc: 0.7273\n",
      "Epoch 108/200\n",
      "11/11 - 0s - loss: 0.6525 - acc: 0.8182\n",
      "Epoch 109/200\n",
      "11/11 - 0s - loss: 0.6397 - acc: 0.8182\n",
      "Epoch 110/200\n",
      "11/11 - 0s - loss: 0.6272 - acc: 0.8182\n",
      "Epoch 111/200\n",
      "11/11 - 0s - loss: 0.6148 - acc: 0.9091\n",
      "Epoch 112/200\n",
      "11/11 - 0s - loss: 0.6028 - acc: 0.9091\n",
      "Epoch 113/200\n",
      "11/11 - 0s - loss: 0.5909 - acc: 0.9091\n",
      "Epoch 114/200\n",
      "11/11 - 0s - loss: 0.5793 - acc: 1.0000\n",
      "Epoch 115/200\n",
      "11/11 - 0s - loss: 0.5680 - acc: 1.0000\n",
      "Epoch 116/200\n",
      "11/11 - 0s - loss: 0.5568 - acc: 1.0000\n",
      "Epoch 117/200\n",
      "11/11 - 0s - loss: 0.5460 - acc: 1.0000\n",
      "Epoch 118/200\n",
      "11/11 - 0s - loss: 0.5353 - acc: 1.0000\n",
      "Epoch 119/200\n",
      "11/11 - 0s - loss: 0.5249 - acc: 1.0000\n",
      "Epoch 120/200\n",
      "11/11 - 0s - loss: 0.5147 - acc: 1.0000\n",
      "Epoch 121/200\n",
      "11/11 - 0s - loss: 0.5047 - acc: 1.0000\n",
      "Epoch 122/200\n",
      "11/11 - 0s - loss: 0.4949 - acc: 1.0000\n",
      "Epoch 123/200\n",
      "11/11 - 0s - loss: 0.4854 - acc: 1.0000\n",
      "Epoch 124/200\n",
      "11/11 - 0s - loss: 0.4761 - acc: 1.0000\n",
      "Epoch 125/200\n",
      "11/11 - 0s - loss: 0.4670 - acc: 1.0000\n",
      "Epoch 126/200\n",
      "11/11 - 0s - loss: 0.4581 - acc: 1.0000\n",
      "Epoch 127/200\n",
      "11/11 - 0s - loss: 0.4494 - acc: 1.0000\n",
      "Epoch 128/200\n",
      "11/11 - 0s - loss: 0.4409 - acc: 1.0000\n",
      "Epoch 129/200\n",
      "11/11 - 0s - loss: 0.4325 - acc: 1.0000\n",
      "Epoch 130/200\n",
      "11/11 - 0s - loss: 0.4244 - acc: 1.0000\n",
      "Epoch 131/200\n",
      "11/11 - 0s - loss: 0.4164 - acc: 1.0000\n",
      "Epoch 132/200\n",
      "11/11 - 0s - loss: 0.4086 - acc: 1.0000\n",
      "Epoch 133/200\n",
      "11/11 - 0s - loss: 0.4010 - acc: 1.0000\n",
      "Epoch 134/200\n",
      "11/11 - 0s - loss: 0.3935 - acc: 1.0000\n",
      "Epoch 135/200\n",
      "11/11 - 0s - loss: 0.3862 - acc: 1.0000\n",
      "Epoch 136/200\n",
      "11/11 - 0s - loss: 0.3790 - acc: 1.0000\n",
      "Epoch 137/200\n",
      "11/11 - 0s - loss: 0.3720 - acc: 1.0000\n",
      "Epoch 138/200\n",
      "11/11 - 0s - loss: 0.3652 - acc: 1.0000\n",
      "Epoch 139/200\n",
      "11/11 - 0s - loss: 0.3584 - acc: 1.0000\n",
      "Epoch 140/200\n",
      "11/11 - 0s - loss: 0.3518 - acc: 1.0000\n",
      "Epoch 141/200\n",
      "11/11 - 0s - loss: 0.3454 - acc: 1.0000\n"
     ]
    },
    {
     "name": "stdout",
     "output_type": "stream",
     "text": [
      "Epoch 142/200\n",
      "11/11 - 0s - loss: 0.3391 - acc: 1.0000\n",
      "Epoch 143/200\n",
      "11/11 - 0s - loss: 0.3329 - acc: 1.0000\n",
      "Epoch 144/200\n",
      "11/11 - 0s - loss: 0.3268 - acc: 1.0000\n",
      "Epoch 145/200\n",
      "11/11 - 0s - loss: 0.3208 - acc: 1.0000\n",
      "Epoch 146/200\n",
      "11/11 - 0s - loss: 0.3150 - acc: 1.0000\n",
      "Epoch 147/200\n",
      "11/11 - 0s - loss: 0.3093 - acc: 1.0000\n",
      "Epoch 148/200\n",
      "11/11 - 0s - loss: 0.3037 - acc: 1.0000\n",
      "Epoch 149/200\n",
      "11/11 - 0s - loss: 0.2982 - acc: 1.0000\n",
      "Epoch 150/200\n",
      "11/11 - 0s - loss: 0.2928 - acc: 1.0000\n",
      "Epoch 151/200\n",
      "11/11 - 0s - loss: 0.2875 - acc: 1.0000\n",
      "Epoch 152/200\n",
      "11/11 - 0s - loss: 0.2823 - acc: 1.0000\n",
      "Epoch 153/200\n",
      "11/11 - 0s - loss: 0.2772 - acc: 1.0000\n",
      "Epoch 154/200\n",
      "11/11 - 0s - loss: 0.2722 - acc: 1.0000\n",
      "Epoch 155/200\n",
      "11/11 - 0s - loss: 0.2673 - acc: 1.0000\n",
      "Epoch 156/200\n",
      "11/11 - 0s - loss: 0.2624 - acc: 1.0000\n",
      "Epoch 157/200\n",
      "11/11 - 0s - loss: 0.2577 - acc: 1.0000\n",
      "Epoch 158/200\n",
      "11/11 - 0s - loss: 0.2531 - acc: 1.0000\n",
      "Epoch 159/200\n",
      "11/11 - 0s - loss: 0.2485 - acc: 1.0000\n",
      "Epoch 160/200\n",
      "11/11 - 0s - loss: 0.2440 - acc: 1.0000\n",
      "Epoch 161/200\n",
      "11/11 - 0s - loss: 0.2396 - acc: 1.0000\n",
      "Epoch 162/200\n",
      "11/11 - 0s - loss: 0.2353 - acc: 1.0000\n",
      "Epoch 163/200\n",
      "11/11 - 0s - loss: 0.2311 - acc: 1.0000\n",
      "Epoch 164/200\n",
      "11/11 - 0s - loss: 0.2269 - acc: 1.0000\n",
      "Epoch 165/200\n",
      "11/11 - 0s - loss: 0.2228 - acc: 1.0000\n",
      "Epoch 166/200\n",
      "11/11 - 0s - loss: 0.2188 - acc: 1.0000\n",
      "Epoch 167/200\n",
      "11/11 - 0s - loss: 0.2148 - acc: 1.0000\n",
      "Epoch 168/200\n",
      "11/11 - 0s - loss: 0.2109 - acc: 1.0000\n",
      "Epoch 169/200\n",
      "11/11 - 0s - loss: 0.2071 - acc: 1.0000\n",
      "Epoch 170/200\n",
      "11/11 - 0s - loss: 0.2033 - acc: 1.0000\n",
      "Epoch 171/200\n",
      "11/11 - 0s - loss: 0.1996 - acc: 1.0000\n",
      "Epoch 172/200\n",
      "11/11 - 0s - loss: 0.1960 - acc: 1.0000\n",
      "Epoch 173/200\n",
      "11/11 - 0s - loss: 0.1924 - acc: 1.0000\n",
      "Epoch 174/200\n",
      "11/11 - 0s - loss: 0.1889 - acc: 1.0000\n",
      "Epoch 175/200\n",
      "11/11 - 0s - loss: 0.1855 - acc: 1.0000\n",
      "Epoch 176/200\n",
      "11/11 - 0s - loss: 0.1821 - acc: 1.0000\n",
      "Epoch 177/200\n",
      "11/11 - 0s - loss: 0.1788 - acc: 1.0000\n",
      "Epoch 178/200\n",
      "11/11 - 0s - loss: 0.1755 - acc: 1.0000\n",
      "Epoch 179/200\n",
      "11/11 - 0s - loss: 0.1723 - acc: 1.0000\n",
      "Epoch 180/200\n",
      "11/11 - 0s - loss: 0.1691 - acc: 1.0000\n",
      "Epoch 181/200\n",
      "11/11 - 0s - loss: 0.1660 - acc: 1.0000\n",
      "Epoch 182/200\n",
      "11/11 - 0s - loss: 0.1629 - acc: 1.0000\n",
      "Epoch 183/200\n",
      "11/11 - 0s - loss: 0.1600 - acc: 1.0000\n",
      "Epoch 184/200\n",
      "11/11 - 0s - loss: 0.1570 - acc: 1.0000\n",
      "Epoch 185/200\n",
      "11/11 - 0s - loss: 0.1541 - acc: 1.0000\n",
      "Epoch 186/200\n",
      "11/11 - 0s - loss: 0.1513 - acc: 1.0000\n",
      "Epoch 187/200\n",
      "11/11 - 0s - loss: 0.1485 - acc: 1.0000\n",
      "Epoch 188/200\n",
      "11/11 - 0s - loss: 0.1458 - acc: 1.0000\n",
      "Epoch 189/200\n",
      "11/11 - 0s - loss: 0.1431 - acc: 1.0000\n",
      "Epoch 190/200\n",
      "11/11 - 0s - loss: 0.1405 - acc: 1.0000\n",
      "Epoch 191/200\n",
      "11/11 - 0s - loss: 0.1379 - acc: 1.0000\n",
      "Epoch 192/200\n",
      "11/11 - 0s - loss: 0.1353 - acc: 1.0000\n",
      "Epoch 193/200\n",
      "11/11 - 0s - loss: 0.1329 - acc: 1.0000\n",
      "Epoch 194/200\n",
      "11/11 - 0s - loss: 0.1304 - acc: 1.0000\n",
      "Epoch 195/200\n",
      "11/11 - 0s - loss: 0.1280 - acc: 1.0000\n",
      "Epoch 196/200\n",
      "11/11 - 0s - loss: 0.1257 - acc: 1.0000\n",
      "Epoch 197/200\n",
      "11/11 - 0s - loss: 0.1234 - acc: 1.0000\n",
      "Epoch 198/200\n",
      "11/11 - 0s - loss: 0.1212 - acc: 1.0000\n",
      "Epoch 199/200\n",
      "11/11 - 0s - loss: 0.1190 - acc: 1.0000\n",
      "Epoch 200/200\n",
      "11/11 - 0s - loss: 0.1168 - acc: 1.0000\n"
     ]
    },
    {
     "data": {
      "text/plain": [
       "<tensorflow.python.keras.callbacks.History at 0x1e4c3014848>"
      ]
     },
     "execution_count": 46,
     "metadata": {},
     "output_type": "execute_result"
    }
   ],
   "source": [
    "model.add(Embedding(vocab_size, 10, input_length=5))\n",
    "model.add(SimpleRNN(32))\n",
    "model.add(Dense(vocab_size, activation='softmax'))\n",
    "model.compile(loss='categorical_crossentropy', optimizer='adam', metrics=['accuracy'])\n",
    "model.fit(X, y, epochs=200, verbose=2)"
   ]
  },
  {
   "cell_type": "code",
   "execution_count": 51,
   "metadata": {},
   "outputs": [],
   "source": [
    "def sentence_generation(model, t, current_word, n):\n",
    "    init_word = current_word\n",
    "    sentence = ''    \n",
    "    for _ in range(n):\n",
    "        encoded = t.texts_to_sequences([current_word])[0]\n",
    "        encoded = pad_sequences([encoded], maxlen=5, padding='pre')\n",
    "        result = model.predict_classes(encoded, verbose=0)        \n",
    "        for word, index in t.word_index.items():\n",
    "            if index == result:\n",
    "                break\n",
    "        current_word = current_word + ' ' + word\n",
    "        sentence = sentence + ' ' + word    \n",
    "    sentence = init_word + sentence\n",
    "    return sentence"
   ]
  },
  {
   "cell_type": "code",
   "execution_count": 55,
   "metadata": {},
   "outputs": [
    {
     "name": "stdout",
     "output_type": "stream",
     "text": [
      "경마장에 있는 말이 뛰고 있다\n"
     ]
    }
   ],
   "source": [
    "print(sentence_generation(model, t, '경마장에', 4))"
   ]
  },
  {
   "cell_type": "code",
   "execution_count": 57,
   "metadata": {},
   "outputs": [
    {
     "name": "stdout",
     "output_type": "stream",
     "text": [
      "그의 말이 법이다\n"
     ]
    }
   ],
   "source": [
    "print(sentence_generation(model, t, '그의', 2))"
   ]
  },
  {
   "cell_type": "code",
   "execution_count": 61,
   "metadata": {},
   "outputs": [
    {
     "name": "stdout",
     "output_type": "stream",
     "text": [
      "가는 말이 고와야 오는 말이 곱다\n"
     ]
    }
   ],
   "source": [
    "print(sentence_generation(model, t, '가는', 5))"
   ]
  }
 ],
 "metadata": {
  "kernelspec": {
   "display_name": "Python 3 (ipykernel)",
   "language": "python",
   "name": "python3"
  },
  "language_info": {
   "codemirror_mode": {
    "name": "ipython",
    "version": 3
   },
   "file_extension": ".py",
   "mimetype": "text/x-python",
   "name": "python",
   "nbconvert_exporter": "python",
   "pygments_lexer": "ipython3",
   "version": "3.8.12"
  },
  "toc": {
   "base_numbering": 1,
   "nav_menu": {},
   "number_sections": true,
   "sideBar": true,
   "skip_h1_title": false,
   "title_cell": "Table of Contents",
   "title_sidebar": "Contents",
   "toc_cell": false,
   "toc_position": {},
   "toc_section_display": true,
   "toc_window_display": false
  }
 },
 "nbformat": 4,
 "nbformat_minor": 4
}
